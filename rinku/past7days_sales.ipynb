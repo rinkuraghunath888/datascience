{
  "nbformat": 4,
  "nbformat_minor": 0,
  "metadata": {
    "colab": {
      "name": "past7days_sales.ipynb",
      "provenance": []
    },
    "kernelspec": {
      "name": "python3",
      "display_name": "Python 3"
    },
    "language_info": {
      "name": "python"
    },
    "accelerator": "TPU"
  },
  "cells": [
    {
      "cell_type": "markdown",
      "metadata": {
        "id": "40ChEuOlawGv"
      },
      "source": [
        "FORD_CAR_SALES_PREDICTION"
      ]
    },
    {
      "cell_type": "code",
      "metadata": {
        "colab": {
          "base_uri": "https://localhost:8080/"
        },
        "id": "KE1RgIWe3L1W",
        "outputId": "08bc81fe-13f2-4e90-d163-fe7fe0a1392b"
      },
      "source": [
        "from google.colab import drive\n",
        "drive.mount('/content/drive')"
      ],
      "execution_count": null,
      "outputs": [
        {
          "output_type": "stream",
          "name": "stdout",
          "text": [
            "Drive already mounted at /content/drive; to attempt to forcibly remount, call drive.mount(\"/content/drive\", force_remount=True).\n"
          ]
        }
      ]
    },
    {
      "cell_type": "code",
      "metadata": {
        "id": "mcZYD_A5Rmrl"
      },
      "source": [
        "import pandas as pd\n",
        "import numpy as np\n",
        "import tensorflow"
      ],
      "execution_count": null,
      "outputs": []
    },
    {
      "cell_type": "code",
      "metadata": {
        "colab": {
          "base_uri": "https://localhost:8080/",
          "height": 437
        },
        "id": "3ZJ6OiGWSO1w",
        "outputId": "7752f07a-18b0-41c5-8128-8f306ff643d7"
      },
      "source": [
        "data=pd.read_csv(r\"/content/drive/MyDrive/Car_sales.csv\",parse_dates=True)\n",
        "data"
      ],
      "execution_count": null,
      "outputs": [
        {
          "output_type": "execute_result",
          "data": {
            "text/html": [
              "<div>\n",
              "<style scoped>\n",
              "    .dataframe tbody tr th:only-of-type {\n",
              "        vertical-align: middle;\n",
              "    }\n",
              "\n",
              "    .dataframe tbody tr th {\n",
              "        vertical-align: top;\n",
              "    }\n",
              "\n",
              "    .dataframe thead th {\n",
              "        text-align: right;\n",
              "    }\n",
              "</style>\n",
              "<table border=\"1\" class=\"dataframe\">\n",
              "  <thead>\n",
              "    <tr style=\"text-align: right;\">\n",
              "      <th></th>\n",
              "      <th>Manufacturer</th>\n",
              "      <th>Model</th>\n",
              "      <th>Sales_in_thousands</th>\n",
              "      <th>__year_resale_value</th>\n",
              "      <th>Vehicle_type</th>\n",
              "      <th>Price_in_thousands</th>\n",
              "      <th>Engine_size</th>\n",
              "      <th>Horsepower</th>\n",
              "      <th>Wheelbase</th>\n",
              "      <th>Width</th>\n",
              "      <th>Length</th>\n",
              "      <th>Curb_weight</th>\n",
              "      <th>Fuel_capacity</th>\n",
              "      <th>Fuel_efficiency</th>\n",
              "      <th>Latest_Launch</th>\n",
              "      <th>Power_perf_factor</th>\n",
              "    </tr>\n",
              "  </thead>\n",
              "  <tbody>\n",
              "    <tr>\n",
              "      <th>0</th>\n",
              "      <td>Acura</td>\n",
              "      <td>Integra</td>\n",
              "      <td>16.919</td>\n",
              "      <td>16.360</td>\n",
              "      <td>Passenger</td>\n",
              "      <td>21.50</td>\n",
              "      <td>1.8</td>\n",
              "      <td>140.0</td>\n",
              "      <td>101.2</td>\n",
              "      <td>67.3</td>\n",
              "      <td>172.4</td>\n",
              "      <td>2.639</td>\n",
              "      <td>13.2</td>\n",
              "      <td>28.0</td>\n",
              "      <td>2/2/2012</td>\n",
              "      <td>58.280150</td>\n",
              "    </tr>\n",
              "    <tr>\n",
              "      <th>1</th>\n",
              "      <td>Acura</td>\n",
              "      <td>TL</td>\n",
              "      <td>39.384</td>\n",
              "      <td>19.875</td>\n",
              "      <td>Passenger</td>\n",
              "      <td>28.40</td>\n",
              "      <td>3.2</td>\n",
              "      <td>225.0</td>\n",
              "      <td>108.1</td>\n",
              "      <td>70.3</td>\n",
              "      <td>192.9</td>\n",
              "      <td>3.517</td>\n",
              "      <td>17.2</td>\n",
              "      <td>25.0</td>\n",
              "      <td>6/3/2011</td>\n",
              "      <td>91.370778</td>\n",
              "    </tr>\n",
              "    <tr>\n",
              "      <th>2</th>\n",
              "      <td>Acura</td>\n",
              "      <td>CL</td>\n",
              "      <td>14.114</td>\n",
              "      <td>18.225</td>\n",
              "      <td>Passenger</td>\n",
              "      <td>NaN</td>\n",
              "      <td>3.2</td>\n",
              "      <td>225.0</td>\n",
              "      <td>106.9</td>\n",
              "      <td>70.6</td>\n",
              "      <td>192.0</td>\n",
              "      <td>3.470</td>\n",
              "      <td>17.2</td>\n",
              "      <td>26.0</td>\n",
              "      <td>1/4/2012</td>\n",
              "      <td>NaN</td>\n",
              "    </tr>\n",
              "    <tr>\n",
              "      <th>3</th>\n",
              "      <td>Acura</td>\n",
              "      <td>RL</td>\n",
              "      <td>8.588</td>\n",
              "      <td>29.725</td>\n",
              "      <td>Passenger</td>\n",
              "      <td>42.00</td>\n",
              "      <td>3.5</td>\n",
              "      <td>210.0</td>\n",
              "      <td>114.6</td>\n",
              "      <td>71.4</td>\n",
              "      <td>196.6</td>\n",
              "      <td>3.850</td>\n",
              "      <td>18.0</td>\n",
              "      <td>22.0</td>\n",
              "      <td>3/10/2011</td>\n",
              "      <td>91.389779</td>\n",
              "    </tr>\n",
              "    <tr>\n",
              "      <th>4</th>\n",
              "      <td>Audi</td>\n",
              "      <td>A4</td>\n",
              "      <td>20.397</td>\n",
              "      <td>22.255</td>\n",
              "      <td>Passenger</td>\n",
              "      <td>23.99</td>\n",
              "      <td>1.8</td>\n",
              "      <td>150.0</td>\n",
              "      <td>102.6</td>\n",
              "      <td>68.2</td>\n",
              "      <td>178.0</td>\n",
              "      <td>2.998</td>\n",
              "      <td>16.4</td>\n",
              "      <td>27.0</td>\n",
              "      <td>10/8/2011</td>\n",
              "      <td>62.777639</td>\n",
              "    </tr>\n",
              "    <tr>\n",
              "      <th>...</th>\n",
              "      <td>...</td>\n",
              "      <td>...</td>\n",
              "      <td>...</td>\n",
              "      <td>...</td>\n",
              "      <td>...</td>\n",
              "      <td>...</td>\n",
              "      <td>...</td>\n",
              "      <td>...</td>\n",
              "      <td>...</td>\n",
              "      <td>...</td>\n",
              "      <td>...</td>\n",
              "      <td>...</td>\n",
              "      <td>...</td>\n",
              "      <td>...</td>\n",
              "      <td>...</td>\n",
              "      <td>...</td>\n",
              "    </tr>\n",
              "    <tr>\n",
              "      <th>152</th>\n",
              "      <td>Volvo</td>\n",
              "      <td>V40</td>\n",
              "      <td>3.545</td>\n",
              "      <td>NaN</td>\n",
              "      <td>Passenger</td>\n",
              "      <td>24.40</td>\n",
              "      <td>1.9</td>\n",
              "      <td>160.0</td>\n",
              "      <td>100.5</td>\n",
              "      <td>67.6</td>\n",
              "      <td>176.6</td>\n",
              "      <td>3.042</td>\n",
              "      <td>15.8</td>\n",
              "      <td>25.0</td>\n",
              "      <td>9/21/2011</td>\n",
              "      <td>66.498812</td>\n",
              "    </tr>\n",
              "    <tr>\n",
              "      <th>153</th>\n",
              "      <td>Volvo</td>\n",
              "      <td>S70</td>\n",
              "      <td>15.245</td>\n",
              "      <td>NaN</td>\n",
              "      <td>Passenger</td>\n",
              "      <td>27.50</td>\n",
              "      <td>2.4</td>\n",
              "      <td>168.0</td>\n",
              "      <td>104.9</td>\n",
              "      <td>69.3</td>\n",
              "      <td>185.9</td>\n",
              "      <td>3.208</td>\n",
              "      <td>17.9</td>\n",
              "      <td>25.0</td>\n",
              "      <td>11/24/2012</td>\n",
              "      <td>70.654495</td>\n",
              "    </tr>\n",
              "    <tr>\n",
              "      <th>154</th>\n",
              "      <td>Volvo</td>\n",
              "      <td>V70</td>\n",
              "      <td>17.531</td>\n",
              "      <td>NaN</td>\n",
              "      <td>Passenger</td>\n",
              "      <td>28.80</td>\n",
              "      <td>2.4</td>\n",
              "      <td>168.0</td>\n",
              "      <td>104.9</td>\n",
              "      <td>69.3</td>\n",
              "      <td>186.2</td>\n",
              "      <td>3.259</td>\n",
              "      <td>17.9</td>\n",
              "      <td>25.0</td>\n",
              "      <td>6/25/2011</td>\n",
              "      <td>71.155978</td>\n",
              "    </tr>\n",
              "    <tr>\n",
              "      <th>155</th>\n",
              "      <td>Volvo</td>\n",
              "      <td>C70</td>\n",
              "      <td>3.493</td>\n",
              "      <td>NaN</td>\n",
              "      <td>Passenger</td>\n",
              "      <td>45.50</td>\n",
              "      <td>2.3</td>\n",
              "      <td>236.0</td>\n",
              "      <td>104.9</td>\n",
              "      <td>71.5</td>\n",
              "      <td>185.7</td>\n",
              "      <td>3.601</td>\n",
              "      <td>18.5</td>\n",
              "      <td>23.0</td>\n",
              "      <td>4/26/2011</td>\n",
              "      <td>101.623357</td>\n",
              "    </tr>\n",
              "    <tr>\n",
              "      <th>156</th>\n",
              "      <td>Volvo</td>\n",
              "      <td>S80</td>\n",
              "      <td>18.969</td>\n",
              "      <td>NaN</td>\n",
              "      <td>Passenger</td>\n",
              "      <td>36.00</td>\n",
              "      <td>2.9</td>\n",
              "      <td>201.0</td>\n",
              "      <td>109.9</td>\n",
              "      <td>72.1</td>\n",
              "      <td>189.8</td>\n",
              "      <td>3.600</td>\n",
              "      <td>21.1</td>\n",
              "      <td>24.0</td>\n",
              "      <td>11/14/2011</td>\n",
              "      <td>85.735655</td>\n",
              "    </tr>\n",
              "  </tbody>\n",
              "</table>\n",
              "<p>157 rows × 16 columns</p>\n",
              "</div>"
            ],
            "text/plain": [
              "    Manufacturer    Model  ...  Latest_Launch  Power_perf_factor\n",
              "0          Acura  Integra  ...       2/2/2012          58.280150\n",
              "1          Acura       TL  ...       6/3/2011          91.370778\n",
              "2          Acura       CL  ...       1/4/2012                NaN\n",
              "3          Acura       RL  ...      3/10/2011          91.389779\n",
              "4           Audi       A4  ...      10/8/2011          62.777639\n",
              "..           ...      ...  ...            ...                ...\n",
              "152        Volvo      V40  ...      9/21/2011          66.498812\n",
              "153        Volvo      S70  ...     11/24/2012          70.654495\n",
              "154        Volvo      V70  ...      6/25/2011          71.155978\n",
              "155        Volvo      C70  ...      4/26/2011         101.623357\n",
              "156        Volvo      S80  ...     11/14/2011          85.735655\n",
              "\n",
              "[157 rows x 16 columns]"
            ]
          },
          "metadata": {},
          "execution_count": 86
        }
      ]
    },
    {
      "cell_type": "code",
      "metadata": {
        "id": "9jafXOKpS-WS"
      },
      "source": [
        "data = data.drop(['Vehicle_type'],axis=1)"
      ],
      "execution_count": null,
      "outputs": []
    },
    {
      "cell_type": "code",
      "metadata": {
        "colab": {
          "base_uri": "https://localhost:8080/",
          "height": 437
        },
        "id": "-pS5WSh4VVI_",
        "outputId": "3c7c297a-cd21-40b0-d776-6807d1f40e03"
      },
      "source": [
        "data"
      ],
      "execution_count": null,
      "outputs": [
        {
          "output_type": "execute_result",
          "data": {
            "text/html": [
              "<div>\n",
              "<style scoped>\n",
              "    .dataframe tbody tr th:only-of-type {\n",
              "        vertical-align: middle;\n",
              "    }\n",
              "\n",
              "    .dataframe tbody tr th {\n",
              "        vertical-align: top;\n",
              "    }\n",
              "\n",
              "    .dataframe thead th {\n",
              "        text-align: right;\n",
              "    }\n",
              "</style>\n",
              "<table border=\"1\" class=\"dataframe\">\n",
              "  <thead>\n",
              "    <tr style=\"text-align: right;\">\n",
              "      <th></th>\n",
              "      <th>Manufacturer</th>\n",
              "      <th>Sales_in_thousands</th>\n",
              "      <th>__year_resale_value</th>\n",
              "      <th>Price_in_thousands</th>\n",
              "      <th>Engine_size</th>\n",
              "      <th>Horsepower</th>\n",
              "      <th>Wheelbase</th>\n",
              "      <th>Width</th>\n",
              "      <th>Length</th>\n",
              "      <th>Curb_weight</th>\n",
              "      <th>Fuel_capacity</th>\n",
              "      <th>Fuel_efficiency</th>\n",
              "      <th>Latest_Launch</th>\n",
              "      <th>Power_perf_factor</th>\n",
              "    </tr>\n",
              "  </thead>\n",
              "  <tbody>\n",
              "    <tr>\n",
              "      <th>0</th>\n",
              "      <td>Acura</td>\n",
              "      <td>16.919</td>\n",
              "      <td>16.360</td>\n",
              "      <td>21.50</td>\n",
              "      <td>1.8</td>\n",
              "      <td>140.0</td>\n",
              "      <td>101.2</td>\n",
              "      <td>67.3</td>\n",
              "      <td>172.4</td>\n",
              "      <td>2.639</td>\n",
              "      <td>13.2</td>\n",
              "      <td>28.0</td>\n",
              "      <td>2/2/2012</td>\n",
              "      <td>58.280150</td>\n",
              "    </tr>\n",
              "    <tr>\n",
              "      <th>1</th>\n",
              "      <td>Acura</td>\n",
              "      <td>39.384</td>\n",
              "      <td>19.875</td>\n",
              "      <td>28.40</td>\n",
              "      <td>3.2</td>\n",
              "      <td>225.0</td>\n",
              "      <td>108.1</td>\n",
              "      <td>70.3</td>\n",
              "      <td>192.9</td>\n",
              "      <td>3.517</td>\n",
              "      <td>17.2</td>\n",
              "      <td>25.0</td>\n",
              "      <td>6/3/2011</td>\n",
              "      <td>91.370778</td>\n",
              "    </tr>\n",
              "    <tr>\n",
              "      <th>2</th>\n",
              "      <td>Acura</td>\n",
              "      <td>14.114</td>\n",
              "      <td>18.225</td>\n",
              "      <td>NaN</td>\n",
              "      <td>3.2</td>\n",
              "      <td>225.0</td>\n",
              "      <td>106.9</td>\n",
              "      <td>70.6</td>\n",
              "      <td>192.0</td>\n",
              "      <td>3.470</td>\n",
              "      <td>17.2</td>\n",
              "      <td>26.0</td>\n",
              "      <td>1/4/2012</td>\n",
              "      <td>NaN</td>\n",
              "    </tr>\n",
              "    <tr>\n",
              "      <th>3</th>\n",
              "      <td>Acura</td>\n",
              "      <td>8.588</td>\n",
              "      <td>29.725</td>\n",
              "      <td>42.00</td>\n",
              "      <td>3.5</td>\n",
              "      <td>210.0</td>\n",
              "      <td>114.6</td>\n",
              "      <td>71.4</td>\n",
              "      <td>196.6</td>\n",
              "      <td>3.850</td>\n",
              "      <td>18.0</td>\n",
              "      <td>22.0</td>\n",
              "      <td>3/10/2011</td>\n",
              "      <td>91.389779</td>\n",
              "    </tr>\n",
              "    <tr>\n",
              "      <th>4</th>\n",
              "      <td>Audi</td>\n",
              "      <td>20.397</td>\n",
              "      <td>22.255</td>\n",
              "      <td>23.99</td>\n",
              "      <td>1.8</td>\n",
              "      <td>150.0</td>\n",
              "      <td>102.6</td>\n",
              "      <td>68.2</td>\n",
              "      <td>178.0</td>\n",
              "      <td>2.998</td>\n",
              "      <td>16.4</td>\n",
              "      <td>27.0</td>\n",
              "      <td>10/8/2011</td>\n",
              "      <td>62.777639</td>\n",
              "    </tr>\n",
              "    <tr>\n",
              "      <th>...</th>\n",
              "      <td>...</td>\n",
              "      <td>...</td>\n",
              "      <td>...</td>\n",
              "      <td>...</td>\n",
              "      <td>...</td>\n",
              "      <td>...</td>\n",
              "      <td>...</td>\n",
              "      <td>...</td>\n",
              "      <td>...</td>\n",
              "      <td>...</td>\n",
              "      <td>...</td>\n",
              "      <td>...</td>\n",
              "      <td>...</td>\n",
              "      <td>...</td>\n",
              "    </tr>\n",
              "    <tr>\n",
              "      <th>152</th>\n",
              "      <td>Volvo</td>\n",
              "      <td>3.545</td>\n",
              "      <td>NaN</td>\n",
              "      <td>24.40</td>\n",
              "      <td>1.9</td>\n",
              "      <td>160.0</td>\n",
              "      <td>100.5</td>\n",
              "      <td>67.6</td>\n",
              "      <td>176.6</td>\n",
              "      <td>3.042</td>\n",
              "      <td>15.8</td>\n",
              "      <td>25.0</td>\n",
              "      <td>9/21/2011</td>\n",
              "      <td>66.498812</td>\n",
              "    </tr>\n",
              "    <tr>\n",
              "      <th>153</th>\n",
              "      <td>Volvo</td>\n",
              "      <td>15.245</td>\n",
              "      <td>NaN</td>\n",
              "      <td>27.50</td>\n",
              "      <td>2.4</td>\n",
              "      <td>168.0</td>\n",
              "      <td>104.9</td>\n",
              "      <td>69.3</td>\n",
              "      <td>185.9</td>\n",
              "      <td>3.208</td>\n",
              "      <td>17.9</td>\n",
              "      <td>25.0</td>\n",
              "      <td>11/24/2012</td>\n",
              "      <td>70.654495</td>\n",
              "    </tr>\n",
              "    <tr>\n",
              "      <th>154</th>\n",
              "      <td>Volvo</td>\n",
              "      <td>17.531</td>\n",
              "      <td>NaN</td>\n",
              "      <td>28.80</td>\n",
              "      <td>2.4</td>\n",
              "      <td>168.0</td>\n",
              "      <td>104.9</td>\n",
              "      <td>69.3</td>\n",
              "      <td>186.2</td>\n",
              "      <td>3.259</td>\n",
              "      <td>17.9</td>\n",
              "      <td>25.0</td>\n",
              "      <td>6/25/2011</td>\n",
              "      <td>71.155978</td>\n",
              "    </tr>\n",
              "    <tr>\n",
              "      <th>155</th>\n",
              "      <td>Volvo</td>\n",
              "      <td>3.493</td>\n",
              "      <td>NaN</td>\n",
              "      <td>45.50</td>\n",
              "      <td>2.3</td>\n",
              "      <td>236.0</td>\n",
              "      <td>104.9</td>\n",
              "      <td>71.5</td>\n",
              "      <td>185.7</td>\n",
              "      <td>3.601</td>\n",
              "      <td>18.5</td>\n",
              "      <td>23.0</td>\n",
              "      <td>4/26/2011</td>\n",
              "      <td>101.623357</td>\n",
              "    </tr>\n",
              "    <tr>\n",
              "      <th>156</th>\n",
              "      <td>Volvo</td>\n",
              "      <td>18.969</td>\n",
              "      <td>NaN</td>\n",
              "      <td>36.00</td>\n",
              "      <td>2.9</td>\n",
              "      <td>201.0</td>\n",
              "      <td>109.9</td>\n",
              "      <td>72.1</td>\n",
              "      <td>189.8</td>\n",
              "      <td>3.600</td>\n",
              "      <td>21.1</td>\n",
              "      <td>24.0</td>\n",
              "      <td>11/14/2011</td>\n",
              "      <td>85.735655</td>\n",
              "    </tr>\n",
              "  </tbody>\n",
              "</table>\n",
              "<p>157 rows × 14 columns</p>\n",
              "</div>"
            ],
            "text/plain": [
              "    Manufacturer  Sales_in_thousands  ...  Latest_Launch  Power_perf_factor\n",
              "0          Acura              16.919  ...       2/2/2012          58.280150\n",
              "1          Acura              39.384  ...       6/3/2011          91.370778\n",
              "2          Acura              14.114  ...       1/4/2012                NaN\n",
              "3          Acura               8.588  ...      3/10/2011          91.389779\n",
              "4           Audi              20.397  ...      10/8/2011          62.777639\n",
              "..           ...                 ...  ...            ...                ...\n",
              "152        Volvo               3.545  ...      9/21/2011          66.498812\n",
              "153        Volvo              15.245  ...     11/24/2012          70.654495\n",
              "154        Volvo              17.531  ...      6/25/2011          71.155978\n",
              "155        Volvo               3.493  ...      4/26/2011         101.623357\n",
              "156        Volvo              18.969  ...     11/14/2011          85.735655\n",
              "\n",
              "[157 rows x 14 columns]"
            ]
          },
          "metadata": {},
          "execution_count": 95
        }
      ]
    },
    {
      "cell_type": "code",
      "metadata": {
        "colab": {
          "base_uri": "https://localhost:8080/"
        },
        "id": "qoxg9Nh3gZ5-",
        "outputId": "a5b85bd9-dc0f-4b74-d2f2-de5f950f8e87"
      },
      "source": [
        "data.isna().any()"
      ],
      "execution_count": null,
      "outputs": [
        {
          "output_type": "execute_result",
          "data": {
            "text/plain": [
              "Manufacturer           False\n",
              "Sales_in_thousands     False\n",
              "__year_resale_value     True\n",
              "Price_in_thousands      True\n",
              "Engine_size             True\n",
              "Horsepower              True\n",
              "Wheelbase               True\n",
              "Width                   True\n",
              "Length                  True\n",
              "Curb_weight             True\n",
              "Fuel_capacity           True\n",
              "Fuel_efficiency         True\n",
              "Latest_Launch          False\n",
              "Power_perf_factor       True\n",
              "dtype: bool"
            ]
          },
          "metadata": {},
          "execution_count": 99
        }
      ]
    },
    {
      "cell_type": "code",
      "metadata": {
        "colab": {
          "base_uri": "https://localhost:8080/",
          "height": 128
        },
        "id": "QMrIC8hHfQeR",
        "outputId": "831c81d4-2558-4850-d490-6e3825a72020"
      },
      "source": [
        "data1=int(data['__year_resale_value'].mean())\n",
        "data['__year_resale_value'= data['__year_resale_value'].fillna(data1)]\n",
        "data1 "
      ],
      "execution_count": null,
      "outputs": [
        {
          "output_type": "error",
          "ename": "SyntaxError",
          "evalue": "ignored",
          "traceback": [
            "\u001b[0;36m  File \u001b[0;32m\"<ipython-input-104-73b8ff5b182b>\"\u001b[0;36m, line \u001b[0;32m2\u001b[0m\n\u001b[0;31m    data['__year_resale_value'= data['__year_resale_value'].fillna(data1)]\u001b[0m\n\u001b[0m                              ^\u001b[0m\n\u001b[0;31mSyntaxError\u001b[0m\u001b[0;31m:\u001b[0m invalid syntax\n"
          ]
        }
      ]
    },
    {
      "cell_type": "code",
      "metadata": {
        "colab": {
          "base_uri": "https://localhost:8080/"
        },
        "id": "lvJ3Czf4SbfZ",
        "outputId": "192d1255-0e90-4501-b706-0d755ddccde5"
      },
      "source": [
        "data.count()"
      ],
      "execution_count": null,
      "outputs": [
        {
          "output_type": "execute_result",
          "data": {
            "text/plain": [
              "Manufacturer           157\n",
              "Sales_in_thousands     157\n",
              "__year_resale_value    121\n",
              "Vehicle_type           157\n",
              "Price_in_thousands     155\n",
              "Engine_size            156\n",
              "Horsepower             156\n",
              "Wheelbase              156\n",
              "Width                  156\n",
              "Length                 156\n",
              "Curb_weight            155\n",
              "Fuel_capacity          156\n",
              "Fuel_efficiency        154\n",
              "Latest_Launch          157\n",
              "Power_perf_factor      155\n",
              "dtype: int64"
            ]
          },
          "metadata": {},
          "execution_count": 93
        }
      ]
    },
    {
      "cell_type": "code",
      "metadata": {
        "id": "Xev9nIqeSnAW"
      },
      "source": [
        "train_data=data[data['Date']<'2019-01-01'].copy()\n",
        "test_data=data[data['Date']>='2019-01-01'].copy()"
      ],
      "execution_count": null,
      "outputs": []
    },
    {
      "cell_type": "code",
      "metadata": {
        "colab": {
          "base_uri": "https://localhost:8080/"
        },
        "id": "pPGMz6h4T5c9",
        "outputId": "5607d779-f0a9-44cb-c421-548ab650e0b5"
      },
      "source": [
        "len(train_data),len(test_data)"
      ],
      "execution_count": null,
      "outputs": [
        {
          "output_type": "execute_result",
          "data": {
            "text/plain": [
              "(5072, 7366)"
            ]
          },
          "metadata": {},
          "execution_count": 51
        }
      ]
    },
    {
      "cell_type": "code",
      "metadata": {
        "colab": {
          "base_uri": "https://localhost:8080/",
          "height": 203
        },
        "id": "-iz-g-y0TybY",
        "outputId": "8bd7d43a-3c70-472e-d3d5-36c42a99d1a5"
      },
      "source": [
        "training_data=train_data.drop(['Date','Adj Close'],axis=1)\n",
        "training_data.head()"
      ],
      "execution_count": null,
      "outputs": [
        {
          "output_type": "execute_result",
          "data": {
            "text/html": [
              "<div>\n",
              "<style scoped>\n",
              "    .dataframe tbody tr th:only-of-type {\n",
              "        vertical-align: middle;\n",
              "    }\n",
              "\n",
              "    .dataframe tbody tr th {\n",
              "        vertical-align: top;\n",
              "    }\n",
              "\n",
              "    .dataframe thead th {\n",
              "        text-align: right;\n",
              "    }\n",
              "</style>\n",
              "<table border=\"1\" class=\"dataframe\">\n",
              "  <thead>\n",
              "    <tr style=\"text-align: right;\">\n",
              "      <th></th>\n",
              "      <th>Open</th>\n",
              "      <th>High</th>\n",
              "      <th>Low</th>\n",
              "      <th>Close</th>\n",
              "      <th>Volume</th>\n",
              "    </tr>\n",
              "  </thead>\n",
              "  <tbody>\n",
              "    <tr>\n",
              "      <th>85</th>\n",
              "      <td>2.161330</td>\n",
              "      <td>2.173495</td>\n",
              "      <td>2.157275</td>\n",
              "      <td>2.165385</td>\n",
              "      <td>712079</td>\n",
              "    </tr>\n",
              "    <tr>\n",
              "      <th>86</th>\n",
              "      <td>2.165385</td>\n",
              "      <td>2.165385</td>\n",
              "      <td>2.128890</td>\n",
              "      <td>2.132945</td>\n",
              "      <td>835383</td>\n",
              "    </tr>\n",
              "    <tr>\n",
              "      <th>87</th>\n",
              "      <td>2.132945</td>\n",
              "      <td>2.149165</td>\n",
              "      <td>2.128890</td>\n",
              "      <td>2.128890</td>\n",
              "      <td>795309</td>\n",
              "    </tr>\n",
              "    <tr>\n",
              "      <th>88</th>\n",
              "      <td>2.128890</td>\n",
              "      <td>2.128890</td>\n",
              "      <td>2.108615</td>\n",
              "      <td>2.116725</td>\n",
              "      <td>650427</td>\n",
              "    </tr>\n",
              "    <tr>\n",
              "      <th>89</th>\n",
              "      <td>2.116725</td>\n",
              "      <td>2.120780</td>\n",
              "      <td>2.080229</td>\n",
              "      <td>2.116725</td>\n",
              "      <td>1103568</td>\n",
              "    </tr>\n",
              "  </tbody>\n",
              "</table>\n",
              "</div>"
            ],
            "text/plain": [
              "        Open      High       Low     Close   Volume\n",
              "85  2.161330  2.173495  2.157275  2.165385   712079\n",
              "86  2.165385  2.165385  2.128890  2.132945   835383\n",
              "87  2.132945  2.149165  2.128890  2.128890   795309\n",
              "88  2.128890  2.128890  2.108615  2.116725   650427\n",
              "89  2.116725  2.120780  2.080229  2.116725  1103568"
            ]
          },
          "metadata": {},
          "execution_count": 52
        }
      ]
    },
    {
      "cell_type": "code",
      "metadata": {
        "colab": {
          "base_uri": "https://localhost:8080/"
        },
        "id": "i892VnsMURDg",
        "outputId": "3c0e09ea-aecd-4b94-b708-72bcb28310b4"
      },
      "source": [
        "len(training_data)"
      ],
      "execution_count": null,
      "outputs": [
        {
          "output_type": "execute_result",
          "data": {
            "text/plain": [
              "5072"
            ]
          },
          "metadata": {},
          "execution_count": 53
        }
      ]
    },
    {
      "cell_type": "code",
      "metadata": {
        "colab": {
          "base_uri": "https://localhost:8080/"
        },
        "id": "8p9h2oHmUnRB",
        "outputId": "a08ba25d-d256-4314-8a52-1fefc8cc0bc0"
      },
      "source": [
        "training_data.shape"
      ],
      "execution_count": null,
      "outputs": [
        {
          "output_type": "execute_result",
          "data": {
            "text/plain": [
              "(5072, 5)"
            ]
          },
          "metadata": {},
          "execution_count": 54
        }
      ]
    },
    {
      "cell_type": "code",
      "metadata": {
        "id": "xsxoJcjSUqwN"
      },
      "source": [
        "from sklearn.preprocessing import MinMaxScaler"
      ],
      "execution_count": null,
      "outputs": []
    },
    {
      "cell_type": "code",
      "metadata": {
        "id": "1wcYBbs9Ux9q"
      },
      "source": [
        "scaler=MinMaxScaler(feature_range=(0,1))\n",
        "training_data=scaler.fit_transform(training_data)"
      ],
      "execution_count": null,
      "outputs": []
    },
    {
      "cell_type": "code",
      "metadata": {
        "colab": {
          "base_uri": "https://localhost:8080/"
        },
        "id": "1qCmls9hU07V",
        "outputId": "a2a8b11b-81e1-4fd4-b847-28b6435a7e1f"
      },
      "source": [
        "training_data.shape[0]"
      ],
      "execution_count": null,
      "outputs": [
        {
          "output_type": "execute_result",
          "data": {
            "text/plain": [
              "5072"
            ]
          },
          "metadata": {},
          "execution_count": 57
        }
      ]
    },
    {
      "cell_type": "code",
      "metadata": {
        "id": "tEWJCFVQU4HI"
      },
      "source": [
        "X_train=[]\n",
        "y_train=[]\n",
        "timestamp=7\n",
        "for i in range(timestamp,len(training_data)):\n",
        "    X_train.append(training_data[i-timestamp:i])\n",
        "    y_train.append(training_data[i,3])"
      ],
      "execution_count": null,
      "outputs": []
    },
    {
      "cell_type": "code",
      "metadata": {
        "id": "b3lIWEtCVGb9"
      },
      "source": [
        "X_train=np.array(X_train)\n",
        "y_train=np.array(y_train)"
      ],
      "execution_count": null,
      "outputs": []
    },
    {
      "cell_type": "code",
      "metadata": {
        "colab": {
          "base_uri": "https://localhost:8080/"
        },
        "id": "bNBdyagoViGj",
        "outputId": "cf4d3cf4-c5e0-437f-c3de-e15267bdb1f0"
      },
      "source": [
        "X_train.shape,y_train.shape"
      ],
      "execution_count": null,
      "outputs": [
        {
          "output_type": "execute_result",
          "data": {
            "text/plain": [
              "((5065, 7, 5), (5065,))"
            ]
          },
          "metadata": {},
          "execution_count": 60
        }
      ]
    },
    {
      "cell_type": "code",
      "metadata": {
        "colab": {
          "base_uri": "https://localhost:8080/"
        },
        "id": "eSOmB0QSVkcL",
        "outputId": "27fc795f-7944-4bc3-9e2f-ff6bcc95bb49"
      },
      "source": [
        "X_train.shape[0],X_train.shape[1]"
      ],
      "execution_count": null,
      "outputs": [
        {
          "output_type": "execute_result",
          "data": {
            "text/plain": [
              "(5065, 7)"
            ]
          },
          "metadata": {},
          "execution_count": 61
        }
      ]
    },
    {
      "cell_type": "markdown",
      "metadata": {
        "id": "IQdfMc8QVy6H"
      },
      "source": [
        "building model\n"
      ]
    },
    {
      "cell_type": "code",
      "metadata": {
        "id": "b6cFA3Z8VyhS"
      },
      "source": [
        "timestep=7\n",
        "n_features=5"
      ],
      "execution_count": null,
      "outputs": []
    },
    {
      "cell_type": "code",
      "metadata": {
        "id": "Z8UM2uikVnDV"
      },
      "source": [
        "from tensorflow.keras.models import Sequential\n",
        "from tensorflow.keras.layers import Dense,LSTM,Flatten,Dropout"
      ],
      "execution_count": null,
      "outputs": []
    },
    {
      "cell_type": "code",
      "metadata": {
        "id": "B9kq9i-BVvLB"
      },
      "source": [
        "model=Sequential()\n",
        "model.add(LSTM(units=60,activation='relu',return_sequences=True,input_shape=(timestep,n_features)))\n",
        "model.add(LSTM(units=30,activation='relu',return_sequences=True))\n",
        "model.add(Dropout(0.2))\n",
        "model.add(LSTM(units=60,activation='relu',return_sequences=True))\n",
        "model.add(Dropout(0.2))\n",
        "model.add(LSTM(units=78,activation='relu'))\n",
        "model.add(Dense(1))"
      ],
      "execution_count": null,
      "outputs": []
    },
    {
      "cell_type": "code",
      "metadata": {
        "id": "NBdLyo2pWL0e"
      },
      "source": [
        "model.compile(optimizer='adam',loss='mse',metrics=\"accuracy\")"
      ],
      "execution_count": null,
      "outputs": []
    },
    {
      "cell_type": "code",
      "metadata": {
        "colab": {
          "base_uri": "https://localhost:8080/"
        },
        "id": "EwHM7f9oWPfI",
        "outputId": "8fff5b69-8b39-40b8-8de5-ea6af7baac5d"
      },
      "source": [
        "model.summary()"
      ],
      "execution_count": null,
      "outputs": [
        {
          "output_type": "stream",
          "name": "stdout",
          "text": [
            "Model: \"sequential_1\"\n",
            "_________________________________________________________________\n",
            "Layer (type)                 Output Shape              Param #   \n",
            "=================================================================\n",
            "lstm_4 (LSTM)                (None, 7, 60)             15840     \n",
            "_________________________________________________________________\n",
            "lstm_5 (LSTM)                (None, 7, 30)             10920     \n",
            "_________________________________________________________________\n",
            "dropout_2 (Dropout)          (None, 7, 30)             0         \n",
            "_________________________________________________________________\n",
            "lstm_6 (LSTM)                (None, 7, 60)             21840     \n",
            "_________________________________________________________________\n",
            "dropout_3 (Dropout)          (None, 7, 60)             0         \n",
            "_________________________________________________________________\n",
            "lstm_7 (LSTM)                (None, 78)                43368     \n",
            "_________________________________________________________________\n",
            "dense_1 (Dense)              (None, 1)                 79        \n",
            "=================================================================\n",
            "Total params: 92,047\n",
            "Trainable params: 92,047\n",
            "Non-trainable params: 0\n",
            "_________________________________________________________________\n"
          ]
        }
      ]
    },
    {
      "cell_type": "code",
      "metadata": {
        "colab": {
          "base_uri": "https://localhost:8080/"
        },
        "id": "EbOQR-VuWSu_",
        "outputId": "739b7e79-0358-4f47-f522-82eb5450b100"
      },
      "source": [
        "hist=model.fit(X_train,y_train,epochs=10,batch_size=60)"
      ],
      "execution_count": null,
      "outputs": [
        {
          "output_type": "stream",
          "name": "stdout",
          "text": [
            "Epoch 1/10\n",
            "85/85 [==============================] - 6s 23ms/step - loss: 0.0181 - accuracy: 3.9487e-04\n",
            "Epoch 2/10\n",
            "85/85 [==============================] - 2s 23ms/step - loss: 9.6513e-04 - accuracy: 3.9487e-04\n",
            "Epoch 3/10\n",
            "85/85 [==============================] - 2s 23ms/step - loss: 8.1017e-04 - accuracy: 3.9487e-04\n",
            "Epoch 4/10\n",
            "85/85 [==============================] - 2s 24ms/step - loss: 7.5231e-04 - accuracy: 3.9487e-04\n",
            "Epoch 5/10\n",
            "85/85 [==============================] - 2s 24ms/step - loss: 7.9991e-04 - accuracy: 3.9487e-04\n",
            "Epoch 6/10\n",
            "85/85 [==============================] - 2s 23ms/step - loss: 6.8705e-04 - accuracy: 3.9487e-04\n",
            "Epoch 7/10\n",
            "85/85 [==============================] - 2s 23ms/step - loss: 6.8031e-04 - accuracy: 3.9487e-04\n",
            "Epoch 8/10\n",
            "85/85 [==============================] - 2s 23ms/step - loss: 6.3399e-04 - accuracy: 3.9487e-04\n",
            "Epoch 9/10\n",
            "85/85 [==============================] - 2s 23ms/step - loss: 6.5789e-04 - accuracy: 3.9487e-04\n",
            "Epoch 10/10\n",
            "85/85 [==============================] - 2s 23ms/step - loss: 6.1325e-04 - accuracy: 3.9487e-04\n"
          ]
        }
      ]
    },
    {
      "cell_type": "code",
      "metadata": {
        "colab": {
          "base_uri": "https://localhost:8080/",
          "height": 203
        },
        "id": "UmlJZz9RWYSH",
        "outputId": "4594d9c3-0176-41fc-d801-ba3c8d3fca60"
      },
      "source": [
        "test_data.head()"
      ],
      "execution_count": null,
      "outputs": [
        {
          "output_type": "execute_result",
          "data": {
            "text/html": [
              "<div>\n",
              "<style scoped>\n",
              "    .dataframe tbody tr th:only-of-type {\n",
              "        vertical-align: middle;\n",
              "    }\n",
              "\n",
              "    .dataframe tbody tr th {\n",
              "        vertical-align: top;\n",
              "    }\n",
              "\n",
              "    .dataframe thead th {\n",
              "        text-align: right;\n",
              "    }\n",
              "</style>\n",
              "<table border=\"1\" class=\"dataframe\">\n",
              "  <thead>\n",
              "    <tr style=\"text-align: right;\">\n",
              "      <th></th>\n",
              "      <th>Date</th>\n",
              "      <th>Open</th>\n",
              "      <th>High</th>\n",
              "      <th>Low</th>\n",
              "      <th>Close</th>\n",
              "      <th>Adj Close</th>\n",
              "      <th>Volume</th>\n",
              "    </tr>\n",
              "  </thead>\n",
              "  <tbody>\n",
              "    <tr>\n",
              "      <th>0</th>\n",
              "      <td>6/1/1972</td>\n",
              "      <td>0.000000</td>\n",
              "      <td>2.173495</td>\n",
              "      <td>2.149165</td>\n",
              "      <td>2.153220</td>\n",
              "      <td>0.277406</td>\n",
              "      <td>1091238</td>\n",
              "    </tr>\n",
              "    <tr>\n",
              "      <th>1</th>\n",
              "      <td>6/2/1972</td>\n",
              "      <td>2.153220</td>\n",
              "      <td>2.173495</td>\n",
              "      <td>2.141055</td>\n",
              "      <td>2.149165</td>\n",
              "      <td>0.276884</td>\n",
              "      <td>1174468</td>\n",
              "    </tr>\n",
              "    <tr>\n",
              "      <th>2</th>\n",
              "      <td>6/5/1972</td>\n",
              "      <td>2.149165</td>\n",
              "      <td>2.169440</td>\n",
              "      <td>2.141055</td>\n",
              "      <td>2.149165</td>\n",
              "      <td>0.276884</td>\n",
              "      <td>5209582</td>\n",
              "    </tr>\n",
              "    <tr>\n",
              "      <th>3</th>\n",
              "      <td>6/6/1972</td>\n",
              "      <td>2.149165</td>\n",
              "      <td>2.157275</td>\n",
              "      <td>2.116725</td>\n",
              "      <td>2.124835</td>\n",
              "      <td>0.273750</td>\n",
              "      <td>1424158</td>\n",
              "    </tr>\n",
              "    <tr>\n",
              "      <th>4</th>\n",
              "      <td>6/7/1972</td>\n",
              "      <td>2.124835</td>\n",
              "      <td>2.137000</td>\n",
              "      <td>2.112670</td>\n",
              "      <td>2.112670</td>\n",
              "      <td>0.272182</td>\n",
              "      <td>675088</td>\n",
              "    </tr>\n",
              "  </tbody>\n",
              "</table>\n",
              "</div>"
            ],
            "text/plain": [
              "       Date      Open      High       Low     Close  Adj Close   Volume\n",
              "0  6/1/1972  0.000000  2.173495  2.149165  2.153220   0.277406  1091238\n",
              "1  6/2/1972  2.153220  2.173495  2.141055  2.149165   0.276884  1174468\n",
              "2  6/5/1972  2.149165  2.169440  2.141055  2.149165   0.276884  5209582\n",
              "3  6/6/1972  2.149165  2.157275  2.116725  2.124835   0.273750  1424158\n",
              "4  6/7/1972  2.124835  2.137000  2.112670  2.112670   0.272182   675088"
            ]
          },
          "metadata": {},
          "execution_count": 68
        }
      ]
    },
    {
      "cell_type": "code",
      "metadata": {
        "id": "P14MlrRHXG5F"
      },
      "source": [
        "last_30_data=train_data.tail(30)"
      ],
      "execution_count": null,
      "outputs": []
    },
    {
      "cell_type": "code",
      "metadata": {
        "colab": {
          "base_uri": "https://localhost:8080/",
          "height": 203
        },
        "id": "8GOySN6nY_Dn",
        "outputId": "362c2de9-9dcf-40f8-ca1f-b471392d0c9d"
      },
      "source": [
        "df=last_30_data.append(test_data,ignore_index=True)\n",
        "df.head()"
      ],
      "execution_count": null,
      "outputs": [
        {
          "output_type": "execute_result",
          "data": {
            "text/html": [
              "<div>\n",
              "<style scoped>\n",
              "    .dataframe tbody tr th:only-of-type {\n",
              "        vertical-align: middle;\n",
              "    }\n",
              "\n",
              "    .dataframe tbody tr th {\n",
              "        vertical-align: top;\n",
              "    }\n",
              "\n",
              "    .dataframe thead th {\n",
              "        text-align: right;\n",
              "    }\n",
              "</style>\n",
              "<table border=\"1\" class=\"dataframe\">\n",
              "  <thead>\n",
              "    <tr style=\"text-align: right;\">\n",
              "      <th></th>\n",
              "      <th>Date</th>\n",
              "      <th>Open</th>\n",
              "      <th>High</th>\n",
              "      <th>Low</th>\n",
              "      <th>Close</th>\n",
              "      <th>Adj Close</th>\n",
              "      <th>Volume</th>\n",
              "    </tr>\n",
              "  </thead>\n",
              "  <tbody>\n",
              "    <tr>\n",
              "      <th>0</th>\n",
              "      <td>1/14/2021</td>\n",
              "      <td>9.81</td>\n",
              "      <td>10.20</td>\n",
              "      <td>9.79</td>\n",
              "      <td>10.17</td>\n",
              "      <td>10.17</td>\n",
              "      <td>112695300</td>\n",
              "    </tr>\n",
              "    <tr>\n",
              "      <th>1</th>\n",
              "      <td>1/15/2021</td>\n",
              "      <td>10.04</td>\n",
              "      <td>10.05</td>\n",
              "      <td>9.82</td>\n",
              "      <td>9.83</td>\n",
              "      <td>9.83</td>\n",
              "      <td>99985000</td>\n",
              "    </tr>\n",
              "    <tr>\n",
              "      <th>2</th>\n",
              "      <td>1/19/2021</td>\n",
              "      <td>10.06</td>\n",
              "      <td>10.21</td>\n",
              "      <td>9.97</td>\n",
              "      <td>10.02</td>\n",
              "      <td>10.02</td>\n",
              "      <td>78732800</td>\n",
              "    </tr>\n",
              "    <tr>\n",
              "      <th>3</th>\n",
              "      <td>1/20/2021</td>\n",
              "      <td>10.23</td>\n",
              "      <td>10.87</td>\n",
              "      <td>10.19</td>\n",
              "      <td>10.86</td>\n",
              "      <td>10.86</td>\n",
              "      <td>125033200</td>\n",
              "    </tr>\n",
              "    <tr>\n",
              "      <th>4</th>\n",
              "      <td>1/21/2021</td>\n",
              "      <td>11.28</td>\n",
              "      <td>12.15</td>\n",
              "      <td>11.12</td>\n",
              "      <td>11.53</td>\n",
              "      <td>11.53</td>\n",
              "      <td>282394100</td>\n",
              "    </tr>\n",
              "  </tbody>\n",
              "</table>\n",
              "</div>"
            ],
            "text/plain": [
              "        Date   Open   High    Low  Close  Adj Close     Volume\n",
              "0  1/14/2021   9.81  10.20   9.79  10.17      10.17  112695300\n",
              "1  1/15/2021  10.04  10.05   9.82   9.83       9.83   99985000\n",
              "2  1/19/2021  10.06  10.21   9.97  10.02      10.02   78732800\n",
              "3  1/20/2021  10.23  10.87  10.19  10.86      10.86  125033200\n",
              "4  1/21/2021  11.28  12.15  11.12  11.53      11.53  282394100"
            ]
          },
          "metadata": {},
          "execution_count": 70
        }
      ]
    },
    {
      "cell_type": "code",
      "metadata": {
        "colab": {
          "base_uri": "https://localhost:8080/"
        },
        "id": "XKFdnF8lZOW0",
        "outputId": "c9456528-100b-4a78-c006-2a5ef4824c20"
      },
      "source": [
        "df=df.drop(['Date','Adj Close'],axis=1)\n",
        "df.shape"
      ],
      "execution_count": null,
      "outputs": [
        {
          "output_type": "execute_result",
          "data": {
            "text/plain": [
              "(7396, 5)"
            ]
          },
          "metadata": {},
          "execution_count": 71
        }
      ]
    },
    {
      "cell_type": "code",
      "metadata": {
        "colab": {
          "base_uri": "https://localhost:8080/"
        },
        "id": "3en_WN9hZVDh",
        "outputId": "0d94d5e1-da86-437b-9782-51dfa590bbf8"
      },
      "source": [
        "testing_data=scaler.transform(df)\n",
        "testing_data"
      ],
      "execution_count": null,
      "outputs": [
        {
          "output_type": "execute_result",
          "data": {
            "text/plain": [
              "array([[0.26030137, 0.26608036, 0.26527268, 0.27158414, 0.23374831],\n",
              "       [0.26683286, 0.26190161, 0.2661423 , 0.26189108, 0.20729609],\n",
              "       [0.26740081, 0.26635894, 0.2704904 , 0.26730779, 0.16306678],\n",
              "       ...,\n",
              "       [0.34861841, 0.35494842, 0.35571314, 0.35882164, 0.15692984],\n",
              "       [0.36082945, 0.36469884, 0.36759795, 0.37250596, 0.14220373],\n",
              "       [0.36963275, 0.37027051, 0.37687389, 0.37450158, 0.118441  ]])"
            ]
          },
          "metadata": {},
          "execution_count": 72
        }
      ]
    },
    {
      "cell_type": "code",
      "metadata": {
        "colab": {
          "base_uri": "https://localhost:8080/"
        },
        "id": "vXGkNQLRZY-C",
        "outputId": "8aabc2b4-4ba8-455f-e7c0-6a54a3008c34"
      },
      "source": [
        "testing_data.shape"
      ],
      "execution_count": null,
      "outputs": [
        {
          "output_type": "execute_result",
          "data": {
            "text/plain": [
              "(7396, 5)"
            ]
          },
          "metadata": {},
          "execution_count": 73
        }
      ]
    },
    {
      "cell_type": "code",
      "metadata": {
        "colab": {
          "base_uri": "https://localhost:8080/"
        },
        "id": "oRjDQDMPZbug",
        "outputId": "9cb013ef-2802-4195-a81b-7fc298a8be12"
      },
      "source": [
        "testing_data.shape[0]"
      ],
      "execution_count": null,
      "outputs": [
        {
          "output_type": "execute_result",
          "data": {
            "text/plain": [
              "7396"
            ]
          },
          "metadata": {},
          "execution_count": 74
        }
      ]
    },
    {
      "cell_type": "code",
      "metadata": {
        "colab": {
          "base_uri": "https://localhost:8080/"
        },
        "id": "xTVmhIJkZeCx",
        "outputId": "90b719eb-3116-4382-ce47-5cda13ecff42"
      },
      "source": [
        "len(testing_data)"
      ],
      "execution_count": null,
      "outputs": [
        {
          "output_type": "execute_result",
          "data": {
            "text/plain": [
              "7396"
            ]
          },
          "metadata": {},
          "execution_count": 75
        }
      ]
    },
    {
      "cell_type": "code",
      "metadata": {
        "id": "yr-frNHHZgkA"
      },
      "source": [
        "timestep=7\n",
        "X_test,y_test=[],[]\n",
        "for i in range(timestep,len(testing_data)):\n",
        "    X_test.append(testing_data[i-timestep:i])\n",
        "    y_test.append(testing_data[i,3])"
      ],
      "execution_count": null,
      "outputs": []
    },
    {
      "cell_type": "code",
      "metadata": {
        "colab": {
          "base_uri": "https://localhost:8080/"
        },
        "id": "GZjsoRHsZlyZ",
        "outputId": "b0e0680d-5a7d-4ec0-a750-feb29060fc47"
      },
      "source": [
        "X_test,y_test=np.array(X_test),np.array(y_test)\n",
        "X_test.shape,y_test.shape"
      ],
      "execution_count": null,
      "outputs": [
        {
          "output_type": "execute_result",
          "data": {
            "text/plain": [
              "((7389, 7, 5), (7389,))"
            ]
          },
          "metadata": {},
          "execution_count": 77
        }
      ]
    },
    {
      "cell_type": "code",
      "metadata": {
        "colab": {
          "base_uri": "https://localhost:8080/"
        },
        "id": "GnIGvsX-Zofq",
        "outputId": "6174d1ad-74d5-44cb-fdee-f19eceb1f2c7"
      },
      "source": [
        "y_pred=model.predict(X_test)\n",
        "y_pred.shape"
      ],
      "execution_count": null,
      "outputs": [
        {
          "output_type": "execute_result",
          "data": {
            "text/plain": [
              "(7389, 1)"
            ]
          },
          "metadata": {},
          "execution_count": 78
        }
      ]
    },
    {
      "cell_type": "code",
      "metadata": {
        "colab": {
          "base_uri": "https://localhost:8080/"
        },
        "id": "zx7da-vFZsPe",
        "outputId": "443073f0-87d0-495d-9dfe-0dce256afa36"
      },
      "source": [
        "scaler.scale_"
      ],
      "execution_count": null,
      "outputs": [
        {
          "output_type": "execute_result",
          "data": {
            "text/plain": [
              "array([2.83977608e-02, 2.78583286e-02, 2.89873271e-02, 2.85089874e-02,\n",
              "       2.08116398e-09])"
            ]
          },
          "metadata": {},
          "execution_count": 79
        }
      ]
    },
    {
      "cell_type": "code",
      "metadata": {
        "colab": {
          "base_uri": "https://localhost:8080/"
        },
        "id": "8tiBJZU7ZvK-",
        "outputId": "ec8195a8-f94c-40b4-b489-a2ea229869b0"
      },
      "source": [
        "scale=1/2.71595325e-02\n",
        "scale"
      ],
      "execution_count": null,
      "outputs": [
        {
          "output_type": "execute_result",
          "data": {
            "text/plain": [
              "36.819485018749866"
            ]
          },
          "metadata": {},
          "execution_count": 80
        }
      ]
    },
    {
      "cell_type": "code",
      "metadata": {
        "id": "K5hWreg0Z6qn"
      },
      "source": [
        "y_pred=y_pred*scale\n",
        "y_test=y_test*scale"
      ],
      "execution_count": null,
      "outputs": []
    },
    {
      "cell_type": "code",
      "metadata": {
        "id": "jNRkOPYBZ_Gd"
      },
      "source": [
        "import matplotlib.pyplot as plt"
      ],
      "execution_count": null,
      "outputs": []
    },
    {
      "cell_type": "code",
      "metadata": {
        "colab": {
          "base_uri": "https://localhost:8080/",
          "height": 352
        },
        "id": "3nBG09zGaB7n",
        "outputId": "7990afe1-389c-4003-946d-498239d3428d"
      },
      "source": [
        "plt.figure(figsize=(20,5))\n",
        "plt.plot(y_test,label='Real Sales Data')\n",
        "plt.plot(y_pred,label='Predicted Sales Data')\n",
        "plt.title(' Sales Predict')\n",
        "plt.xlabel('time')\n",
        "plt.ylabel('Sales data')\n",
        "plt.legend()\n"
      ],
      "execution_count": null,
      "outputs": [
        {
          "output_type": "execute_result",
          "data": {
            "text/plain": [
              "<matplotlib.legend.Legend at 0x7f005acbe650>"
            ]
          },
          "metadata": {},
          "execution_count": 83
        },
        {
          "output_type": "display_data",
          "data": {
            "image/png": "[encoded data removed]",
            "text/plain": [
              "<Figure size 1440x360 with 1 Axes>"
            ]
          },
          "metadata": {
            "needs_background": "light"
          }
        }
      ]
    },
    {
      "cell_type": "code",
      "metadata": {
        "id": "FBHnmkthaZ6x"
      },
      "source": [
        ""
      ],
      "execution_count": null,
      "outputs": []
    }
  ]
}