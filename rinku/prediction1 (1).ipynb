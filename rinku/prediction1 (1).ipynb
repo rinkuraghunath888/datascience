{
  "nbformat": 4,
  "nbformat_minor": 0,
  "metadata": {
    "colab": {
      "name": "prediction1.ipynb",
      "provenance": [],
      "collapsed_sections": []
    },
    "kernelspec": {
      "name": "python3",
      "display_name": "Python 3"
    },
    "language_info": {
      "name": "python"
    },
    "accelerator": "TPU"
  },
  "cells": [
    {
      "cell_type": "code",
      "metadata": {
        "id": "RZDhULKqX9Lo"
      },
      "source": [
        "import numpy as np\n",
        "import pandas as pd\n",
        "import matplotlib.pyplot as plt\n",
        "import seaborn as sns"
      ],
      "execution_count": null,
      "outputs": []
    },
    {
      "cell_type": "code",
      "metadata": {
        "id": "ou9349-OYf9N"
      },
      "source": [
        "glt_city = pd.read_csv('/content/drive/MyDrive/GlobalLandTemperatures/GlobalLandTemperaturesByCity.csv', names = ['Date','Avg_Temp','Avgtemp_uncertainty','City','Country','Latitude','Longitude'],skiprows=1,parse_dates=['Date'],header=None)"
      ],
      "execution_count": null,
      "outputs": []
    },
    {
      "cell_type": "code",
      "metadata": {
        "colab": {
          "base_uri": "https://localhost:8080/",
          "height": 424
        },
        "id": "ClVcB_R_Yrzd",
        "outputId": "8b88f299-17e9-42a4-fbaf-ab35ff917a5a"
      },
      "source": [
        "glt_city"
      ],
      "execution_count": null,
      "outputs": [
        {
          "output_type": "execute_result",
          "data": {
            "text/html": [
              "<div>\n",
              "<style scoped>\n",
              "    .dataframe tbody tr th:only-of-type {\n",
              "        vertical-align: middle;\n",
              "    }\n",
              "\n",
              "    .dataframe tbody tr th {\n",
              "        vertical-align: top;\n",
              "    }\n",
              "\n",
              "    .dataframe thead th {\n",
              "        text-align: right;\n",
              "    }\n",
              "</style>\n",
              "<table border=\"1\" class=\"dataframe\">\n",
              "  <thead>\n",
              "    <tr style=\"text-align: right;\">\n",
              "      <th></th>\n",
              "      <th>Date</th>\n",
              "      <th>Avg_Temp</th>\n",
              "      <th>Avgtemp_uncertainty</th>\n",
              "      <th>City</th>\n",
              "      <th>Country</th>\n",
              "      <th>Latitude</th>\n",
              "      <th>Longitude</th>\n",
              "    </tr>\n",
              "  </thead>\n",
              "  <tbody>\n",
              "    <tr>\n",
              "      <th>0</th>\n",
              "      <td>1743-11-01</td>\n",
              "      <td>6.068</td>\n",
              "      <td>1.737</td>\n",
              "      <td>Århus</td>\n",
              "      <td>Denmark</td>\n",
              "      <td>57.05N</td>\n",
              "      <td>10.33E</td>\n",
              "    </tr>\n",
              "    <tr>\n",
              "      <th>1</th>\n",
              "      <td>1743-12-01</td>\n",
              "      <td>NaN</td>\n",
              "      <td>NaN</td>\n",
              "      <td>Århus</td>\n",
              "      <td>Denmark</td>\n",
              "      <td>57.05N</td>\n",
              "      <td>10.33E</td>\n",
              "    </tr>\n",
              "    <tr>\n",
              "      <th>2</th>\n",
              "      <td>1744-01-01</td>\n",
              "      <td>NaN</td>\n",
              "      <td>NaN</td>\n",
              "      <td>Århus</td>\n",
              "      <td>Denmark</td>\n",
              "      <td>57.05N</td>\n",
              "      <td>10.33E</td>\n",
              "    </tr>\n",
              "    <tr>\n",
              "      <th>3</th>\n",
              "      <td>1744-02-01</td>\n",
              "      <td>NaN</td>\n",
              "      <td>NaN</td>\n",
              "      <td>Århus</td>\n",
              "      <td>Denmark</td>\n",
              "      <td>57.05N</td>\n",
              "      <td>10.33E</td>\n",
              "    </tr>\n",
              "    <tr>\n",
              "      <th>4</th>\n",
              "      <td>1744-03-01</td>\n",
              "      <td>NaN</td>\n",
              "      <td>NaN</td>\n",
              "      <td>Århus</td>\n",
              "      <td>Denmark</td>\n",
              "      <td>57.05N</td>\n",
              "      <td>10.33E</td>\n",
              "    </tr>\n",
              "    <tr>\n",
              "      <th>...</th>\n",
              "      <td>...</td>\n",
              "      <td>...</td>\n",
              "      <td>...</td>\n",
              "      <td>...</td>\n",
              "      <td>...</td>\n",
              "      <td>...</td>\n",
              "      <td>...</td>\n",
              "    </tr>\n",
              "    <tr>\n",
              "      <th>8599207</th>\n",
              "      <td>2013-05-01</td>\n",
              "      <td>11.464</td>\n",
              "      <td>0.236</td>\n",
              "      <td>Zwolle</td>\n",
              "      <td>Netherlands</td>\n",
              "      <td>52.24N</td>\n",
              "      <td>5.26E</td>\n",
              "    </tr>\n",
              "    <tr>\n",
              "      <th>8599208</th>\n",
              "      <td>2013-06-01</td>\n",
              "      <td>15.043</td>\n",
              "      <td>0.261</td>\n",
              "      <td>Zwolle</td>\n",
              "      <td>Netherlands</td>\n",
              "      <td>52.24N</td>\n",
              "      <td>5.26E</td>\n",
              "    </tr>\n",
              "    <tr>\n",
              "      <th>8599209</th>\n",
              "      <td>2013-07-01</td>\n",
              "      <td>18.775</td>\n",
              "      <td>0.193</td>\n",
              "      <td>Zwolle</td>\n",
              "      <td>Netherlands</td>\n",
              "      <td>52.24N</td>\n",
              "      <td>5.26E</td>\n",
              "    </tr>\n",
              "    <tr>\n",
              "      <th>8599210</th>\n",
              "      <td>2013-08-01</td>\n",
              "      <td>18.025</td>\n",
              "      <td>0.298</td>\n",
              "      <td>Zwolle</td>\n",
              "      <td>Netherlands</td>\n",
              "      <td>52.24N</td>\n",
              "      <td>5.26E</td>\n",
              "    </tr>\n",
              "    <tr>\n",
              "      <th>8599211</th>\n",
              "      <td>2013-09-01</td>\n",
              "      <td>NaN</td>\n",
              "      <td>NaN</td>\n",
              "      <td>Zwolle</td>\n",
              "      <td>Netherlands</td>\n",
              "      <td>52.24N</td>\n",
              "      <td>5.26E</td>\n",
              "    </tr>\n",
              "  </tbody>\n",
              "</table>\n",
              "<p>8599212 rows × 7 columns</p>\n",
              "</div>"
            ],
            "text/plain": [
              "              Date  Avg_Temp  ...  Latitude Longitude\n",
              "0       1743-11-01     6.068  ...    57.05N    10.33E\n",
              "1       1743-12-01       NaN  ...    57.05N    10.33E\n",
              "2       1744-01-01       NaN  ...    57.05N    10.33E\n",
              "3       1744-02-01       NaN  ...    57.05N    10.33E\n",
              "4       1744-03-01       NaN  ...    57.05N    10.33E\n",
              "...            ...       ...  ...       ...       ...\n",
              "8599207 2013-05-01    11.464  ...    52.24N     5.26E\n",
              "8599208 2013-06-01    15.043  ...    52.24N     5.26E\n",
              "8599209 2013-07-01    18.775  ...    52.24N     5.26E\n",
              "8599210 2013-08-01    18.025  ...    52.24N     5.26E\n",
              "8599211 2013-09-01       NaN  ...    52.24N     5.26E\n",
              "\n",
              "[8599212 rows x 7 columns]"
            ]
          },
          "metadata": {},
          "execution_count": 3
        }
      ]
    },
    {
      "cell_type": "code",
      "metadata": {
        "id": "iX6mtxRkjHIu"
      },
      "source": [
        "glt_city = glt_city.drop(['Latitude','Longitude'],axis=1)"
      ],
      "execution_count": null,
      "outputs": []
    },
    {
      "cell_type": "code",
      "metadata": {
        "id": "mESoG4n3jmSf"
      },
      "source": [
        "glt_city.dropna(inplace=True)"
      ],
      "execution_count": null,
      "outputs": []
    },
    {
      "cell_type": "code",
      "metadata": {
        "id": "LDYwbY5-cQIH"
      },
      "source": [
        "# type(glt_city['Date'][1])\n"
      ],
      "execution_count": null,
      "outputs": []
    },
    {
      "cell_type": "code",
      "metadata": {
        "id": "BCGxLr84i6_X"
      },
      "source": [
        "# glt_city.dtypes"
      ],
      "execution_count": null,
      "outputs": []
    },
    {
      "cell_type": "code",
      "metadata": {
        "id": "ELI1QH2AY3ys"
      },
      "source": [
        "glt_country = pd.read_csv('/content/drive/MyDrive/GlobalLandTemperatures/GlobalLandTemperaturesByCountry.csv', names=['Date','Avg_temp','Avgtemp_uncertainty','Country'],header=None,skiprows=1,parse_dates=['Date'])"
      ],
      "execution_count": null,
      "outputs": []
    },
    {
      "cell_type": "code",
      "metadata": {
        "colab": {
          "base_uri": "https://localhost:8080/",
          "height": 424
        },
        "id": "byIRzokIbU4o",
        "outputId": "e7aed159-a900-4f09-ae4b-3371067c0b3f"
      },
      "source": [
        "glt_country"
      ],
      "execution_count": null,
      "outputs": [
        {
          "output_type": "execute_result",
          "data": {
            "text/html": [
              "<div>\n",
              "<style scoped>\n",
              "    .dataframe tbody tr th:only-of-type {\n",
              "        vertical-align: middle;\n",
              "    }\n",
              "\n",
              "    .dataframe tbody tr th {\n",
              "        vertical-align: top;\n",
              "    }\n",
              "\n",
              "    .dataframe thead th {\n",
              "        text-align: right;\n",
              "    }\n",
              "</style>\n",
              "<table border=\"1\" class=\"dataframe\">\n",
              "  <thead>\n",
              "    <tr style=\"text-align: right;\">\n",
              "      <th></th>\n",
              "      <th>Date</th>\n",
              "      <th>Avg_temp</th>\n",
              "      <th>Avgtemp_uncertainty</th>\n",
              "      <th>Country</th>\n",
              "    </tr>\n",
              "  </thead>\n",
              "  <tbody>\n",
              "    <tr>\n",
              "      <th>0</th>\n",
              "      <td>1743-11-01</td>\n",
              "      <td>4.384</td>\n",
              "      <td>2.294</td>\n",
              "      <td>Åland</td>\n",
              "    </tr>\n",
              "    <tr>\n",
              "      <th>1</th>\n",
              "      <td>1743-12-01</td>\n",
              "      <td>NaN</td>\n",
              "      <td>NaN</td>\n",
              "      <td>Åland</td>\n",
              "    </tr>\n",
              "    <tr>\n",
              "      <th>2</th>\n",
              "      <td>1744-01-01</td>\n",
              "      <td>NaN</td>\n",
              "      <td>NaN</td>\n",
              "      <td>Åland</td>\n",
              "    </tr>\n",
              "    <tr>\n",
              "      <th>3</th>\n",
              "      <td>1744-02-01</td>\n",
              "      <td>NaN</td>\n",
              "      <td>NaN</td>\n",
              "      <td>Åland</td>\n",
              "    </tr>\n",
              "    <tr>\n",
              "      <th>4</th>\n",
              "      <td>1744-03-01</td>\n",
              "      <td>NaN</td>\n",
              "      <td>NaN</td>\n",
              "      <td>Åland</td>\n",
              "    </tr>\n",
              "    <tr>\n",
              "      <th>...</th>\n",
              "      <td>...</td>\n",
              "      <td>...</td>\n",
              "      <td>...</td>\n",
              "      <td>...</td>\n",
              "    </tr>\n",
              "    <tr>\n",
              "      <th>577457</th>\n",
              "      <td>2013-05-01</td>\n",
              "      <td>19.059</td>\n",
              "      <td>1.022</td>\n",
              "      <td>Zimbabwe</td>\n",
              "    </tr>\n",
              "    <tr>\n",
              "      <th>577458</th>\n",
              "      <td>2013-06-01</td>\n",
              "      <td>17.613</td>\n",
              "      <td>0.473</td>\n",
              "      <td>Zimbabwe</td>\n",
              "    </tr>\n",
              "    <tr>\n",
              "      <th>577459</th>\n",
              "      <td>2013-07-01</td>\n",
              "      <td>17.000</td>\n",
              "      <td>0.453</td>\n",
              "      <td>Zimbabwe</td>\n",
              "    </tr>\n",
              "    <tr>\n",
              "      <th>577460</th>\n",
              "      <td>2013-08-01</td>\n",
              "      <td>19.759</td>\n",
              "      <td>0.717</td>\n",
              "      <td>Zimbabwe</td>\n",
              "    </tr>\n",
              "    <tr>\n",
              "      <th>577461</th>\n",
              "      <td>2013-09-01</td>\n",
              "      <td>NaN</td>\n",
              "      <td>NaN</td>\n",
              "      <td>Zimbabwe</td>\n",
              "    </tr>\n",
              "  </tbody>\n",
              "</table>\n",
              "<p>577462 rows × 4 columns</p>\n",
              "</div>"
            ],
            "text/plain": [
              "             Date  Avg_temp  Avgtemp_uncertainty   Country\n",
              "0      1743-11-01     4.384                2.294     Åland\n",
              "1      1743-12-01       NaN                  NaN     Åland\n",
              "2      1744-01-01       NaN                  NaN     Åland\n",
              "3      1744-02-01       NaN                  NaN     Åland\n",
              "4      1744-03-01       NaN                  NaN     Åland\n",
              "...           ...       ...                  ...       ...\n",
              "577457 2013-05-01    19.059                1.022  Zimbabwe\n",
              "577458 2013-06-01    17.613                0.473  Zimbabwe\n",
              "577459 2013-07-01    17.000                0.453  Zimbabwe\n",
              "577460 2013-08-01    19.759                0.717  Zimbabwe\n",
              "577461 2013-09-01       NaN                  NaN  Zimbabwe\n",
              "\n",
              "[577462 rows x 4 columns]"
            ]
          },
          "metadata": {},
          "execution_count": 9
        }
      ]
    },
    {
      "cell_type": "code",
      "metadata": {
        "id": "Qm2d-PdKbW3s"
      },
      "source": [
        "# type(glt_country['Date'][1])"
      ],
      "execution_count": null,
      "outputs": []
    },
    {
      "cell_type": "code",
      "metadata": {
        "id": "vbaIdB3Fijpj"
      },
      "source": [
        "glt_country.dropna(inplace=True)"
      ],
      "execution_count": null,
      "outputs": []
    },
    {
      "cell_type": "code",
      "metadata": {
        "id": "t4WijZ6Qb8M9"
      },
      "source": [
        "glt_majorcity = pd.read_csv('/content/drive/MyDrive/GlobalLandTemperatures/GlobalLandTemperaturesByMajorCity.csv',names=['Date','Avg_tmp','Avgtemp_uncertainty','city','Country','Latitide','Longitude'],parse_dates=['Date'],header=None,skiprows=1)"
      ],
      "execution_count": null,
      "outputs": []
    },
    {
      "cell_type": "code",
      "metadata": {
        "colab": {
          "base_uri": "https://localhost:8080/",
          "height": 424
        },
        "id": "e6Ket99Kds98",
        "outputId": "7f68ac71-1c0d-4737-e9a5-3cc0e3ff265a"
      },
      "source": [
        "glt_majorcity"
      ],
      "execution_count": null,
      "outputs": [
        {
          "output_type": "execute_result",
          "data": {
            "text/html": [
              "<div>\n",
              "<style scoped>\n",
              "    .dataframe tbody tr th:only-of-type {\n",
              "        vertical-align: middle;\n",
              "    }\n",
              "\n",
              "    .dataframe tbody tr th {\n",
              "        vertical-align: top;\n",
              "    }\n",
              "\n",
              "    .dataframe thead th {\n",
              "        text-align: right;\n",
              "    }\n",
              "</style>\n",
              "<table border=\"1\" class=\"dataframe\">\n",
              "  <thead>\n",
              "    <tr style=\"text-align: right;\">\n",
              "      <th></th>\n",
              "      <th>Date</th>\n",
              "      <th>Avg_tmp</th>\n",
              "      <th>Avgtemp_uncertainty</th>\n",
              "      <th>city</th>\n",
              "      <th>Country</th>\n",
              "      <th>Latitide</th>\n",
              "      <th>Longitude</th>\n",
              "    </tr>\n",
              "  </thead>\n",
              "  <tbody>\n",
              "    <tr>\n",
              "      <th>0</th>\n",
              "      <td>1849-01-01</td>\n",
              "      <td>26.704</td>\n",
              "      <td>1.435</td>\n",
              "      <td>Abidjan</td>\n",
              "      <td>Côte D'Ivoire</td>\n",
              "      <td>5.63N</td>\n",
              "      <td>3.23W</td>\n",
              "    </tr>\n",
              "    <tr>\n",
              "      <th>1</th>\n",
              "      <td>1849-02-01</td>\n",
              "      <td>27.434</td>\n",
              "      <td>1.362</td>\n",
              "      <td>Abidjan</td>\n",
              "      <td>Côte D'Ivoire</td>\n",
              "      <td>5.63N</td>\n",
              "      <td>3.23W</td>\n",
              "    </tr>\n",
              "    <tr>\n",
              "      <th>2</th>\n",
              "      <td>1849-03-01</td>\n",
              "      <td>28.101</td>\n",
              "      <td>1.612</td>\n",
              "      <td>Abidjan</td>\n",
              "      <td>Côte D'Ivoire</td>\n",
              "      <td>5.63N</td>\n",
              "      <td>3.23W</td>\n",
              "    </tr>\n",
              "    <tr>\n",
              "      <th>3</th>\n",
              "      <td>1849-04-01</td>\n",
              "      <td>26.140</td>\n",
              "      <td>1.387</td>\n",
              "      <td>Abidjan</td>\n",
              "      <td>Côte D'Ivoire</td>\n",
              "      <td>5.63N</td>\n",
              "      <td>3.23W</td>\n",
              "    </tr>\n",
              "    <tr>\n",
              "      <th>4</th>\n",
              "      <td>1849-05-01</td>\n",
              "      <td>25.427</td>\n",
              "      <td>1.200</td>\n",
              "      <td>Abidjan</td>\n",
              "      <td>Côte D'Ivoire</td>\n",
              "      <td>5.63N</td>\n",
              "      <td>3.23W</td>\n",
              "    </tr>\n",
              "    <tr>\n",
              "      <th>...</th>\n",
              "      <td>...</td>\n",
              "      <td>...</td>\n",
              "      <td>...</td>\n",
              "      <td>...</td>\n",
              "      <td>...</td>\n",
              "      <td>...</td>\n",
              "      <td>...</td>\n",
              "    </tr>\n",
              "    <tr>\n",
              "      <th>239172</th>\n",
              "      <td>2013-05-01</td>\n",
              "      <td>18.979</td>\n",
              "      <td>0.807</td>\n",
              "      <td>Xian</td>\n",
              "      <td>China</td>\n",
              "      <td>34.56N</td>\n",
              "      <td>108.97E</td>\n",
              "    </tr>\n",
              "    <tr>\n",
              "      <th>239173</th>\n",
              "      <td>2013-06-01</td>\n",
              "      <td>23.522</td>\n",
              "      <td>0.647</td>\n",
              "      <td>Xian</td>\n",
              "      <td>China</td>\n",
              "      <td>34.56N</td>\n",
              "      <td>108.97E</td>\n",
              "    </tr>\n",
              "    <tr>\n",
              "      <th>239174</th>\n",
              "      <td>2013-07-01</td>\n",
              "      <td>25.251</td>\n",
              "      <td>1.042</td>\n",
              "      <td>Xian</td>\n",
              "      <td>China</td>\n",
              "      <td>34.56N</td>\n",
              "      <td>108.97E</td>\n",
              "    </tr>\n",
              "    <tr>\n",
              "      <th>239175</th>\n",
              "      <td>2013-08-01</td>\n",
              "      <td>24.528</td>\n",
              "      <td>0.840</td>\n",
              "      <td>Xian</td>\n",
              "      <td>China</td>\n",
              "      <td>34.56N</td>\n",
              "      <td>108.97E</td>\n",
              "    </tr>\n",
              "    <tr>\n",
              "      <th>239176</th>\n",
              "      <td>2013-09-01</td>\n",
              "      <td>NaN</td>\n",
              "      <td>NaN</td>\n",
              "      <td>Xian</td>\n",
              "      <td>China</td>\n",
              "      <td>34.56N</td>\n",
              "      <td>108.97E</td>\n",
              "    </tr>\n",
              "  </tbody>\n",
              "</table>\n",
              "<p>239177 rows × 7 columns</p>\n",
              "</div>"
            ],
            "text/plain": [
              "             Date  Avg_tmp  ...  Latitide Longitude\n",
              "0      1849-01-01   26.704  ...     5.63N     3.23W\n",
              "1      1849-02-01   27.434  ...     5.63N     3.23W\n",
              "2      1849-03-01   28.101  ...     5.63N     3.23W\n",
              "3      1849-04-01   26.140  ...     5.63N     3.23W\n",
              "4      1849-05-01   25.427  ...     5.63N     3.23W\n",
              "...           ...      ...  ...       ...       ...\n",
              "239172 2013-05-01   18.979  ...    34.56N   108.97E\n",
              "239173 2013-06-01   23.522  ...    34.56N   108.97E\n",
              "239174 2013-07-01   25.251  ...    34.56N   108.97E\n",
              "239175 2013-08-01   24.528  ...    34.56N   108.97E\n",
              "239176 2013-09-01      NaN  ...    34.56N   108.97E\n",
              "\n",
              "[239177 rows x 7 columns]"
            ]
          },
          "metadata": {},
          "execution_count": 13
        }
      ]
    },
    {
      "cell_type": "code",
      "metadata": {
        "id": "KBprcYnAiwYG"
      },
      "source": [
        "glt_majorcity.dropna(inplace=True)"
      ],
      "execution_count": null,
      "outputs": []
    },
    {
      "cell_type": "code",
      "metadata": {
        "id": "DEwHXa11j79K"
      },
      "source": [
        "\n",
        "glt_majorcity = glt_majorcity.drop(['Latitide','Longitude'],axis=1)"
      ],
      "execution_count": null,
      "outputs": []
    },
    {
      "cell_type": "code",
      "metadata": {
        "colab": {
          "base_uri": "https://localhost:8080/",
          "height": 424
        },
        "id": "Gc_mxXGOkOpK",
        "outputId": "8fb21793-48e0-4d0a-b4c7-82393380ac00"
      },
      "source": [
        "glt_majorcity"
      ],
      "execution_count": null,
      "outputs": [
        {
          "output_type": "execute_result",
          "data": {
            "text/html": [
              "<div>\n",
              "<style scoped>\n",
              "    .dataframe tbody tr th:only-of-type {\n",
              "        vertical-align: middle;\n",
              "    }\n",
              "\n",
              "    .dataframe tbody tr th {\n",
              "        vertical-align: top;\n",
              "    }\n",
              "\n",
              "    .dataframe thead th {\n",
              "        text-align: right;\n",
              "    }\n",
              "</style>\n",
              "<table border=\"1\" class=\"dataframe\">\n",
              "  <thead>\n",
              "    <tr style=\"text-align: right;\">\n",
              "      <th></th>\n",
              "      <th>Date</th>\n",
              "      <th>Avg_tmp</th>\n",
              "      <th>Avgtemp_uncertainty</th>\n",
              "      <th>city</th>\n",
              "      <th>Country</th>\n",
              "    </tr>\n",
              "  </thead>\n",
              "  <tbody>\n",
              "    <tr>\n",
              "      <th>0</th>\n",
              "      <td>1849-01-01</td>\n",
              "      <td>26.704</td>\n",
              "      <td>1.435</td>\n",
              "      <td>Abidjan</td>\n",
              "      <td>Côte D'Ivoire</td>\n",
              "    </tr>\n",
              "    <tr>\n",
              "      <th>1</th>\n",
              "      <td>1849-02-01</td>\n",
              "      <td>27.434</td>\n",
              "      <td>1.362</td>\n",
              "      <td>Abidjan</td>\n",
              "      <td>Côte D'Ivoire</td>\n",
              "    </tr>\n",
              "    <tr>\n",
              "      <th>2</th>\n",
              "      <td>1849-03-01</td>\n",
              "      <td>28.101</td>\n",
              "      <td>1.612</td>\n",
              "      <td>Abidjan</td>\n",
              "      <td>Côte D'Ivoire</td>\n",
              "    </tr>\n",
              "    <tr>\n",
              "      <th>3</th>\n",
              "      <td>1849-04-01</td>\n",
              "      <td>26.140</td>\n",
              "      <td>1.387</td>\n",
              "      <td>Abidjan</td>\n",
              "      <td>Côte D'Ivoire</td>\n",
              "    </tr>\n",
              "    <tr>\n",
              "      <th>4</th>\n",
              "      <td>1849-05-01</td>\n",
              "      <td>25.427</td>\n",
              "      <td>1.200</td>\n",
              "      <td>Abidjan</td>\n",
              "      <td>Côte D'Ivoire</td>\n",
              "    </tr>\n",
              "    <tr>\n",
              "      <th>...</th>\n",
              "      <td>...</td>\n",
              "      <td>...</td>\n",
              "      <td>...</td>\n",
              "      <td>...</td>\n",
              "      <td>...</td>\n",
              "    </tr>\n",
              "    <tr>\n",
              "      <th>239171</th>\n",
              "      <td>2013-04-01</td>\n",
              "      <td>12.563</td>\n",
              "      <td>1.823</td>\n",
              "      <td>Xian</td>\n",
              "      <td>China</td>\n",
              "    </tr>\n",
              "    <tr>\n",
              "      <th>239172</th>\n",
              "      <td>2013-05-01</td>\n",
              "      <td>18.979</td>\n",
              "      <td>0.807</td>\n",
              "      <td>Xian</td>\n",
              "      <td>China</td>\n",
              "    </tr>\n",
              "    <tr>\n",
              "      <th>239173</th>\n",
              "      <td>2013-06-01</td>\n",
              "      <td>23.522</td>\n",
              "      <td>0.647</td>\n",
              "      <td>Xian</td>\n",
              "      <td>China</td>\n",
              "    </tr>\n",
              "    <tr>\n",
              "      <th>239174</th>\n",
              "      <td>2013-07-01</td>\n",
              "      <td>25.251</td>\n",
              "      <td>1.042</td>\n",
              "      <td>Xian</td>\n",
              "      <td>China</td>\n",
              "    </tr>\n",
              "    <tr>\n",
              "      <th>239175</th>\n",
              "      <td>2013-08-01</td>\n",
              "      <td>24.528</td>\n",
              "      <td>0.840</td>\n",
              "      <td>Xian</td>\n",
              "      <td>China</td>\n",
              "    </tr>\n",
              "  </tbody>\n",
              "</table>\n",
              "<p>228175 rows × 5 columns</p>\n",
              "</div>"
            ],
            "text/plain": [
              "             Date  Avg_tmp  Avgtemp_uncertainty     city        Country\n",
              "0      1849-01-01   26.704                1.435  Abidjan  Côte D'Ivoire\n",
              "1      1849-02-01   27.434                1.362  Abidjan  Côte D'Ivoire\n",
              "2      1849-03-01   28.101                1.612  Abidjan  Côte D'Ivoire\n",
              "3      1849-04-01   26.140                1.387  Abidjan  Côte D'Ivoire\n",
              "4      1849-05-01   25.427                1.200  Abidjan  Côte D'Ivoire\n",
              "...           ...      ...                  ...      ...            ...\n",
              "239171 2013-04-01   12.563                1.823     Xian          China\n",
              "239172 2013-05-01   18.979                0.807     Xian          China\n",
              "239173 2013-06-01   23.522                0.647     Xian          China\n",
              "239174 2013-07-01   25.251                1.042     Xian          China\n",
              "239175 2013-08-01   24.528                0.840     Xian          China\n",
              "\n",
              "[228175 rows x 5 columns]"
            ]
          },
          "metadata": {},
          "execution_count": 16
        }
      ]
    },
    {
      "cell_type": "code",
      "metadata": {
        "id": "ixvKsoGFdu4P"
      },
      "source": [
        "glt_state = pd.read_csv('/content/drive/MyDrive/GlobalLandTemperatures/GlobalLandTemperaturesByState.csv',names=['Date','Avg_tmp','Avgtemp_uncertainty','State','Country'],parse_dates=['Date'],header=None,skiprows=1)"
      ],
      "execution_count": null,
      "outputs": []
    },
    {
      "cell_type": "code",
      "metadata": {
        "colab": {
          "base_uri": "https://localhost:8080/",
          "height": 424
        },
        "id": "M1NPTYTjejvi",
        "outputId": "cb0751b6-6f4b-4276-8103-1b659cd8482c"
      },
      "source": [
        "glt_state"
      ],
      "execution_count": null,
      "outputs": [
        {
          "output_type": "execute_result",
          "data": {
            "text/html": [
              "<div>\n",
              "<style scoped>\n",
              "    .dataframe tbody tr th:only-of-type {\n",
              "        vertical-align: middle;\n",
              "    }\n",
              "\n",
              "    .dataframe tbody tr th {\n",
              "        vertical-align: top;\n",
              "    }\n",
              "\n",
              "    .dataframe thead th {\n",
              "        text-align: right;\n",
              "    }\n",
              "</style>\n",
              "<table border=\"1\" class=\"dataframe\">\n",
              "  <thead>\n",
              "    <tr style=\"text-align: right;\">\n",
              "      <th></th>\n",
              "      <th>Date</th>\n",
              "      <th>Avg_tmp</th>\n",
              "      <th>Avgtemp_uncertainty</th>\n",
              "      <th>State</th>\n",
              "      <th>Country</th>\n",
              "    </tr>\n",
              "  </thead>\n",
              "  <tbody>\n",
              "    <tr>\n",
              "      <th>0</th>\n",
              "      <td>1855-05-01</td>\n",
              "      <td>25.544</td>\n",
              "      <td>1.171</td>\n",
              "      <td>Acre</td>\n",
              "      <td>Brazil</td>\n",
              "    </tr>\n",
              "    <tr>\n",
              "      <th>1</th>\n",
              "      <td>1855-06-01</td>\n",
              "      <td>24.228</td>\n",
              "      <td>1.103</td>\n",
              "      <td>Acre</td>\n",
              "      <td>Brazil</td>\n",
              "    </tr>\n",
              "    <tr>\n",
              "      <th>2</th>\n",
              "      <td>1855-07-01</td>\n",
              "      <td>24.371</td>\n",
              "      <td>1.044</td>\n",
              "      <td>Acre</td>\n",
              "      <td>Brazil</td>\n",
              "    </tr>\n",
              "    <tr>\n",
              "      <th>3</th>\n",
              "      <td>1855-08-01</td>\n",
              "      <td>25.427</td>\n",
              "      <td>1.073</td>\n",
              "      <td>Acre</td>\n",
              "      <td>Brazil</td>\n",
              "    </tr>\n",
              "    <tr>\n",
              "      <th>4</th>\n",
              "      <td>1855-09-01</td>\n",
              "      <td>25.675</td>\n",
              "      <td>1.014</td>\n",
              "      <td>Acre</td>\n",
              "      <td>Brazil</td>\n",
              "    </tr>\n",
              "    <tr>\n",
              "      <th>...</th>\n",
              "      <td>...</td>\n",
              "      <td>...</td>\n",
              "      <td>...</td>\n",
              "      <td>...</td>\n",
              "      <td>...</td>\n",
              "    </tr>\n",
              "    <tr>\n",
              "      <th>645670</th>\n",
              "      <td>2013-05-01</td>\n",
              "      <td>21.634</td>\n",
              "      <td>0.578</td>\n",
              "      <td>Zhejiang</td>\n",
              "      <td>China</td>\n",
              "    </tr>\n",
              "    <tr>\n",
              "      <th>645671</th>\n",
              "      <td>2013-06-01</td>\n",
              "      <td>24.679</td>\n",
              "      <td>0.596</td>\n",
              "      <td>Zhejiang</td>\n",
              "      <td>China</td>\n",
              "    </tr>\n",
              "    <tr>\n",
              "      <th>645672</th>\n",
              "      <td>2013-07-01</td>\n",
              "      <td>29.272</td>\n",
              "      <td>1.340</td>\n",
              "      <td>Zhejiang</td>\n",
              "      <td>China</td>\n",
              "    </tr>\n",
              "    <tr>\n",
              "      <th>645673</th>\n",
              "      <td>2013-08-01</td>\n",
              "      <td>29.202</td>\n",
              "      <td>0.869</td>\n",
              "      <td>Zhejiang</td>\n",
              "      <td>China</td>\n",
              "    </tr>\n",
              "    <tr>\n",
              "      <th>645674</th>\n",
              "      <td>2013-09-01</td>\n",
              "      <td>NaN</td>\n",
              "      <td>NaN</td>\n",
              "      <td>Zhejiang</td>\n",
              "      <td>China</td>\n",
              "    </tr>\n",
              "  </tbody>\n",
              "</table>\n",
              "<p>645675 rows × 5 columns</p>\n",
              "</div>"
            ],
            "text/plain": [
              "             Date  Avg_tmp  Avgtemp_uncertainty     State Country\n",
              "0      1855-05-01   25.544                1.171      Acre  Brazil\n",
              "1      1855-06-01   24.228                1.103      Acre  Brazil\n",
              "2      1855-07-01   24.371                1.044      Acre  Brazil\n",
              "3      1855-08-01   25.427                1.073      Acre  Brazil\n",
              "4      1855-09-01   25.675                1.014      Acre  Brazil\n",
              "...           ...      ...                  ...       ...     ...\n",
              "645670 2013-05-01   21.634                0.578  Zhejiang   China\n",
              "645671 2013-06-01   24.679                0.596  Zhejiang   China\n",
              "645672 2013-07-01   29.272                1.340  Zhejiang   China\n",
              "645673 2013-08-01   29.202                0.869  Zhejiang   China\n",
              "645674 2013-09-01      NaN                  NaN  Zhejiang   China\n",
              "\n",
              "[645675 rows x 5 columns]"
            ]
          },
          "metadata": {},
          "execution_count": 18
        }
      ]
    },
    {
      "cell_type": "code",
      "metadata": {
        "id": "Ittj1qPXkVdM"
      },
      "source": [
        "glt_state.dropna(inplace=True)"
      ],
      "execution_count": null,
      "outputs": []
    },
    {
      "cell_type": "code",
      "metadata": {
        "id": "uJpmNHfVel1A"
      },
      "source": [
        "glt = pd.read_csv('/content/drive/MyDrive/GlobalLandTemperatures/GlobalTemperatures.csv',names=['Date','L_avg_T','L_avg_T_uncert','L_max_T','L_max_T_uncert','L_min_T','L_min_T_uncert','L_O_avg_T','L_O_avg_T_uncert'],header=None,skiprows=1,parse_dates=['Date'])"
      ],
      "execution_count": null,
      "outputs": []
    },
    {
      "cell_type": "code",
      "metadata": {
        "colab": {
          "base_uri": "https://localhost:8080/",
          "height": 424
        },
        "id": "INmA9dFSgEuT",
        "outputId": "78767441-42c6-4d34-b61e-11455fcca001"
      },
      "source": [
        "glt"
      ],
      "execution_count": null,
      "outputs": [
        {
          "output_type": "execute_result",
          "data": {
            "text/html": [
              "<div>\n",
              "<style scoped>\n",
              "    .dataframe tbody tr th:only-of-type {\n",
              "        vertical-align: middle;\n",
              "    }\n",
              "\n",
              "    .dataframe tbody tr th {\n",
              "        vertical-align: top;\n",
              "    }\n",
              "\n",
              "    .dataframe thead th {\n",
              "        text-align: right;\n",
              "    }\n",
              "</style>\n",
              "<table border=\"1\" class=\"dataframe\">\n",
              "  <thead>\n",
              "    <tr style=\"text-align: right;\">\n",
              "      <th></th>\n",
              "      <th>Date</th>\n",
              "      <th>L_avg_T</th>\n",
              "      <th>L_avg_T_uncert</th>\n",
              "      <th>L_max_T</th>\n",
              "      <th>L_max_T_uncert</th>\n",
              "      <th>L_min_T</th>\n",
              "      <th>L_min_T_uncert</th>\n",
              "      <th>L_O_avg_T</th>\n",
              "      <th>L_O_avg_T_uncert</th>\n",
              "    </tr>\n",
              "  </thead>\n",
              "  <tbody>\n",
              "    <tr>\n",
              "      <th>0</th>\n",
              "      <td>1750-01-01</td>\n",
              "      <td>3.034</td>\n",
              "      <td>3.574</td>\n",
              "      <td>NaN</td>\n",
              "      <td>NaN</td>\n",
              "      <td>NaN</td>\n",
              "      <td>NaN</td>\n",
              "      <td>NaN</td>\n",
              "      <td>NaN</td>\n",
              "    </tr>\n",
              "    <tr>\n",
              "      <th>1</th>\n",
              "      <td>1750-02-01</td>\n",
              "      <td>3.083</td>\n",
              "      <td>3.702</td>\n",
              "      <td>NaN</td>\n",
              "      <td>NaN</td>\n",
              "      <td>NaN</td>\n",
              "      <td>NaN</td>\n",
              "      <td>NaN</td>\n",
              "      <td>NaN</td>\n",
              "    </tr>\n",
              "    <tr>\n",
              "      <th>2</th>\n",
              "      <td>1750-03-01</td>\n",
              "      <td>5.626</td>\n",
              "      <td>3.076</td>\n",
              "      <td>NaN</td>\n",
              "      <td>NaN</td>\n",
              "      <td>NaN</td>\n",
              "      <td>NaN</td>\n",
              "      <td>NaN</td>\n",
              "      <td>NaN</td>\n",
              "    </tr>\n",
              "    <tr>\n",
              "      <th>3</th>\n",
              "      <td>1750-04-01</td>\n",
              "      <td>8.490</td>\n",
              "      <td>2.451</td>\n",
              "      <td>NaN</td>\n",
              "      <td>NaN</td>\n",
              "      <td>NaN</td>\n",
              "      <td>NaN</td>\n",
              "      <td>NaN</td>\n",
              "      <td>NaN</td>\n",
              "    </tr>\n",
              "    <tr>\n",
              "      <th>4</th>\n",
              "      <td>1750-05-01</td>\n",
              "      <td>11.573</td>\n",
              "      <td>2.072</td>\n",
              "      <td>NaN</td>\n",
              "      <td>NaN</td>\n",
              "      <td>NaN</td>\n",
              "      <td>NaN</td>\n",
              "      <td>NaN</td>\n",
              "      <td>NaN</td>\n",
              "    </tr>\n",
              "    <tr>\n",
              "      <th>...</th>\n",
              "      <td>...</td>\n",
              "      <td>...</td>\n",
              "      <td>...</td>\n",
              "      <td>...</td>\n",
              "      <td>...</td>\n",
              "      <td>...</td>\n",
              "      <td>...</td>\n",
              "      <td>...</td>\n",
              "      <td>...</td>\n",
              "    </tr>\n",
              "    <tr>\n",
              "      <th>3187</th>\n",
              "      <td>2015-08-01</td>\n",
              "      <td>14.755</td>\n",
              "      <td>0.072</td>\n",
              "      <td>20.699</td>\n",
              "      <td>0.110</td>\n",
              "      <td>9.005</td>\n",
              "      <td>0.170</td>\n",
              "      <td>17.589</td>\n",
              "      <td>0.057</td>\n",
              "    </tr>\n",
              "    <tr>\n",
              "      <th>3188</th>\n",
              "      <td>2015-09-01</td>\n",
              "      <td>12.999</td>\n",
              "      <td>0.079</td>\n",
              "      <td>18.845</td>\n",
              "      <td>0.088</td>\n",
              "      <td>7.199</td>\n",
              "      <td>0.229</td>\n",
              "      <td>17.049</td>\n",
              "      <td>0.058</td>\n",
              "    </tr>\n",
              "    <tr>\n",
              "      <th>3189</th>\n",
              "      <td>2015-10-01</td>\n",
              "      <td>10.801</td>\n",
              "      <td>0.102</td>\n",
              "      <td>16.450</td>\n",
              "      <td>0.059</td>\n",
              "      <td>5.232</td>\n",
              "      <td>0.115</td>\n",
              "      <td>16.290</td>\n",
              "      <td>0.062</td>\n",
              "    </tr>\n",
              "    <tr>\n",
              "      <th>3190</th>\n",
              "      <td>2015-11-01</td>\n",
              "      <td>7.433</td>\n",
              "      <td>0.119</td>\n",
              "      <td>12.892</td>\n",
              "      <td>0.093</td>\n",
              "      <td>2.157</td>\n",
              "      <td>0.106</td>\n",
              "      <td>15.252</td>\n",
              "      <td>0.063</td>\n",
              "    </tr>\n",
              "    <tr>\n",
              "      <th>3191</th>\n",
              "      <td>2015-12-01</td>\n",
              "      <td>5.518</td>\n",
              "      <td>0.100</td>\n",
              "      <td>10.725</td>\n",
              "      <td>0.154</td>\n",
              "      <td>0.287</td>\n",
              "      <td>0.099</td>\n",
              "      <td>14.774</td>\n",
              "      <td>0.062</td>\n",
              "    </tr>\n",
              "  </tbody>\n",
              "</table>\n",
              "<p>3192 rows × 9 columns</p>\n",
              "</div>"
            ],
            "text/plain": [
              "           Date  L_avg_T  ...  L_O_avg_T  L_O_avg_T_uncert\n",
              "0    1750-01-01    3.034  ...        NaN               NaN\n",
              "1    1750-02-01    3.083  ...        NaN               NaN\n",
              "2    1750-03-01    5.626  ...        NaN               NaN\n",
              "3    1750-04-01    8.490  ...        NaN               NaN\n",
              "4    1750-05-01   11.573  ...        NaN               NaN\n",
              "...         ...      ...  ...        ...               ...\n",
              "3187 2015-08-01   14.755  ...     17.589             0.057\n",
              "3188 2015-09-01   12.999  ...     17.049             0.058\n",
              "3189 2015-10-01   10.801  ...     16.290             0.062\n",
              "3190 2015-11-01    7.433  ...     15.252             0.063\n",
              "3191 2015-12-01    5.518  ...     14.774             0.062\n",
              "\n",
              "[3192 rows x 9 columns]"
            ]
          },
          "metadata": {},
          "execution_count": 21
        }
      ]
    },
    {
      "cell_type": "code",
      "metadata": {
        "id": "FWiCDbUqgFfx"
      },
      "source": [
        "glt.dropna(inplace=True)"
      ],
      "execution_count": null,
      "outputs": []
    },
    {
      "cell_type": "code",
      "metadata": {
        "colab": {
          "base_uri": "https://localhost:8080/"
        },
        "id": "AdNA-pY7kbYa",
        "outputId": "3d4f8053-36a5-4a95-9d81-ea3484af0165"
      },
      "source": [
        "print(len(glt_city)),\n",
        "print(len(glt_country)),\n",
        "print(len(glt_majorcity)),\n",
        "print(len(glt_state)),\n",
        "print(len(glt))"
      ],
      "execution_count": null,
      "outputs": [
        {
          "output_type": "stream",
          "name": "stdout",
          "text": [
            "8235082\n",
            "544811\n",
            "228175\n",
            "620027\n",
            "1992\n"
          ]
        }
      ]
    },
    {
      "cell_type": "code",
      "metadata": {
        "id": "uZeAGbz8kwWV"
      },
      "source": [
        "# glt_city.interpolate(inplace=True),\n",
        "# glt_country.interpolate(inplace=True),\n",
        "# glt_majorcity.interpolate(inplace=True),\n",
        "# glt_state.interpolate(inplace=True),\n",
        "# glt.interpolate(inplace=True)\n",
        "\n",
        "\n",
        "\n"
      ],
      "execution_count": null,
      "outputs": []
    },
    {
      "cell_type": "code",
      "metadata": {
        "colab": {
          "base_uri": "https://localhost:8080/",
          "height": 424
        },
        "id": "wBv5PQhwl5XT",
        "outputId": "ce737166-5be8-4c22-9e49-04d51a47e69d"
      },
      "source": [
        "glt"
      ],
      "execution_count": null,
      "outputs": [
        {
          "output_type": "execute_result",
          "data": {
            "text/html": [
              "<div>\n",
              "<style scoped>\n",
              "    .dataframe tbody tr th:only-of-type {\n",
              "        vertical-align: middle;\n",
              "    }\n",
              "\n",
              "    .dataframe tbody tr th {\n",
              "        vertical-align: top;\n",
              "    }\n",
              "\n",
              "    .dataframe thead th {\n",
              "        text-align: right;\n",
              "    }\n",
              "</style>\n",
              "<table border=\"1\" class=\"dataframe\">\n",
              "  <thead>\n",
              "    <tr style=\"text-align: right;\">\n",
              "      <th></th>\n",
              "      <th>Date</th>\n",
              "      <th>L_avg_T</th>\n",
              "      <th>L_avg_T_uncert</th>\n",
              "      <th>L_max_T</th>\n",
              "      <th>L_max_T_uncert</th>\n",
              "      <th>L_min_T</th>\n",
              "      <th>L_min_T_uncert</th>\n",
              "      <th>L_O_avg_T</th>\n",
              "      <th>L_O_avg_T_uncert</th>\n",
              "    </tr>\n",
              "  </thead>\n",
              "  <tbody>\n",
              "    <tr>\n",
              "      <th>1200</th>\n",
              "      <td>1850-01-01</td>\n",
              "      <td>0.749</td>\n",
              "      <td>1.105</td>\n",
              "      <td>8.242</td>\n",
              "      <td>1.738</td>\n",
              "      <td>-3.206</td>\n",
              "      <td>2.822</td>\n",
              "      <td>12.833</td>\n",
              "      <td>0.367</td>\n",
              "    </tr>\n",
              "    <tr>\n",
              "      <th>1201</th>\n",
              "      <td>1850-02-01</td>\n",
              "      <td>3.071</td>\n",
              "      <td>1.275</td>\n",
              "      <td>9.970</td>\n",
              "      <td>3.007</td>\n",
              "      <td>-2.291</td>\n",
              "      <td>1.623</td>\n",
              "      <td>13.588</td>\n",
              "      <td>0.414</td>\n",
              "    </tr>\n",
              "    <tr>\n",
              "      <th>1202</th>\n",
              "      <td>1850-03-01</td>\n",
              "      <td>4.954</td>\n",
              "      <td>0.955</td>\n",
              "      <td>10.347</td>\n",
              "      <td>2.401</td>\n",
              "      <td>-1.905</td>\n",
              "      <td>1.410</td>\n",
              "      <td>14.043</td>\n",
              "      <td>0.341</td>\n",
              "    </tr>\n",
              "    <tr>\n",
              "      <th>1203</th>\n",
              "      <td>1850-04-01</td>\n",
              "      <td>7.217</td>\n",
              "      <td>0.665</td>\n",
              "      <td>12.934</td>\n",
              "      <td>1.004</td>\n",
              "      <td>1.018</td>\n",
              "      <td>1.329</td>\n",
              "      <td>14.667</td>\n",
              "      <td>0.267</td>\n",
              "    </tr>\n",
              "    <tr>\n",
              "      <th>1204</th>\n",
              "      <td>1850-05-01</td>\n",
              "      <td>10.004</td>\n",
              "      <td>0.617</td>\n",
              "      <td>15.655</td>\n",
              "      <td>2.406</td>\n",
              "      <td>3.811</td>\n",
              "      <td>1.347</td>\n",
              "      <td>15.507</td>\n",
              "      <td>0.249</td>\n",
              "    </tr>\n",
              "    <tr>\n",
              "      <th>...</th>\n",
              "      <td>...</td>\n",
              "      <td>...</td>\n",
              "      <td>...</td>\n",
              "      <td>...</td>\n",
              "      <td>...</td>\n",
              "      <td>...</td>\n",
              "      <td>...</td>\n",
              "      <td>...</td>\n",
              "      <td>...</td>\n",
              "    </tr>\n",
              "    <tr>\n",
              "      <th>3187</th>\n",
              "      <td>2015-08-01</td>\n",
              "      <td>14.755</td>\n",
              "      <td>0.072</td>\n",
              "      <td>20.699</td>\n",
              "      <td>0.110</td>\n",
              "      <td>9.005</td>\n",
              "      <td>0.170</td>\n",
              "      <td>17.589</td>\n",
              "      <td>0.057</td>\n",
              "    </tr>\n",
              "    <tr>\n",
              "      <th>3188</th>\n",
              "      <td>2015-09-01</td>\n",
              "      <td>12.999</td>\n",
              "      <td>0.079</td>\n",
              "      <td>18.845</td>\n",
              "      <td>0.088</td>\n",
              "      <td>7.199</td>\n",
              "      <td>0.229</td>\n",
              "      <td>17.049</td>\n",
              "      <td>0.058</td>\n",
              "    </tr>\n",
              "    <tr>\n",
              "      <th>3189</th>\n",
              "      <td>2015-10-01</td>\n",
              "      <td>10.801</td>\n",
              "      <td>0.102</td>\n",
              "      <td>16.450</td>\n",
              "      <td>0.059</td>\n",
              "      <td>5.232</td>\n",
              "      <td>0.115</td>\n",
              "      <td>16.290</td>\n",
              "      <td>0.062</td>\n",
              "    </tr>\n",
              "    <tr>\n",
              "      <th>3190</th>\n",
              "      <td>2015-11-01</td>\n",
              "      <td>7.433</td>\n",
              "      <td>0.119</td>\n",
              "      <td>12.892</td>\n",
              "      <td>0.093</td>\n",
              "      <td>2.157</td>\n",
              "      <td>0.106</td>\n",
              "      <td>15.252</td>\n",
              "      <td>0.063</td>\n",
              "    </tr>\n",
              "    <tr>\n",
              "      <th>3191</th>\n",
              "      <td>2015-12-01</td>\n",
              "      <td>5.518</td>\n",
              "      <td>0.100</td>\n",
              "      <td>10.725</td>\n",
              "      <td>0.154</td>\n",
              "      <td>0.287</td>\n",
              "      <td>0.099</td>\n",
              "      <td>14.774</td>\n",
              "      <td>0.062</td>\n",
              "    </tr>\n",
              "  </tbody>\n",
              "</table>\n",
              "<p>1992 rows × 9 columns</p>\n",
              "</div>"
            ],
            "text/plain": [
              "           Date  L_avg_T  ...  L_O_avg_T  L_O_avg_T_uncert\n",
              "1200 1850-01-01    0.749  ...     12.833             0.367\n",
              "1201 1850-02-01    3.071  ...     13.588             0.414\n",
              "1202 1850-03-01    4.954  ...     14.043             0.341\n",
              "1203 1850-04-01    7.217  ...     14.667             0.267\n",
              "1204 1850-05-01   10.004  ...     15.507             0.249\n",
              "...         ...      ...  ...        ...               ...\n",
              "3187 2015-08-01   14.755  ...     17.589             0.057\n",
              "3188 2015-09-01   12.999  ...     17.049             0.058\n",
              "3189 2015-10-01   10.801  ...     16.290             0.062\n",
              "3190 2015-11-01    7.433  ...     15.252             0.063\n",
              "3191 2015-12-01    5.518  ...     14.774             0.062\n",
              "\n",
              "[1992 rows x 9 columns]"
            ]
          },
          "metadata": {},
          "execution_count": 25
        }
      ]
    },
    {
      "cell_type": "code",
      "metadata": {
        "colab": {
          "base_uri": "https://localhost:8080/"
        },
        "id": "sfHfHp0gk_5D",
        "outputId": "f8ea0f4f-2a50-4fcb-886a-6f4a0764d62c"
      },
      "source": [
        "glt_city.isnull().sum(),\n",
        "glt_country.isnull().sum(),\n",
        "glt_majorcity.isnull().sum(),\n",
        "glt_state.isnull().sum(),\n",
        "glt.isnull().any()"
      ],
      "execution_count": null,
      "outputs": [
        {
          "output_type": "execute_result",
          "data": {
            "text/plain": [
              "Date                False\n",
              "L_avg_T             False\n",
              "L_avg_T_uncert      False\n",
              "L_max_T             False\n",
              "L_max_T_uncert      False\n",
              "L_min_T             False\n",
              "L_min_T_uncert      False\n",
              "L_O_avg_T           False\n",
              "L_O_avg_T_uncert    False\n",
              "dtype: bool"
            ]
          },
          "metadata": {},
          "execution_count": 26
        }
      ]
    },
    {
      "cell_type": "code",
      "metadata": {
        "id": "mHr9A3lVlB39"
      },
      "source": [
        ""
      ],
      "execution_count": null,
      "outputs": []
    },
    {
      "cell_type": "markdown",
      "metadata": {
        "id": "TLH7FYmKbNJi"
      },
      "source": [
        ""
      ]
    },
    {
      "cell_type": "code",
      "metadata": {
        "id": "bAWDPBu-yHwd"
      },
      "source": [
        "city=glt_city.groupby('City')"
      ],
      "execution_count": null,
      "outputs": []
    },
    {
      "cell_type": "code",
      "metadata": {
        "id": "yB5dt-PTbN-E",
        "colab": {
          "base_uri": "https://localhost:8080/"
        },
        "outputId": "d6b4de94-fb1b-4823-bdc8-890ccd9adc6a"
      },
      "source": [
        "cities=list(set(glt_city['City']))\n",
        "cities"
      ],
      "execution_count": null,
      "outputs": [
        {
          "output_type": "execute_result",
          "data": {
            "text/plain": [
              "['Anchorage',\n",
              " 'Cardiff',\n",
              " 'Dushanbe',\n",
              " 'Ryazan',\n",
              " 'Nam Dinh',\n",
              " 'Ha Noi',\n",
              " 'Florencia',\n",
              " 'Chosica',\n",
              " 'Cedar Rapids',\n",
              " 'Elektrostal',\n",
              " 'Tungi',\n",
              " 'Bello',\n",
              " 'Teófilo Otoni',\n",
              " 'Tartu',\n",
              " 'Blumenau',\n",
              " 'Visalia',\n",
              " 'Zhaotong',\n",
              " 'Bonn',\n",
              " 'Puri',\n",
              " 'Aurangabad',\n",
              " 'Chupei',\n",
              " 'Rosario',\n",
              " 'Formosa',\n",
              " 'Cavite',\n",
              " 'Manbij',\n",
              " 'Taunggyi',\n",
              " 'Saransk',\n",
              " 'Moji Das Cruzes',\n",
              " 'Dagupan',\n",
              " 'Gaya',\n",
              " 'London',\n",
              " 'Abidjan',\n",
              " 'Cisaat',\n",
              " 'Greensboro',\n",
              " 'Mathura',\n",
              " 'Soc Trang',\n",
              " 'Spokane',\n",
              " 'Tanga',\n",
              " 'Ilhéus',\n",
              " 'Wuppertal',\n",
              " 'Dandong',\n",
              " 'Rotterdam',\n",
              " 'Antananarivo',\n",
              " 'Kanchrapara',\n",
              " 'Abengourou',\n",
              " 'Shimonoseki',\n",
              " 'Tongling',\n",
              " 'Tsuchiura',\n",
              " 'Nawabganj',\n",
              " 'Iasi',\n",
              " 'Huzhou',\n",
              " 'Acapulco',\n",
              " 'Pristina',\n",
              " 'Kano',\n",
              " 'Downey',\n",
              " 'Welkom',\n",
              " 'Nador',\n",
              " 'Veraval',\n",
              " 'Funtua',\n",
              " 'Sevilla',\n",
              " 'Kindu',\n",
              " 'Zunyi',\n",
              " 'San Juan Sacatepéquez',\n",
              " 'Basirhat',\n",
              " 'Tighina',\n",
              " 'Luoyang',\n",
              " 'Mombasa',\n",
              " 'Phnum Pénh',\n",
              " 'São Vicente',\n",
              " 'Nangloi Jat',\n",
              " 'Bushehr',\n",
              " 'Eldoret',\n",
              " 'Huancayo',\n",
              " 'Jandira',\n",
              " 'Bahia Blanca',\n",
              " 'Leverkusen',\n",
              " 'Lengshuijiang',\n",
              " 'Baleshwar',\n",
              " 'Itaboraí',\n",
              " 'Brighton',\n",
              " 'Lashio',\n",
              " 'Proddatur',\n",
              " 'Sultanpur',\n",
              " 'Kisangani',\n",
              " 'Banjaran',\n",
              " 'Surendranagar',\n",
              " 'Reading',\n",
              " 'Karang Tengah',\n",
              " 'Aleppo',\n",
              " 'Kasugai',\n",
              " 'Franca',\n",
              " 'Teresópolis',\n",
              " 'Irapuato',\n",
              " 'Jiazi',\n",
              " 'Kolpino',\n",
              " 'Loni',\n",
              " 'Móstoles',\n",
              " 'Martapura',\n",
              " 'Fushun',\n",
              " 'Patna',\n",
              " 'Jixi',\n",
              " 'Quanzhou',\n",
              " 'Altay',\n",
              " 'Khuzdar',\n",
              " 'Barakpur',\n",
              " 'Siegen',\n",
              " 'Natal',\n",
              " 'Arjawinangun',\n",
              " 'Mormugao',\n",
              " 'Cap Haïtien',\n",
              " 'Hengyang',\n",
              " 'Raichur',\n",
              " 'Riyadh',\n",
              " 'Medan',\n",
              " 'Salzburg',\n",
              " 'Warqla',\n",
              " 'Zaragoza',\n",
              " 'Salvador',\n",
              " 'Sobral',\n",
              " 'Surabaya',\n",
              " 'Tulancingo',\n",
              " 'Bene Beraq',\n",
              " 'Tieli',\n",
              " 'Fatehpur',\n",
              " 'Apucarana',\n",
              " 'Ambon',\n",
              " 'Arlington',\n",
              " 'Ashqelon',\n",
              " 'Cotia',\n",
              " 'Jinzhou',\n",
              " 'Kallithéa',\n",
              " 'Otukpo',\n",
              " 'Tver',\n",
              " 'Barreiras',\n",
              " 'Jolo',\n",
              " 'Bhusawal',\n",
              " 'Maba',\n",
              " 'Mirpur Khas',\n",
              " 'Nakhodka',\n",
              " 'Cam Pha',\n",
              " 'Nigel',\n",
              " 'Baliuag',\n",
              " 'Pakokku',\n",
              " 'Kobe',\n",
              " 'Osorno',\n",
              " 'Wanxian',\n",
              " 'Xiantao',\n",
              " 'Banja Luka',\n",
              " 'Narashino',\n",
              " 'Constanta',\n",
              " 'Belgrade',\n",
              " 'Marand',\n",
              " 'Castanhal',\n",
              " 'Sikar',\n",
              " 'Bandundu',\n",
              " 'Anaheim',\n",
              " 'San Luis',\n",
              " 'Klang',\n",
              " 'Iskenderun',\n",
              " 'Chernihiv',\n",
              " 'Huntington Beach',\n",
              " 'Kismayo',\n",
              " 'Bordeaux',\n",
              " 'Kolhapur',\n",
              " 'Lusaka',\n",
              " 'Aryanah',\n",
              " 'Bac Lieu',\n",
              " 'Marília',\n",
              " 'Shymkent',\n",
              " 'Taonan',\n",
              " 'West Valley City',\n",
              " 'Qinzhou',\n",
              " 'Zhoukou',\n",
              " 'Tacna',\n",
              " 'Wahran',\n",
              " 'Brakpan',\n",
              " 'Jagadhri',\n",
              " 'Okara',\n",
              " 'Hospet',\n",
              " 'Keelung',\n",
              " 'Akishima',\n",
              " 'Suining',\n",
              " 'Yancheng',\n",
              " 'Livingstone',\n",
              " 'Coacalco',\n",
              " 'Jaramana',\n",
              " 'Ebetsu',\n",
              " 'Ajdabiya',\n",
              " 'Bridgeport',\n",
              " 'Indramayu',\n",
              " 'Qianguo',\n",
              " 'Yachiyo',\n",
              " 'Talcahuano',\n",
              " 'Etawah',\n",
              " 'Saqqez',\n",
              " 'Valparaiso',\n",
              " 'Dresden',\n",
              " 'Deoria',\n",
              " 'Longyan',\n",
              " 'Toluca',\n",
              " 'Halifax',\n",
              " 'Toronto',\n",
              " 'Oxnard',\n",
              " 'Ikere',\n",
              " 'Kalyan',\n",
              " 'Rishra',\n",
              " 'Uppsala',\n",
              " 'Huangzhou',\n",
              " 'Kandy',\n",
              " 'Kecskemét',\n",
              " 'Darbhanga',\n",
              " 'Inglewood',\n",
              " 'Larkana',\n",
              " 'Queimados',\n",
              " 'Tambov',\n",
              " 'Lexington Fayette',\n",
              " 'Kimberley',\n",
              " 'Malakal',\n",
              " 'Dordrecht',\n",
              " 'New Orleans',\n",
              " 'Brescia',\n",
              " 'Santa Cruz',\n",
              " 'Gonbad E Qabus',\n",
              " 'Achalpur',\n",
              " 'Sawai Madhopur',\n",
              " 'Offa',\n",
              " 'Shanghai',\n",
              " 'Concepcion',\n",
              " 'Moratuwa',\n",
              " 'Nossa Senhora Do Socorro',\n",
              " 'Rach Gia',\n",
              " 'Botucatu',\n",
              " 'Magelang',\n",
              " 'Moers',\n",
              " 'Catia La Mar',\n",
              " 'Koshigaya',\n",
              " 'Garut',\n",
              " 'Nkongsamba',\n",
              " 'Sibu',\n",
              " 'Waitakere',\n",
              " 'Kollam',\n",
              " 'Nandurbar',\n",
              " 'Podgorica',\n",
              " 'Seoul',\n",
              " 'Kansk',\n",
              " 'Chilpancingo',\n",
              " 'Matamoros',\n",
              " 'Abomey Calavi',\n",
              " 'Eluru',\n",
              " 'Gdansk',\n",
              " 'San Martin',\n",
              " 'Coral Springs',\n",
              " 'Emmen',\n",
              " 'Ismailia',\n",
              " 'Navoi',\n",
              " 'Tiruvannamalai',\n",
              " 'Kresek',\n",
              " 'Jiutai',\n",
              " 'Mardan',\n",
              " 'Vejalpur',\n",
              " 'Iligan',\n",
              " 'Gilbert',\n",
              " 'Olomouc',\n",
              " 'Katihar',\n",
              " 'Jackson',\n",
              " 'Kosice',\n",
              " 'Metepec',\n",
              " 'Yidu',\n",
              " 'Calama',\n",
              " 'Gudivada',\n",
              " 'Toyokawa',\n",
              " 'Ulyanovsk',\n",
              " 'Brunswick',\n",
              " 'Ciudad Guayana',\n",
              " 'Richards Bay',\n",
              " 'Karawang',\n",
              " 'Sydney',\n",
              " 'Miyakonojo',\n",
              " 'Zlatoust',\n",
              " 'Malmö',\n",
              " 'Nawabshah',\n",
              " 'Daska',\n",
              " 'Novorossiysk',\n",
              " 'Kamoke',\n",
              " 'Siverek',\n",
              " 'Taman',\n",
              " 'Ichihara',\n",
              " 'Piatra Neamt',\n",
              " 'Pueblo',\n",
              " 'Sudbury',\n",
              " 'Nouakchott',\n",
              " 'Hagen',\n",
              " 'Rewa',\n",
              " 'Rochester',\n",
              " 'Kabwe',\n",
              " 'Escuintla',\n",
              " 'Bandar E Anzali',\n",
              " 'Coventry',\n",
              " 'Pervouralsk',\n",
              " 'Shahreza',\n",
              " 'Ciputat',\n",
              " 'Trabzon',\n",
              " 'Århus',\n",
              " 'Parma',\n",
              " 'Lakhimpur',\n",
              " 'Las Palmas',\n",
              " 'São Carlos',\n",
              " 'Xingyi',\n",
              " 'Zhuzhou',\n",
              " 'Westminster',\n",
              " 'Karlsruhe',\n",
              " 'Tete',\n",
              " 'San Jose',\n",
              " 'Bouaké',\n",
              " 'Celaya',\n",
              " 'Suihua',\n",
              " 'Irbil',\n",
              " 'Ebina',\n",
              " 'Soacha',\n",
              " 'Hengshan',\n",
              " 'Chavakachcheri',\n",
              " 'Uyo',\n",
              " 'Vila Velha',\n",
              " 'Kalisz',\n",
              " 'Tachikawa',\n",
              " 'Kassel',\n",
              " 'Guanare',\n",
              " 'Asansol',\n",
              " 'Ocumare Del Tuy',\n",
              " 'Yangmei',\n",
              " 'Jalpaiguri',\n",
              " 'Bharuch',\n",
              " 'Khimki',\n",
              " 'Milagro',\n",
              " 'Suita',\n",
              " 'Tarlac',\n",
              " 'Macaé',\n",
              " 'Aurora',\n",
              " 'Calcutta',\n",
              " 'Chas',\n",
              " 'Anshan',\n",
              " 'Fort Collins',\n",
              " 'Yokkaichi',\n",
              " 'Qabis',\n",
              " 'Santa Ana',\n",
              " 'Bauchi',\n",
              " 'Salem',\n",
              " 'Tampico',\n",
              " 'Volzhskiy',\n",
              " 'Serra',\n",
              " 'Gangapur',\n",
              " 'Huelva',\n",
              " 'Fez',\n",
              " 'Fuzhou',\n",
              " 'Bangkok',\n",
              " 'Marbella',\n",
              " 'Cherkasy',\n",
              " 'Tbilisi',\n",
              " 'Nantong',\n",
              " 'Pamulang',\n",
              " 'Angarsk',\n",
              " 'Dimitrovgrad',\n",
              " 'Ashdod',\n",
              " 'Ponnani',\n",
              " 'Naihati',\n",
              " 'Agra',\n",
              " 'Bikaner',\n",
              " 'Guelph',\n",
              " 'Coquimbo',\n",
              " 'Kirov',\n",
              " 'Tartus',\n",
              " 'Imabari',\n",
              " 'Watford',\n",
              " 'Khanna',\n",
              " 'Yao',\n",
              " 'Santa Cruz De Tenerife',\n",
              " 'Bontang',\n",
              " 'Barretos',\n",
              " 'Bolton',\n",
              " 'Brikama',\n",
              " 'Syzran',\n",
              " 'Obuasi',\n",
              " 'Gujrat',\n",
              " 'Radom',\n",
              " 'Ludhiana',\n",
              " 'Jakarta',\n",
              " 'Tebingtinggi',\n",
              " 'Hrodna',\n",
              " 'Iruma',\n",
              " 'Weinan',\n",
              " 'Baton Rouge',\n",
              " 'Gombe',\n",
              " 'Mar Del Plata',\n",
              " 'Patos De Minas',\n",
              " 'Nguru',\n",
              " 'Nazret',\n",
              " 'Toliary',\n",
              " 'Anyang',\n",
              " 'Curico',\n",
              " 'El Progreso',\n",
              " 'Mau',\n",
              " 'Narayanganj',\n",
              " 'Melaka',\n",
              " 'Palu',\n",
              " 'Suleja',\n",
              " 'Tonalá',\n",
              " 'Madison',\n",
              " 'Hartford',\n",
              " 'Santa Rosa',\n",
              " 'Trujillo',\n",
              " 'Londrina',\n",
              " 'Maastricht',\n",
              " 'York',\n",
              " 'Douala',\n",
              " 'Pingxiang',\n",
              " 'Anápolis',\n",
              " 'Randfontein',\n",
              " 'Valladolid',\n",
              " 'Santiago',\n",
              " 'Antwerp',\n",
              " 'Presidente Prudente',\n",
              " 'Plumbon',\n",
              " 'Kayseri',\n",
              " 'Taganrog',\n",
              " 'Tunja',\n",
              " 'Chiang Mai',\n",
              " 'Pingdingshan',\n",
              " 'Jahrom',\n",
              " 'Bugama',\n",
              " 'Citeureup',\n",
              " 'San Lorenzo',\n",
              " 'Semarang',\n",
              " 'Petropavlovsk Kamchatskiy',\n",
              " 'Houston',\n",
              " 'Breda',\n",
              " 'Ajmer',\n",
              " 'Chihuahua',\n",
              " 'Bern',\n",
              " 'Chongqing',\n",
              " 'Getafe',\n",
              " 'Waw',\n",
              " 'Duque De Caxias',\n",
              " 'Denton',\n",
              " 'Innsbruck',\n",
              " 'Kupang',\n",
              " 'Nova Friburgo',\n",
              " 'Oulu',\n",
              " 'Ibb',\n",
              " 'Jhansi',\n",
              " 'Mwanza',\n",
              " 'Jiangmen',\n",
              " 'Nishinomiya',\n",
              " 'Onitsha',\n",
              " 'Cúcuta',\n",
              " 'Caxias Do Sul',\n",
              " 'Ratlam',\n",
              " 'Bhilwara',\n",
              " 'Guntakal',\n",
              " 'Torun',\n",
              " 'Chorzow',\n",
              " 'Ondo',\n",
              " 'Houma',\n",
              " 'Barinas',\n",
              " 'Sakai',\n",
              " 'Hiratsuka',\n",
              " 'Poá',\n",
              " 'Lubango',\n",
              " 'Shimla',\n",
              " 'Xiangdong',\n",
              " 'Mannheim',\n",
              " 'Moreno Valley',\n",
              " 'Bago',\n",
              " 'Usak',\n",
              " 'Vijayawada',\n",
              " 'Bagaha',\n",
              " 'Palermo',\n",
              " 'Kasukabe',\n",
              " 'Reykjavík',\n",
              " 'Beihai',\n",
              " 'Manzanillo',\n",
              " 'Spanish Town',\n",
              " 'Pathein',\n",
              " 'Purwakarta',\n",
              " 'Rajamahendri',\n",
              " 'Braga',\n",
              " 'Nobeoka',\n",
              " 'Laoag',\n",
              " 'Bangalore',\n",
              " 'Chaoyang',\n",
              " 'Pali',\n",
              " 'Saarbrücken',\n",
              " 'Varamin',\n",
              " 'Yüanlin',\n",
              " 'Kazan',\n",
              " 'Tychy',\n",
              " 'Dehri',\n",
              " 'Yokosuka',\n",
              " 'Gazipur',\n",
              " 'Bielsko Biala',\n",
              " 'Dehra Dun',\n",
              " 'Salerno',\n",
              " 'Huntsville',\n",
              " 'Seremban',\n",
              " 'Dahuk',\n",
              " 'Najran',\n",
              " 'Mexicali',\n",
              " 'Ueda',\n",
              " 'Parung',\n",
              " 'Neyagawa',\n",
              " 'Talara',\n",
              " 'Texcoco',\n",
              " 'Kashiwa',\n",
              " 'Maseru',\n",
              " 'Khlong Luang',\n",
              " 'San Miguelito',\n",
              " 'Habra',\n",
              " 'Rawang',\n",
              " 'Ostrava',\n",
              " 'Cuddapah',\n",
              " 'Poole',\n",
              " 'Dortmund',\n",
              " 'Craiova',\n",
              " 'Halle',\n",
              " 'Bayamo',\n",
              " 'Somerset West',\n",
              " 'Taboão Da Serra',\n",
              " 'Ishinomaki',\n",
              " 'Dubai',\n",
              " 'Vereeniging',\n",
              " 'Ensenada',\n",
              " 'Southend On Sea',\n",
              " 'Kankan',\n",
              " 'Varna',\n",
              " 'Baoding',\n",
              " 'Shikarpur',\n",
              " 'Daxian',\n",
              " 'Canoas',\n",
              " 'Zaporizhzhya',\n",
              " 'Jishu',\n",
              " 'Qarchak',\n",
              " 'Zhaodong',\n",
              " 'Magdeburg',\n",
              " 'Da Nang',\n",
              " 'Huicheng',\n",
              " 'Chalco',\n",
              " 'Bankura',\n",
              " 'Benguela',\n",
              " 'Bahawalnagar',\n",
              " 'Ayacucho',\n",
              " 'Rafsanjan',\n",
              " 'Knoxville',\n",
              " 'Chattanooga',\n",
              " 'Mianyang',\n",
              " 'Weihai',\n",
              " 'Guatemala',\n",
              " 'Aqtöbe',\n",
              " 'San Juan Del Río',\n",
              " 'Cachoeirinha',\n",
              " 'Torreón',\n",
              " 'Bettiah',\n",
              " 'Winnipeg',\n",
              " 'Karaman',\n",
              " 'Lanzhou',\n",
              " 'Bozhou',\n",
              " 'Corpus Christi',\n",
              " 'Pucallpa',\n",
              " 'San Pablo',\n",
              " 'Tiruvottiyur',\n",
              " 'Bama',\n",
              " 'Pune',\n",
              " 'Saint Petersburg',\n",
              " 'Asunción',\n",
              " 'Jaffna',\n",
              " 'Yuci',\n",
              " 'Concordia',\n",
              " 'Mitaka',\n",
              " 'Isesaki',\n",
              " 'Cleveland',\n",
              " 'Tanza',\n",
              " 'Tempe',\n",
              " 'Malambo',\n",
              " 'Olsztyn',\n",
              " 'Owerri',\n",
              " 'Luan',\n",
              " 'Ecatepec',\n",
              " 'Rancagua',\n",
              " 'Guangyuan',\n",
              " 'Kuwana',\n",
              " 'Nelspruit',\n",
              " 'Pomona',\n",
              " 'Abu Dhabi',\n",
              " 'Linxi',\n",
              " 'Tottori',\n",
              " 'Volgodonsk',\n",
              " 'Si Racha',\n",
              " 'Moscow',\n",
              " 'El Faiyûm',\n",
              " 'Ahmadabad',\n",
              " 'Guaíba',\n",
              " 'Maracanaú',\n",
              " 'Osasco',\n",
              " 'Muzaffarpur',\n",
              " 'Plano',\n",
              " 'Salta',\n",
              " 'Bobo Dioulasso',\n",
              " 'Guangshui',\n",
              " 'Quito',\n",
              " 'Catania',\n",
              " 'Chiclayo',\n",
              " 'Dakar',\n",
              " 'Acheng',\n",
              " 'Sahiwal',\n",
              " 'Shiliguri',\n",
              " 'Linfen',\n",
              " 'Vladikavkaz',\n",
              " 'Jhunjhunun',\n",
              " 'Tajimi',\n",
              " 'Fortaleza',\n",
              " 'Zhaoyang',\n",
              " 'Minneapolis',\n",
              " 'Dharmavaram',\n",
              " 'Pate',\n",
              " 'Aba',\n",
              " 'Orumiyeh',\n",
              " 'Yinchuan',\n",
              " 'Raigarh',\n",
              " 'Hargeysa',\n",
              " 'Bhavnagar',\n",
              " 'Querétaro',\n",
              " 'Gómez Palacio',\n",
              " 'Winston Salem',\n",
              " 'Kluang',\n",
              " 'Achinsk',\n",
              " 'Anshun',\n",
              " 'Las Vegas',\n",
              " 'Prague',\n",
              " 'Koriyama',\n",
              " 'Bursa',\n",
              " 'Sorong',\n",
              " 'Trelew',\n",
              " 'Skopje',\n",
              " 'Dawukou',\n",
              " 'Kalmunai',\n",
              " 'Tanjung Morawa',\n",
              " 'Porto Alegre',\n",
              " 'Siauliai',\n",
              " 'Barbacena',\n",
              " 'Mentougou',\n",
              " 'Pécs',\n",
              " 'Chimoio',\n",
              " 'Juazeiro Do Norte',\n",
              " 'Ichalkaranji',\n",
              " 'Botosani',\n",
              " 'Hsintien',\n",
              " 'Warren',\n",
              " 'Boma',\n",
              " 'Komsomolsk Na Amure',\n",
              " 'São José Do Rio Prêto',\n",
              " 'Shahr E Kord',\n",
              " 'Sanda',\n",
              " 'Fengcheng',\n",
              " 'Gent',\n",
              " 'Cachoeiro De Itapemirim',\n",
              " 'Ji Paraná',\n",
              " 'Akure',\n",
              " 'Nueva San Salvador',\n",
              " 'Punta Arenas',\n",
              " 'Ambattur',\n",
              " 'Andijon',\n",
              " 'Changji',\n",
              " 'Guatire',\n",
              " 'Piedras Negras',\n",
              " 'South Bend',\n",
              " 'Huainan',\n",
              " 'Nanchang',\n",
              " 'Azare',\n",
              " 'Ananindeua',\n",
              " 'Samarinda',\n",
              " 'Soweto',\n",
              " 'Baruta',\n",
              " 'Osmaniye',\n",
              " 'Hassan',\n",
              " 'Chhapra',\n",
              " 'Tucheng',\n",
              " 'Tekirdag',\n",
              " 'Wuwei',\n",
              " 'Ambarnath',\n",
              " 'Ede',\n",
              " 'Durrës',\n",
              " 'Cà Mau',\n",
              " 'Guarapuava',\n",
              " 'Khushab',\n",
              " 'Tarhunah',\n",
              " 'Hajipur',\n",
              " 'Surat',\n",
              " 'Poznan',\n",
              " 'Rybnik',\n",
              " 'São José',\n",
              " 'Offenbach',\n",
              " 'Kahramanmaras',\n",
              " 'Long Beach',\n",
              " 'Pulandian',\n",
              " 'Orai',\n",
              " 'Dzerzhinsk',\n",
              " 'Liuzhou',\n",
              " 'Shreveport',\n",
              " 'Kingston Upon Hull',\n",
              " 'Messina',\n",
              " 'Limoges',\n",
              " 'Khurja',\n",
              " 'Foshan',\n",
              " 'Thanyaburi',\n",
              " 'Sheffield',\n",
              " 'Bhimavaram',\n",
              " 'Kermanshah',\n",
              " 'Mixco',\n",
              " 'Stavanger',\n",
              " 'Sirsa',\n",
              " 'Swindon',\n",
              " 'Vitória',\n",
              " 'Antipolo',\n",
              " 'Didao',\n",
              " 'Culiacán',\n",
              " 'Murwara',\n",
              " 'Nagoya',\n",
              " 'Ternate',\n",
              " 'Perm',\n",
              " 'Binzhou',\n",
              " 'Tando Adam',\n",
              " 'Camagüey',\n",
              " 'Wichita',\n",
              " 'Bhadreswar',\n",
              " 'Jian',\n",
              " 'Laiwu',\n",
              " 'Astrakhan',\n",
              " 'Rancho Cucamonga',\n",
              " 'Mandsaur',\n",
              " 'Cluj Napoca',\n",
              " 'Mülheim',\n",
              " 'Sawangan',\n",
              " 'Shaoxing',\n",
              " 'Espoo',\n",
              " 'Gongzhuling',\n",
              " 'Neiva',\n",
              " 'Itagüí',\n",
              " 'Tampa',\n",
              " 'Basel',\n",
              " 'Dourados',\n",
              " 'Toda',\n",
              " 'Awka',\n",
              " 'Jamshedpur',\n",
              " 'Miramar',\n",
              " 'Novara',\n",
              " 'Volgograd',\n",
              " 'Puerto Vallarta',\n",
              " 'Yiyang',\n",
              " 'Biratnagar',\n",
              " 'Zama',\n",
              " 'Pemalang',\n",
              " 'Salalah',\n",
              " 'Longfeng',\n",
              " 'Posadas',\n",
              " 'Çorum',\n",
              " 'Sasaram',\n",
              " 'Muzaffargarh',\n",
              " 'Kyzyl',\n",
              " 'Gillingham',\n",
              " 'Botshabelo',\n",
              " 'Hindupur',\n",
              " 'Kaunas',\n",
              " 'Midrand',\n",
              " 'Regina',\n",
              " 'Rialto',\n",
              " 'Split',\n",
              " 'Hazaribag',\n",
              " 'Uruguaiana',\n",
              " 'Bamako',\n",
              " 'Walsall',\n",
              " 'Campinas',\n",
              " 'Urfa',\n",
              " 'Hayward',\n",
              " 'Dawei',\n",
              " 'Muridke',\n",
              " 'Yamoussoukro',\n",
              " 'Chofu',\n",
              " 'Birmingham',\n",
              " 'Umuahia',\n",
              " 'Zhenjiang',\n",
              " 'Freetown',\n",
              " 'Belém',\n",
              " 'Norman',\n",
              " 'Oron',\n",
              " 'Girón',\n",
              " 'Guarulhos',\n",
              " 'Nazran',\n",
              " 'San Antonio',\n",
              " 'Samarkand',\n",
              " 'Addis Abeba',\n",
              " 'Birnin Kebbi',\n",
              " 'Campina Grande',\n",
              " 'Beni Suef',\n",
              " 'Dongtai',\n",
              " 'Nazilli',\n",
              " 'Tulsa',\n",
              " 'Coronel Fabriciano',\n",
              " 'Baranagar',\n",
              " 'Anand',\n",
              " 'Koganei',\n",
              " 'Itapevi',\n",
              " 'Kamalia',\n",
              " 'Barnaul',\n",
              " 'Yenangyaung',\n",
              " 'Bristol',\n",
              " 'Copiapo',\n",
              " 'Ambur',\n",
              " 'Aracaju',\n",
              " 'Sharjah',\n",
              " 'Dera Ismail Khan',\n",
              " 'Almere',\n",
              " 'Malang',\n",
              " 'Nancha',\n",
              " 'Zhucheng',\n",
              " 'Birjand',\n",
              " 'Moshi',\n",
              " 'Nehe',\n",
              " 'Prokopyevsk',\n",
              " 'Kitami',\n",
              " 'Paderborn',\n",
              " 'Trondheim',\n",
              " 'Hanoi',\n",
              " 'Ankara',\n",
              " 'Pleven',\n",
              " 'Omuta',\n",
              " 'Charleroi',\n",
              " 'Jiayuguan',\n",
              " 'Astana',\n",
              " 'Petropavl',\n",
              " 'Ranchi',\n",
              " 'Ise',\n",
              " 'Haridwar',\n",
              " 'Miami',\n",
              " 'Bytom',\n",
              " 'Clearwater',\n",
              " 'Mauá',\n",
              " 'Shenyang',\n",
              " 'Luohe',\n",
              " 'Miskolc',\n",
              " 'Man',\n",
              " 'Irvine',\n",
              " 'Pakpattan',\n",
              " 'Ilobu',\n",
              " 'Itajaí',\n",
              " 'Itu',\n",
              " 'Ardabil',\n",
              " 'Warsaw',\n",
              " 'Nagercoil',\n",
              " 'Phoenix',\n",
              " 'Kota Kinabalu',\n",
              " 'Vitória De Santo Antão',\n",
              " 'Mahajanga',\n",
              " 'Peshawar',\n",
              " 'Ganzhou',\n",
              " 'Lipa',\n",
              " 'Davao',\n",
              " 'Prato',\n",
              " 'Banjarmasin',\n",
              " 'Stockton',\n",
              " 'Barddhaman',\n",
              " 'Kuala Lumpur',\n",
              " 'Bahadurgarh',\n",
              " 'Barueri',\n",
              " 'Hafizabad',\n",
              " 'Jalna',\n",
              " 'Durg',\n",
              " 'Sinnar',\n",
              " 'Ruda Slaska',\n",
              " 'Huaiyin',\n",
              " 'Mataram',\n",
              " 'Colima',\n",
              " 'Pavlohrad',\n",
              " 'Varanasi',\n",
              " 'San Francisco De Macorís',\n",
              " 'Tanete',\n",
              " 'Chetumal',\n",
              " 'Qunduz',\n",
              " 'Fairfield',\n",
              " 'Benoni',\n",
              " 'Cincinnati',\n",
              " 'Chifeng',\n",
              " 'Navsari',\n",
              " 'Ezhou',\n",
              " 'Dum Dum',\n",
              " 'Samut Prakan',\n",
              " 'Higüey',\n",
              " 'Eugene',\n",
              " 'Heihe',\n",
              " 'Hanover',\n",
              " 'Algiers',\n",
              " 'Birganj',\n",
              " 'Lancaster',\n",
              " 'Sakura',\n",
              " 'Wichita Falls',\n",
              " 'Weru',\n",
              " 'Milan',\n",
              " 'Faisalabad',\n",
              " 'Nis',\n",
              " 'Bogotá',\n",
              " 'Yelahanka',\n",
              " 'Barasat',\n",
              " 'Gorontalo',\n",
              " 'Kemang',\n",
              " 'Santa Clarita',\n",
              " 'Sikasso',\n",
              " 'Bujumbura',\n",
              " 'Bielefeld',\n",
              " 'Ica',\n",
              " 'Parsabad',\n",
              " 'Jinxi',\n",
              " 'Xinxiang',\n",
              " 'Sambhal',\n",
              " 'Joinville',\n",
              " 'Cheboksary',\n",
              " 'Ingraj Bazar',\n",
              " 'Akita',\n",
              " 'Västerås',\n",
              " 'Garanhuns',\n",
              " 'Philadelphia',\n",
              " 'Bisho',\n",
              " 'Belford Roxo',\n",
              " 'Lincoln',\n",
              " 'Cimahi',\n",
              " 'Wuning',\n",
              " 'Dundee',\n",
              " 'Gainesville',\n",
              " 'Titagarh',\n",
              " 'Legaspi',\n",
              " 'Timisoara',\n",
              " 'Focsani',\n",
              " 'Szczecin',\n",
              " 'Essen',\n",
              " 'Ferrara',\n",
              " 'Leshan',\n",
              " 'Rantauprapat',\n",
              " 'Nanpiao',\n",
              " 'Novotroitsk',\n",
              " 'Saint Denis',\n",
              " 'Rasht',\n",
              " 'Churu',\n",
              " 'Macapá',\n",
              " 'Istanbul',\n",
              " 'Oyama',\n",
              " 'Nakhon Pathom',\n",
              " 'Staryy Oskol',\n",
              " 'Dongling',\n",
              " 'Maturín',\n",
              " 'Sabadell',\n",
              " 'Urayasu',\n",
              " 'Udupi',\n",
              " 'Tuluá',\n",
              " 'Limeira',\n",
              " 'Palhoça',\n",
              " 'Subang',\n",
              " 'Arkhangelsk',\n",
              " 'Barrancabermeja',\n",
              " 'Minatitlán',\n",
              " 'Torrejón De Ardoz',\n",
              " 'Brisbane',\n",
              " 'Mokolo',\n",
              " 'Syracuse',\n",
              " 'Libreville',\n",
              " 'Gbongan',\n",
              " 'Jaunpur',\n",
              " 'Lawang',\n",
              " 'San Juan',\n",
              " 'Thornton',\n",
              " 'Cochabamba',\n",
              " 'Juiz De Fora',\n",
              " 'Gaomi',\n",
              " 'Yekaterinburg',\n",
              " 'Leicester',\n",
              " 'Shantipur',\n",
              " 'Arapiraca',\n",
              " 'Khartoum',\n",
              " 'Topeka',\n",
              " 'Rio Cuarto',\n",
              " 'Capiatá',\n",
              " 'Anqing',\n",
              " 'Haldia',\n",
              " 'Honghu',\n",
              " 'Karnal',\n",
              " 'Adoni',\n",
              " 'Camaragibe',\n",
              " 'North Las Vegas',\n",
              " 'Wolverhampton',\n",
              " 'Mbouda',\n",
              " 'Kamarhati',\n",
              " 'Bahraich',\n",
              " 'Parnaíba',\n",
              " 'Wenzhou',\n",
              " 'Naperville',\n",
              " ...]"
            ]
          },
          "metadata": {},
          "execution_count": 11
        }
      ]
    },
    {
      "cell_type": "code",
      "metadata": {
        "colab": {
          "base_uri": "https://localhost:8080/",
          "height": 424
        },
        "id": "AeNcBarNbOzb",
        "outputId": "30764000-84bf-4ac0-a4f9-b4286beae94c"
      },
      "source": [
        "city.get_group('Wroclaw')\n"
      ],
      "execution_count": null,
      "outputs": [
        {
          "output_type": "execute_result",
          "data": {
            "text/html": [
              "<div>\n",
              "<style scoped>\n",
              "    .dataframe tbody tr th:only-of-type {\n",
              "        vertical-align: middle;\n",
              "    }\n",
              "\n",
              "    .dataframe tbody tr th {\n",
              "        vertical-align: top;\n",
              "    }\n",
              "\n",
              "    .dataframe thead th {\n",
              "        text-align: right;\n",
              "    }\n",
              "</style>\n",
              "<table border=\"1\" class=\"dataframe\">\n",
              "  <thead>\n",
              "    <tr style=\"text-align: right;\">\n",
              "      <th></th>\n",
              "      <th>Date</th>\n",
              "      <th>Avg_Temp</th>\n",
              "      <th>Avgtemp_uncertainty</th>\n",
              "      <th>City</th>\n",
              "      <th>Country</th>\n",
              "    </tr>\n",
              "  </thead>\n",
              "  <tbody>\n",
              "    <tr>\n",
              "      <th>8255491</th>\n",
              "      <td>1743-11-01</td>\n",
              "      <td>4.494</td>\n",
              "      <td>1.700</td>\n",
              "      <td>Wroclaw</td>\n",
              "      <td>Poland</td>\n",
              "    </tr>\n",
              "    <tr>\n",
              "      <th>8255496</th>\n",
              "      <td>1744-04-01</td>\n",
              "      <td>8.309</td>\n",
              "      <td>2.644</td>\n",
              "      <td>Wroclaw</td>\n",
              "      <td>Poland</td>\n",
              "    </tr>\n",
              "    <tr>\n",
              "      <th>8255497</th>\n",
              "      <td>1744-05-01</td>\n",
              "      <td>11.037</td>\n",
              "      <td>1.401</td>\n",
              "      <td>Wroclaw</td>\n",
              "      <td>Poland</td>\n",
              "    </tr>\n",
              "    <tr>\n",
              "      <th>8255498</th>\n",
              "      <td>1744-06-01</td>\n",
              "      <td>13.725</td>\n",
              "      <td>1.409</td>\n",
              "      <td>Wroclaw</td>\n",
              "      <td>Poland</td>\n",
              "    </tr>\n",
              "    <tr>\n",
              "      <th>8255499</th>\n",
              "      <td>1744-07-01</td>\n",
              "      <td>16.047</td>\n",
              "      <td>1.423</td>\n",
              "      <td>Wroclaw</td>\n",
              "      <td>Poland</td>\n",
              "    </tr>\n",
              "    <tr>\n",
              "      <th>...</th>\n",
              "      <td>...</td>\n",
              "      <td>...</td>\n",
              "      <td>...</td>\n",
              "      <td>...</td>\n",
              "      <td>...</td>\n",
              "    </tr>\n",
              "    <tr>\n",
              "      <th>8258724</th>\n",
              "      <td>2013-04-01</td>\n",
              "      <td>7.939</td>\n",
              "      <td>0.156</td>\n",
              "      <td>Wroclaw</td>\n",
              "      <td>Poland</td>\n",
              "    </tr>\n",
              "    <tr>\n",
              "      <th>8258725</th>\n",
              "      <td>2013-05-01</td>\n",
              "      <td>12.808</td>\n",
              "      <td>0.272</td>\n",
              "      <td>Wroclaw</td>\n",
              "      <td>Poland</td>\n",
              "    </tr>\n",
              "    <tr>\n",
              "      <th>8258726</th>\n",
              "      <td>2013-06-01</td>\n",
              "      <td>16.204</td>\n",
              "      <td>0.185</td>\n",
              "      <td>Wroclaw</td>\n",
              "      <td>Poland</td>\n",
              "    </tr>\n",
              "    <tr>\n",
              "      <th>8258727</th>\n",
              "      <td>2013-07-01</td>\n",
              "      <td>19.317</td>\n",
              "      <td>0.317</td>\n",
              "      <td>Wroclaw</td>\n",
              "      <td>Poland</td>\n",
              "    </tr>\n",
              "    <tr>\n",
              "      <th>8258728</th>\n",
              "      <td>2013-08-01</td>\n",
              "      <td>18.092</td>\n",
              "      <td>0.269</td>\n",
              "      <td>Wroclaw</td>\n",
              "      <td>Poland</td>\n",
              "    </tr>\n",
              "  </tbody>\n",
              "</table>\n",
              "<p>3166 rows × 5 columns</p>\n",
              "</div>"
            ],
            "text/plain": [
              "              Date  Avg_Temp  Avgtemp_uncertainty     City Country\n",
              "8255491 1743-11-01     4.494                1.700  Wroclaw  Poland\n",
              "8255496 1744-04-01     8.309                2.644  Wroclaw  Poland\n",
              "8255497 1744-05-01    11.037                1.401  Wroclaw  Poland\n",
              "8255498 1744-06-01    13.725                1.409  Wroclaw  Poland\n",
              "8255499 1744-07-01    16.047                1.423  Wroclaw  Poland\n",
              "...            ...       ...                  ...      ...     ...\n",
              "8258724 2013-04-01     7.939                0.156  Wroclaw  Poland\n",
              "8258725 2013-05-01    12.808                0.272  Wroclaw  Poland\n",
              "8258726 2013-06-01    16.204                0.185  Wroclaw  Poland\n",
              "8258727 2013-07-01    19.317                0.317  Wroclaw  Poland\n",
              "8258728 2013-08-01    18.092                0.269  Wroclaw  Poland\n",
              "\n",
              "[3166 rows x 5 columns]"
            ]
          },
          "metadata": {},
          "execution_count": 12
        }
      ]
    },
    {
      "cell_type": "code",
      "metadata": {
        "colab": {
          "base_uri": "https://localhost:8080/",
          "height": 455
        },
        "id": "el9u0CpsbeJn",
        "outputId": "79396dba-c11f-4c20-f6d5-88bc584585ba"
      },
      "source": [
        "city.count().sort_values(by='Country')\n"
      ],
      "execution_count": null,
      "outputs": [
        {
          "output_type": "execute_result",
          "data": {
            "text/html": [
              "<div>\n",
              "<style scoped>\n",
              "    .dataframe tbody tr th:only-of-type {\n",
              "        vertical-align: middle;\n",
              "    }\n",
              "\n",
              "    .dataframe tbody tr th {\n",
              "        vertical-align: top;\n",
              "    }\n",
              "\n",
              "    .dataframe thead th {\n",
              "        text-align: right;\n",
              "    }\n",
              "</style>\n",
              "<table border=\"1\" class=\"dataframe\">\n",
              "  <thead>\n",
              "    <tr style=\"text-align: right;\">\n",
              "      <th></th>\n",
              "      <th>Date</th>\n",
              "      <th>Avg_Temp</th>\n",
              "      <th>Avgtemp_uncertainty</th>\n",
              "      <th>Country</th>\n",
              "    </tr>\n",
              "    <tr>\n",
              "      <th>City</th>\n",
              "      <th></th>\n",
              "      <th></th>\n",
              "      <th></th>\n",
              "      <th></th>\n",
              "    </tr>\n",
              "  </thead>\n",
              "  <tbody>\n",
              "    <tr>\n",
              "      <th>Chimbote</th>\n",
              "      <td>1491</td>\n",
              "      <td>1491</td>\n",
              "      <td>1491</td>\n",
              "      <td>1491</td>\n",
              "    </tr>\n",
              "    <tr>\n",
              "      <th>Trujillo</th>\n",
              "      <td>1491</td>\n",
              "      <td>1491</td>\n",
              "      <td>1491</td>\n",
              "      <td>1491</td>\n",
              "    </tr>\n",
              "    <tr>\n",
              "      <th>Chiclayo</th>\n",
              "      <td>1509</td>\n",
              "      <td>1509</td>\n",
              "      <td>1509</td>\n",
              "      <td>1509</td>\n",
              "    </tr>\n",
              "    <tr>\n",
              "      <th>Lima</th>\n",
              "      <td>1521</td>\n",
              "      <td>1521</td>\n",
              "      <td>1521</td>\n",
              "      <td>1521</td>\n",
              "    </tr>\n",
              "    <tr>\n",
              "      <th>Chosica</th>\n",
              "      <td>1521</td>\n",
              "      <td>1521</td>\n",
              "      <td>1521</td>\n",
              "      <td>1521</td>\n",
              "    </tr>\n",
              "    <tr>\n",
              "      <th>...</th>\n",
              "      <td>...</td>\n",
              "      <td>...</td>\n",
              "      <td>...</td>\n",
              "      <td>...</td>\n",
              "    </tr>\n",
              "    <tr>\n",
              "      <th>Brest</th>\n",
              "      <td>6332</td>\n",
              "      <td>6332</td>\n",
              "      <td>6332</td>\n",
              "      <td>6332</td>\n",
              "    </tr>\n",
              "    <tr>\n",
              "      <th>Rongcheng</th>\n",
              "      <td>6385</td>\n",
              "      <td>6385</td>\n",
              "      <td>6385</td>\n",
              "      <td>6385</td>\n",
              "    </tr>\n",
              "    <tr>\n",
              "      <th>León</th>\n",
              "      <td>7298</td>\n",
              "      <td>7298</td>\n",
              "      <td>7298</td>\n",
              "      <td>7298</td>\n",
              "    </tr>\n",
              "    <tr>\n",
              "      <th>Worcester</th>\n",
              "      <td>8158</td>\n",
              "      <td>8158</td>\n",
              "      <td>8158</td>\n",
              "      <td>8158</td>\n",
              "    </tr>\n",
              "    <tr>\n",
              "      <th>Springfield</th>\n",
              "      <td>9147</td>\n",
              "      <td>9147</td>\n",
              "      <td>9147</td>\n",
              "      <td>9147</td>\n",
              "    </tr>\n",
              "  </tbody>\n",
              "</table>\n",
              "<p>3448 rows × 4 columns</p>\n",
              "</div>"
            ],
            "text/plain": [
              "             Date  Avg_Temp  Avgtemp_uncertainty  Country\n",
              "City                                                     \n",
              "Chimbote     1491      1491                 1491     1491\n",
              "Trujillo     1491      1491                 1491     1491\n",
              "Chiclayo     1509      1509                 1509     1509\n",
              "Lima         1521      1521                 1521     1521\n",
              "Chosica      1521      1521                 1521     1521\n",
              "...           ...       ...                  ...      ...\n",
              "Brest        6332      6332                 6332     6332\n",
              "Rongcheng    6385      6385                 6385     6385\n",
              "León         7298      7298                 7298     7298\n",
              "Worcester    8158      8158                 8158     8158\n",
              "Springfield  9147      9147                 9147     9147\n",
              "\n",
              "[3448 rows x 4 columns]"
            ]
          },
          "metadata": {},
          "execution_count": 13
        }
      ]
    },
    {
      "cell_type": "code",
      "metadata": {
        "id": "KHTQS-zdbqab"
      },
      "source": [
        "Springfield=city.get_group('Springfield')"
      ],
      "execution_count": null,
      "outputs": []
    },
    {
      "cell_type": "code",
      "metadata": {
        "colab": {
          "base_uri": "https://localhost:8080/",
          "height": 424
        },
        "id": "ZvovGb_2b0Rq",
        "outputId": "4f595217-1121-47dd-89d7-78d6cc8f43fa"
      },
      "source": [
        "Springfield.reset_index(inplace=True)\n",
        "Springfield"
      ],
      "execution_count": null,
      "outputs": [
        {
          "output_type": "execute_result",
          "data": {
            "text/html": [
              "<div>\n",
              "<style scoped>\n",
              "    .dataframe tbody tr th:only-of-type {\n",
              "        vertical-align: middle;\n",
              "    }\n",
              "\n",
              "    .dataframe tbody tr th {\n",
              "        vertical-align: top;\n",
              "    }\n",
              "\n",
              "    .dataframe thead th {\n",
              "        text-align: right;\n",
              "    }\n",
              "</style>\n",
              "<table border=\"1\" class=\"dataframe\">\n",
              "  <thead>\n",
              "    <tr style=\"text-align: right;\">\n",
              "      <th></th>\n",
              "      <th>index</th>\n",
              "      <th>Date</th>\n",
              "      <th>Avg_Temp</th>\n",
              "      <th>Avgtemp_uncertainty</th>\n",
              "      <th>City</th>\n",
              "      <th>Country</th>\n",
              "    </tr>\n",
              "  </thead>\n",
              "  <tbody>\n",
              "    <tr>\n",
              "      <th>0</th>\n",
              "      <td>7139118</td>\n",
              "      <td>1758-03-01</td>\n",
              "      <td>6.423</td>\n",
              "      <td>3.742</td>\n",
              "      <td>Springfield</td>\n",
              "      <td>United States</td>\n",
              "    </tr>\n",
              "    <tr>\n",
              "      <th>1</th>\n",
              "      <td>7139119</td>\n",
              "      <td>1758-04-01</td>\n",
              "      <td>12.140</td>\n",
              "      <td>5.432</td>\n",
              "      <td>Springfield</td>\n",
              "      <td>United States</td>\n",
              "    </tr>\n",
              "    <tr>\n",
              "      <th>2</th>\n",
              "      <td>7139120</td>\n",
              "      <td>1758-05-01</td>\n",
              "      <td>16.998</td>\n",
              "      <td>3.760</td>\n",
              "      <td>Springfield</td>\n",
              "      <td>United States</td>\n",
              "    </tr>\n",
              "    <tr>\n",
              "      <th>3</th>\n",
              "      <td>7139121</td>\n",
              "      <td>1758-06-01</td>\n",
              "      <td>22.852</td>\n",
              "      <td>3.519</td>\n",
              "      <td>Springfield</td>\n",
              "      <td>United States</td>\n",
              "    </tr>\n",
              "    <tr>\n",
              "      <th>4</th>\n",
              "      <td>7139122</td>\n",
              "      <td>1758-07-01</td>\n",
              "      <td>25.195</td>\n",
              "      <td>4.888</td>\n",
              "      <td>Springfield</td>\n",
              "      <td>United States</td>\n",
              "    </tr>\n",
              "    <tr>\n",
              "      <th>...</th>\n",
              "      <td>...</td>\n",
              "      <td>...</td>\n",
              "      <td>...</td>\n",
              "      <td>...</td>\n",
              "      <td>...</td>\n",
              "      <td>...</td>\n",
              "    </tr>\n",
              "    <tr>\n",
              "      <th>9142</th>\n",
              "      <td>7148658</td>\n",
              "      <td>2013-05-01</td>\n",
              "      <td>14.309</td>\n",
              "      <td>0.331</td>\n",
              "      <td>Springfield</td>\n",
              "      <td>United States</td>\n",
              "    </tr>\n",
              "    <tr>\n",
              "      <th>9143</th>\n",
              "      <td>7148659</td>\n",
              "      <td>2013-06-01</td>\n",
              "      <td>19.313</td>\n",
              "      <td>0.353</td>\n",
              "      <td>Springfield</td>\n",
              "      <td>United States</td>\n",
              "    </tr>\n",
              "    <tr>\n",
              "      <th>9144</th>\n",
              "      <td>7148660</td>\n",
              "      <td>2013-07-01</td>\n",
              "      <td>23.629</td>\n",
              "      <td>0.447</td>\n",
              "      <td>Springfield</td>\n",
              "      <td>United States</td>\n",
              "    </tr>\n",
              "    <tr>\n",
              "      <th>9145</th>\n",
              "      <td>7148661</td>\n",
              "      <td>2013-08-01</td>\n",
              "      <td>19.579</td>\n",
              "      <td>0.336</td>\n",
              "      <td>Springfield</td>\n",
              "      <td>United States</td>\n",
              "    </tr>\n",
              "    <tr>\n",
              "      <th>9146</th>\n",
              "      <td>7148662</td>\n",
              "      <td>2013-09-01</td>\n",
              "      <td>15.883</td>\n",
              "      <td>1.368</td>\n",
              "      <td>Springfield</td>\n",
              "      <td>United States</td>\n",
              "    </tr>\n",
              "  </tbody>\n",
              "</table>\n",
              "<p>9147 rows × 6 columns</p>\n",
              "</div>"
            ],
            "text/plain": [
              "        index       Date  ...         City        Country\n",
              "0     7139118 1758-03-01  ...  Springfield  United States\n",
              "1     7139119 1758-04-01  ...  Springfield  United States\n",
              "2     7139120 1758-05-01  ...  Springfield  United States\n",
              "3     7139121 1758-06-01  ...  Springfield  United States\n",
              "4     7139122 1758-07-01  ...  Springfield  United States\n",
              "...       ...        ...  ...          ...            ...\n",
              "9142  7148658 2013-05-01  ...  Springfield  United States\n",
              "9143  7148659 2013-06-01  ...  Springfield  United States\n",
              "9144  7148660 2013-07-01  ...  Springfield  United States\n",
              "9145  7148661 2013-08-01  ...  Springfield  United States\n",
              "9146  7148662 2013-09-01  ...  Springfield  United States\n",
              "\n",
              "[9147 rows x 6 columns]"
            ]
          },
          "metadata": {},
          "execution_count": 15
        }
      ]
    },
    {
      "cell_type": "code",
      "metadata": {
        "colab": {
          "base_uri": "https://localhost:8080/"
        },
        "id": "AbmDvIlSb1SY",
        "outputId": "8c1ac3db-2b24-4190-b54d-cab7568fd212"
      },
      "source": [
        "Springfield.drop(['index'],axis=1,inplace=True)"
      ],
      "execution_count": null,
      "outputs": [
        {
          "output_type": "stream",
          "name": "stderr",
          "text": [
            "/usr/local/lib/python3.7/dist-packages/pandas/core/frame.py:4174: SettingWithCopyWarning: \n",
            "A value is trying to be set on a copy of a slice from a DataFrame\n",
            "\n",
            "See the caveats in the documentation: https://pandas.pydata.org/pandas-docs/stable/user_guide/indexing.html#returning-a-view-versus-a-copy\n",
            "  errors=errors,\n"
          ]
        }
      ]
    },
    {
      "cell_type": "code",
      "metadata": {
        "colab": {
          "base_uri": "https://localhost:8080/",
          "height": 424
        },
        "id": "9MDMStzZb7XG",
        "outputId": "e8370da6-59f4-4308-b203-2cfa1fb2f7b4"
      },
      "source": [
        "Springfield"
      ],
      "execution_count": null,
      "outputs": [
        {
          "output_type": "execute_result",
          "data": {
            "text/html": [
              "<div>\n",
              "<style scoped>\n",
              "    .dataframe tbody tr th:only-of-type {\n",
              "        vertical-align: middle;\n",
              "    }\n",
              "\n",
              "    .dataframe tbody tr th {\n",
              "        vertical-align: top;\n",
              "    }\n",
              "\n",
              "    .dataframe thead th {\n",
              "        text-align: right;\n",
              "    }\n",
              "</style>\n",
              "<table border=\"1\" class=\"dataframe\">\n",
              "  <thead>\n",
              "    <tr style=\"text-align: right;\">\n",
              "      <th></th>\n",
              "      <th>Date</th>\n",
              "      <th>Avg_Temp</th>\n",
              "      <th>Avgtemp_uncertainty</th>\n",
              "      <th>City</th>\n",
              "      <th>Country</th>\n",
              "    </tr>\n",
              "  </thead>\n",
              "  <tbody>\n",
              "    <tr>\n",
              "      <th>0</th>\n",
              "      <td>1758-03-01</td>\n",
              "      <td>6.423</td>\n",
              "      <td>3.742</td>\n",
              "      <td>Springfield</td>\n",
              "      <td>United States</td>\n",
              "    </tr>\n",
              "    <tr>\n",
              "      <th>1</th>\n",
              "      <td>1758-04-01</td>\n",
              "      <td>12.140</td>\n",
              "      <td>5.432</td>\n",
              "      <td>Springfield</td>\n",
              "      <td>United States</td>\n",
              "    </tr>\n",
              "    <tr>\n",
              "      <th>2</th>\n",
              "      <td>1758-05-01</td>\n",
              "      <td>16.998</td>\n",
              "      <td>3.760</td>\n",
              "      <td>Springfield</td>\n",
              "      <td>United States</td>\n",
              "    </tr>\n",
              "    <tr>\n",
              "      <th>3</th>\n",
              "      <td>1758-06-01</td>\n",
              "      <td>22.852</td>\n",
              "      <td>3.519</td>\n",
              "      <td>Springfield</td>\n",
              "      <td>United States</td>\n",
              "    </tr>\n",
              "    <tr>\n",
              "      <th>4</th>\n",
              "      <td>1758-07-01</td>\n",
              "      <td>25.195</td>\n",
              "      <td>4.888</td>\n",
              "      <td>Springfield</td>\n",
              "      <td>United States</td>\n",
              "    </tr>\n",
              "    <tr>\n",
              "      <th>...</th>\n",
              "      <td>...</td>\n",
              "      <td>...</td>\n",
              "      <td>...</td>\n",
              "      <td>...</td>\n",
              "      <td>...</td>\n",
              "    </tr>\n",
              "    <tr>\n",
              "      <th>9142</th>\n",
              "      <td>2013-05-01</td>\n",
              "      <td>14.309</td>\n",
              "      <td>0.331</td>\n",
              "      <td>Springfield</td>\n",
              "      <td>United States</td>\n",
              "    </tr>\n",
              "    <tr>\n",
              "      <th>9143</th>\n",
              "      <td>2013-06-01</td>\n",
              "      <td>19.313</td>\n",
              "      <td>0.353</td>\n",
              "      <td>Springfield</td>\n",
              "      <td>United States</td>\n",
              "    </tr>\n",
              "    <tr>\n",
              "      <th>9144</th>\n",
              "      <td>2013-07-01</td>\n",
              "      <td>23.629</td>\n",
              "      <td>0.447</td>\n",
              "      <td>Springfield</td>\n",
              "      <td>United States</td>\n",
              "    </tr>\n",
              "    <tr>\n",
              "      <th>9145</th>\n",
              "      <td>2013-08-01</td>\n",
              "      <td>19.579</td>\n",
              "      <td>0.336</td>\n",
              "      <td>Springfield</td>\n",
              "      <td>United States</td>\n",
              "    </tr>\n",
              "    <tr>\n",
              "      <th>9146</th>\n",
              "      <td>2013-09-01</td>\n",
              "      <td>15.883</td>\n",
              "      <td>1.368</td>\n",
              "      <td>Springfield</td>\n",
              "      <td>United States</td>\n",
              "    </tr>\n",
              "  </tbody>\n",
              "</table>\n",
              "<p>9147 rows × 5 columns</p>\n",
              "</div>"
            ],
            "text/plain": [
              "           Date  Avg_Temp  Avgtemp_uncertainty         City        Country\n",
              "0    1758-03-01     6.423                3.742  Springfield  United States\n",
              "1    1758-04-01    12.140                5.432  Springfield  United States\n",
              "2    1758-05-01    16.998                3.760  Springfield  United States\n",
              "3    1758-06-01    22.852                3.519  Springfield  United States\n",
              "4    1758-07-01    25.195                4.888  Springfield  United States\n",
              "...         ...       ...                  ...          ...            ...\n",
              "9142 2013-05-01    14.309                0.331  Springfield  United States\n",
              "9143 2013-06-01    19.313                0.353  Springfield  United States\n",
              "9144 2013-07-01    23.629                0.447  Springfield  United States\n",
              "9145 2013-08-01    19.579                0.336  Springfield  United States\n",
              "9146 2013-09-01    15.883                1.368  Springfield  United States\n",
              "\n",
              "[9147 rows x 5 columns]"
            ]
          },
          "metadata": {},
          "execution_count": 17
        }
      ]
    },
    {
      "cell_type": "code",
      "metadata": {
        "id": "Ok_rUtNwcnYq"
      },
      "source": [
        "Springfield_avgtemp = Springfield.reset_index()['Avg_Temp']"
      ],
      "execution_count": null,
      "outputs": []
    },
    {
      "cell_type": "code",
      "metadata": {
        "colab": {
          "base_uri": "https://localhost:8080/"
        },
        "id": "ymTkGtPYdaWT",
        "outputId": "6bd99dda-3ee4-4bde-badc-e9ebbe38b3f3"
      },
      "source": [
        "Springfield_avgtemp"
      ],
      "execution_count": null,
      "outputs": [
        {
          "output_type": "execute_result",
          "data": {
            "text/plain": [
              "0        6.423\n",
              "1       12.140\n",
              "2       16.998\n",
              "3       22.852\n",
              "4       25.195\n",
              "         ...  \n",
              "9142    14.309\n",
              "9143    19.313\n",
              "9144    23.629\n",
              "9145    19.579\n",
              "9146    15.883\n",
              "Name: Avg_Temp, Length: 9147, dtype: float64"
            ]
          },
          "metadata": {},
          "execution_count": 19
        }
      ]
    },
    {
      "cell_type": "code",
      "metadata": {
        "colab": {
          "base_uri": "https://localhost:8080/"
        },
        "id": "m-Jd-3emdbFc",
        "outputId": "5f0a9cda-3349-47e8-c256-b59ec0ef7f36"
      },
      "source": [
        "Springfield_avgtemp.shape"
      ],
      "execution_count": null,
      "outputs": [
        {
          "output_type": "execute_result",
          "data": {
            "text/plain": [
              "(9147,)"
            ]
          },
          "metadata": {},
          "execution_count": 20
        }
      ]
    },
    {
      "cell_type": "code",
      "metadata": {
        "id": "2xDe5HHXdpTI"
      },
      "source": [
        ""
      ],
      "execution_count": null,
      "outputs": []
    },
    {
      "cell_type": "code",
      "metadata": {
        "id": "W5vRevmDdz_z"
      },
      "source": [
        ""
      ],
      "execution_count": null,
      "outputs": []
    },
    {
      "cell_type": "code",
      "metadata": {
        "id": "8h4ETqADd1dA"
      },
      "source": [
        "from sklearn.preprocessing import MinMaxScaler\n",
        "\n",
        "scaler = MinMaxScaler(feature_range=(0,1))\n",
        "scaled_data = scaler.fit_transform(np.array(Springfield_avgtemp).reshape(-1,1))"
      ],
      "execution_count": null,
      "outputs": []
    },
    {
      "cell_type": "code",
      "metadata": {
        "colab": {
          "base_uri": "https://localhost:8080/"
        },
        "id": "mS5FAG78eVFa",
        "outputId": "fd335f9d-0051-43d2-aed8-2f35d145566a"
      },
      "source": [
        "type(scaled_data)\n",
        "scaled_data.shape"
      ],
      "execution_count": null,
      "outputs": [
        {
          "output_type": "execute_result",
          "data": {
            "text/plain": [
              "(9147, 1)"
            ]
          },
          "metadata": {},
          "execution_count": 22
        }
      ]
    },
    {
      "cell_type": "code",
      "metadata": {
        "id": "Cac7brkHx6JE"
      },
      "source": [
        "train_data_len = int(len(scaled_data)*.7)\n",
        "test_data_len = len(scaled_data) - train_data_len"
      ],
      "execution_count": null,
      "outputs": []
    },
    {
      "cell_type": "code",
      "metadata": {
        "id": "HTRKdkdIeWc2"
      },
      "source": [
        "#Create train data and Test data\n",
        "\n",
        "train_data= scaled_data[0:train_data_len,:]\n",
        "test_data = scaled_data[train_data_len:len(scaled_data),:1]"
      ],
      "execution_count": null,
      "outputs": []
    },
    {
      "cell_type": "code",
      "metadata": {
        "colab": {
          "base_uri": "https://localhost:8080/"
        },
        "id": "eeCFsmzoikfW",
        "outputId": "7498de41-f5b0-4813-9b96-8eeaa7f7f306"
      },
      "source": [
        "len(train_data),len(test_data)"
      ],
      "execution_count": null,
      "outputs": [
        {
          "output_type": "execute_result",
          "data": {
            "text/plain": [
              "(6402, 2745)"
            ]
          },
          "metadata": {},
          "execution_count": 25
        }
      ]
    },
    {
      "cell_type": "code",
      "metadata": {
        "id": "nXnWpfDxioZm"
      },
      "source": [
        "def create_dataset(dataset,time_step=1):\n",
        "  Xdata=[]\n",
        "  Ydata=[]\n",
        "  for i in range(len(dataset)-time_step-1):\n",
        "    a = dataset[i:(i+time_step),0]\n",
        "    Xdata.append(a)\n",
        "    Ydata.append(dataset[i + time_step, 0])\n",
        "  return np.array(Xdata) , np.array(Ydata)\n"
      ],
      "execution_count": null,
      "outputs": []
    },
    {
      "cell_type": "code",
      "metadata": {
        "id": "2_HBOSLtj8U0"
      },
      "source": [
        "time_step = 7\n",
        "\n",
        "Xtrain , ytrain = create_dataset(train_data,time_step)\n",
        "Xtest , ytest = create_dataset(test_data,time_step)"
      ],
      "execution_count": null,
      "outputs": []
    },
    {
      "cell_type": "code",
      "metadata": {
        "colab": {
          "base_uri": "https://localhost:8080/"
        },
        "id": "GfYw_rY7kOaq",
        "outputId": "b57275b9-5772-4095-9960-fe16c3c69a79"
      },
      "source": [
        "Xtrain.shape,ytrain.shape"
      ],
      "execution_count": null,
      "outputs": [
        {
          "output_type": "execute_result",
          "data": {
            "text/plain": [
              "((6394, 7), (6394,))"
            ]
          },
          "metadata": {},
          "execution_count": 28
        }
      ]
    },
    {
      "cell_type": "code",
      "metadata": {
        "colab": {
          "base_uri": "https://localhost:8080/"
        },
        "id": "575apjTrkPut",
        "outputId": "af64b218-ba6d-49c3-c901-4e9e8272c52a"
      },
      "source": [
        "Xtest.shape , ytest.shape"
      ],
      "execution_count": null,
      "outputs": [
        {
          "output_type": "execute_result",
          "data": {
            "text/plain": [
              "((2737, 7), (2737,))"
            ]
          },
          "metadata": {},
          "execution_count": 29
        }
      ]
    },
    {
      "cell_type": "code",
      "metadata": {
        "colab": {
          "base_uri": "https://localhost:8080/"
        },
        "id": "vCmRxx_GkjqQ",
        "outputId": "20ea9f9b-1727-47e3-8b19-a5c487870f82"
      },
      "source": [
        "Xtrain[3],ytrain[3]"
      ],
      "execution_count": null,
      "outputs": [
        {
          "output_type": "execute_result",
          "data": {
            "text/plain": [
              "(array([0.81474364, 0.87033478, 0.81123212, 0.7100624 , 0.43844164,\n",
              "        0.28244003, 0.30142122]), 0.35781906185493634)"
            ]
          },
          "metadata": {},
          "execution_count": 30
        }
      ]
    },
    {
      "cell_type": "code",
      "metadata": {
        "colab": {
          "base_uri": "https://localhost:8080/"
        },
        "id": "F545R6dHnZYZ",
        "outputId": "8e5544fb-89aa-4039-8389-271d94b23b37"
      },
      "source": [
        "Xtrain[4],ytrain[4]\n"
      ],
      "execution_count": null,
      "outputs": [
        {
          "output_type": "execute_result",
          "data": {
            "text/plain": [
              "(array([0.87033478, 0.81123212, 0.7100624 , 0.43844164, 0.28244003,\n",
              "        0.30142122, 0.35781906]), 0.4469594514437564)"
            ]
          },
          "metadata": {},
          "execution_count": 31
        }
      ]
    },
    {
      "cell_type": "code",
      "metadata": {
        "id": "6vYE2fG2krG_"
      },
      "source": [
        "xtrain = Xtrain.reshape(Xtrain.shape[0],Xtrain.shape[1],1)\n",
        "xtest = Xtest.reshape(Xtest.shape[0],Xtest.shape[1],1)"
      ],
      "execution_count": null,
      "outputs": []
    },
    {
      "cell_type": "code",
      "metadata": {
        "colab": {
          "base_uri": "https://localhost:8080/"
        },
        "id": "D6S8TsXIle0n",
        "outputId": "352abb49-8900-4eac-e75d-6ae206fc2481"
      },
      "source": [
        "xtrain.shape,xtest.shape"
      ],
      "execution_count": null,
      "outputs": [
        {
          "output_type": "execute_result",
          "data": {
            "text/plain": [
              "((6394, 7, 1), (2737, 7, 1))"
            ]
          },
          "metadata": {},
          "execution_count": 33
        }
      ]
    },
    {
      "cell_type": "code",
      "metadata": {
        "id": "BPzltC0_lg_S"
      },
      "source": [
        "from tensorflow.keras import Sequential\n",
        "from tensorflow.keras.layers import LSTM,Dense,Dropout\n"
      ],
      "execution_count": null,
      "outputs": []
    },
    {
      "cell_type": "code",
      "metadata": {
        "id": "g3h3ZCM1mQBb"
      },
      "source": [
        "model = Sequential()\n",
        "\n",
        "model.add(LSTM(50, return_sequences=True,input_shape = (xtrain.shape[1],1)))\n",
        "model.add(Dropout(0.2))\n",
        "\n",
        "model.add(LSTM(50, return_sequences=True))\n",
        "model.add(Dropout(0.2))\n",
        "\n",
        "model.add(LSTM(50, return_sequences=False))\n",
        "model.add(Dropout(0.2))\n",
        "\n",
        "model.add(Dense(50))\n",
        "model.add(Dense(1))\n",
        "\n",
        "\n"
      ],
      "execution_count": null,
      "outputs": []
    },
    {
      "cell_type": "code",
      "metadata": {
        "colab": {
          "base_uri": "https://localhost:8080/"
        },
        "id": "TnXe_EBznABn",
        "outputId": "4aabb610-9706-463f-9011-eaa69f60b444"
      },
      "source": [
        "model.summary()"
      ],
      "execution_count": null,
      "outputs": [
        {
          "output_type": "stream",
          "name": "stdout",
          "text": [
            "Model: \"sequential\"\n",
            "_________________________________________________________________\n",
            "Layer (type)                 Output Shape              Param #   \n",
            "=================================================================\n",
            "lstm (LSTM)                  (None, 7, 50)             10400     \n",
            "_________________________________________________________________\n",
            "dropout (Dropout)            (None, 7, 50)             0         \n",
            "_________________________________________________________________\n",
            "lstm_1 (LSTM)                (None, 7, 50)             20200     \n",
            "_________________________________________________________________\n",
            "dropout_1 (Dropout)          (None, 7, 50)             0         \n",
            "_________________________________________________________________\n",
            "lstm_2 (LSTM)                (None, 50)                20200     \n",
            "_________________________________________________________________\n",
            "dropout_2 (Dropout)          (None, 50)                0         \n",
            "_________________________________________________________________\n",
            "dense (Dense)                (None, 50)                2550      \n",
            "_________________________________________________________________\n",
            "dense_1 (Dense)              (None, 1)                 51        \n",
            "=================================================================\n",
            "Total params: 53,401\n",
            "Trainable params: 53,401\n",
            "Non-trainable params: 0\n",
            "_________________________________________________________________\n"
          ]
        }
      ]
    },
    {
      "cell_type": "code",
      "metadata": {
        "id": "qFJeKnC0nBpr"
      },
      "source": [
        "model.compile(optimizer='adam',loss='mean_squared_error',metrics=['accuracy'])"
      ],
      "execution_count": null,
      "outputs": []
    },
    {
      "cell_type": "code",
      "metadata": {
        "colab": {
          "base_uri": "https://localhost:8080/"
        },
        "id": "RAyIEczMnN8A",
        "outputId": "46676a78-1d54-449e-d70a-714f0e53751c"
      },
      "source": [
        "model.fit(xtrain,ytrain,validation_data=(xtest,ytest),epochs=10,batch_size=54,verbose=1)"
      ],
      "execution_count": null,
      "outputs": [
        {
          "output_type": "stream",
          "name": "stdout",
          "text": [
            "Epoch 1/10\n",
            "119/119 [==============================] - 9s 34ms/step - loss: 0.0663 - accuracy: 1.5640e-04 - val_loss: 0.0620 - val_accuracy: 0.0000e+00\n",
            "Epoch 2/10\n",
            "119/119 [==============================] - 3s 21ms/step - loss: 0.0151 - accuracy: 1.5640e-04 - val_loss: 0.0600 - val_accuracy: 3.6536e-04\n",
            "Epoch 3/10\n",
            "119/119 [==============================] - 3s 21ms/step - loss: 0.0134 - accuracy: 1.5640e-04 - val_loss: 0.0392 - val_accuracy: 3.6536e-04\n",
            "Epoch 4/10\n",
            "119/119 [==============================] - 3s 21ms/step - loss: 0.0126 - accuracy: 1.5640e-04 - val_loss: 0.0538 - val_accuracy: 3.6536e-04\n",
            "Epoch 5/10\n",
            "119/119 [==============================] - 2s 21ms/step - loss: 0.0125 - accuracy: 1.5640e-04 - val_loss: 0.0385 - val_accuracy: 3.6536e-04\n",
            "Epoch 6/10\n",
            "119/119 [==============================] - 3s 21ms/step - loss: 0.0118 - accuracy: 1.5640e-04 - val_loss: 0.0495 - val_accuracy: 3.6536e-04\n",
            "Epoch 7/10\n",
            "119/119 [==============================] - 3s 21ms/step - loss: 0.0111 - accuracy: 1.5640e-04 - val_loss: 0.0488 - val_accuracy: 3.6536e-04\n",
            "Epoch 8/10\n",
            "119/119 [==============================] - 3s 22ms/step - loss: 0.0106 - accuracy: 1.5640e-04 - val_loss: 0.0453 - val_accuracy: 3.6536e-04\n",
            "Epoch 9/10\n",
            "119/119 [==============================] - 3s 21ms/step - loss: 0.0097 - accuracy: 1.5640e-04 - val_loss: 0.0373 - val_accuracy: 3.6536e-04\n",
            "Epoch 10/10\n",
            "119/119 [==============================] - 2s 21ms/step - loss: 0.0085 - accuracy: 1.5640e-04 - val_loss: 0.0307 - val_accuracy: 3.6536e-04\n"
          ]
        },
        {
          "output_type": "execute_result",
          "data": {
            "text/plain": [
              "<keras.callbacks.History at 0x7f6ed7b07310>"
            ]
          },
          "metadata": {},
          "execution_count": 38
        }
      ]
    },
    {
      "cell_type": "code",
      "metadata": {
        "id": "93VrmxI0nuAE"
      },
      "source": [
        "train_predict = model.predict(xtrain)\n",
        "test_predict = model.predict(xtest)"
      ],
      "execution_count": null,
      "outputs": []
    },
    {
      "cell_type": "code",
      "metadata": {
        "id": "14w6dgMbwTH9"
      },
      "source": [
        "train_predict = scaler.inverse_transform(train_predict)\n",
        "test_predict = scaler.inverse_transform(test_predict)\n"
      ],
      "execution_count": null,
      "outputs": []
    },
    {
      "cell_type": "code",
      "metadata": {
        "colab": {
          "base_uri": "https://localhost:8080/"
        },
        "id": "7ctP_UBdvhQK",
        "outputId": "1b3a6308-a3df-4baf-84b7-f9efc8754bf3"
      },
      "source": [
        "import math\n",
        "from sklearn.metrics import mean_squared_error\n",
        "math.sqrt(mean_squared_error(ytrain,train_predict))"
      ],
      "execution_count": null,
      "outputs": [
        {
          "output_type": "execute_result",
          "data": {
            "text/plain": [
              "14.921760140373065"
            ]
          },
          "metadata": {},
          "execution_count": 41
        }
      ]
    },
    {
      "cell_type": "code",
      "metadata": {
        "colab": {
          "base_uri": "https://localhost:8080/"
        },
        "id": "M3KKy3iYv6l3",
        "outputId": "f5c9b048-9f11-4bda-a526-7db7926ca20a"
      },
      "source": [
        "math.sqrt(mean_squared_error(ytest,test_predict))"
      ],
      "execution_count": null,
      "outputs": [
        {
          "output_type": "execute_result",
          "data": {
            "text/plain": [
              "15.572323512152145"
            ]
          },
          "metadata": {},
          "execution_count": 42
        }
      ]
    },
    {
      "cell_type": "code",
      "metadata": {
        "colab": {
          "base_uri": "https://localhost:8080/",
          "height": 537
        },
        "id": "pIaRF9z-wxpm",
        "outputId": "352c8f23-83b2-48e8-8757-e07bd0dc2c34"
      },
      "source": [
        "look_back = 7\n",
        "trainPredictPlot = np.empty_like(scaled_data)\n",
        "trainPredictPlot[:, :] = np.nan\n",
        "trainPredictPlot[look_back:len(train_predict)+look_back, :] = train_predict\n",
        "\n",
        "testPredictPlot = np.empty_like(scaled_data)\n",
        "testPredictPlot[:, :] = np.nan\n",
        "testPredictPlot[len(train_predict)+(look_back*2)+1:len(scaled_data)-1, :] = test_predict\n",
        "\n",
        "\n",
        "plt.figure(figsize=(18,9))\n",
        "plt.plot(scaler.inverse_transform(scaled_data))\n",
        "plt.plot(trainPredictPlot)\n",
        "plt.plot(testPredictPlot)\n",
        "plt.show()\n"
      ],
      "execution_count": null,
      "outputs": [
        {
          "output_type": "display_data",
          "data": {
            "image/png": "[encoded data removed]",
            "text/plain": [
              "<Figure size 1296x648 with 1 Axes>"
            ]
          },
          "metadata": {
            "needs_background": "light"
          }
        }
      ]
    },
    {
      "cell_type": "code",
      "metadata": {
        "colab": {
          "base_uri": "https://localhost:8080/"
        },
        "id": "E0qa6Ivb2iRg",
        "outputId": "2b2bb445-cc3d-4686-9707-75fb19e7a5ea"
      },
      "source": [
        "len(test_data)"
      ],
      "execution_count": null,
      "outputs": [
        {
          "output_type": "execute_result",
          "data": {
            "text/plain": [
              "2745"
            ]
          },
          "metadata": {},
          "execution_count": 44
        }
      ]
    },
    {
      "cell_type": "code",
      "metadata": {
        "colab": {
          "base_uri": "https://localhost:8080/"
        },
        "id": "yGd9-gij3vZ2",
        "outputId": "8b0c1af9-4a2f-4d5c-d06f-9b64ed1ae484"
      },
      "source": [
        "x_input = test_data[2738:].reshape(1,-1)\n",
        "x_input.shape"
      ],
      "execution_count": null,
      "outputs": [
        {
          "output_type": "execute_result",
          "data": {
            "text/plain": [
              "(1, 7)"
            ]
          },
          "metadata": {},
          "execution_count": 47
        }
      ]
    },
    {
      "cell_type": "code",
      "metadata": {
        "id": "VZlpCTWZ3xlj"
      },
      "source": [
        "temp_input=list(x_input)\n",
        "temp_input = temp_input[0].tolist()"
      ],
      "execution_count": null,
      "outputs": []
    },
    {
      "cell_type": "code",
      "metadata": {
        "id": "jf_S17Cj4jj8",
        "colab": {
          "base_uri": "https://localhost:8080/"
        },
        "outputId": "ff31e7e9-eee2-48f6-d129-3556f340833f"
      },
      "source": [
        "temp_input"
      ],
      "execution_count": null,
      "outputs": [
        {
          "output_type": "execute_result",
          "data": {
            "text/plain": [
              "[0.28913089899636985,\n",
              " 0.4486677580847984,\n",
              " 0.6120483071155718,\n",
              " 0.7307756186679953,\n",
              " 0.8331791112060172,\n",
              " 0.7370868626474008,\n",
              " 0.6493937884072414]"
            ]
          },
          "metadata": {},
          "execution_count": 49
        }
      ]
    },
    {
      "cell_type": "code",
      "metadata": {
        "colab": {
          "base_uri": "https://localhost:8080/"
        },
        "id": "tAa5GBG84lOB",
        "outputId": "13fb2ab1-82e0-4ede-dbbe-7e5cc034cb4c"
      },
      "source": [
        "from numpy import array\n",
        "\n",
        "lst_output= []\n",
        "n_steps = 7\n",
        "i = 0\n",
        "\n",
        "while (i<7):\n",
        "  if len(temp_input)>7:\n",
        "      x_input = np.array(temp_input[1:])\n",
        "      print(\"{} day input {}\".format(i,x_input))\n",
        "      x_input = x_input.reshape(1,-1)\n",
        "      x_input = x_input.reshape((1, n_steps, 1)) \n",
        "\n",
        "      yhat = model.predict(x_input,verbose=0)\n",
        "      print(\"{} day input {}\".format(i,yhat))\n",
        "      temp_input.extend(yhat[0].tolist())\n",
        "      temp_input = temp_input[1:]\n",
        "      lst_output.extend(yhat.tolist())\n",
        "      i = i+1\n",
        "\n",
        "  else:\n",
        "      x_input = x_input.reshape((1,n_steps,1))\n",
        "      yhat = model.predict(x_input,verbose=0)\n",
        "      print(yhat[0])\n",
        "      temp_input.extend(yhat[0].tolist())\n",
        "      print(len(temp_input))\n",
        "      lst_output.extend(yhat.tolist())\n",
        "      i = i+1\n",
        "\n",
        "print(lst_output)"
      ],
      "execution_count": null,
      "outputs": [
        {
          "output_type": "stream",
          "name": "stdout",
          "text": [
            "[0.6390729]\n",
            "8\n",
            "1 day input [0.44866776 0.61204831 0.73077562 0.83317911 0.73708686 0.64939379\n",
            " 0.6390729 ]\n",
            "1 day input [[0.5263237]]\n",
            "2 day input [0.61204831 0.73077562 0.83317911 0.73708686 0.64939379 0.6390729\n",
            " 0.52632368]\n",
            "2 day input [[0.45281422]]\n",
            "3 day input [0.73077562 0.83317911 0.73708686 0.64939379 0.6390729  0.52632368\n",
            " 0.45281422]\n",
            "3 day input [[0.42468905]]\n",
            "4 day input [0.83317911 0.73708686 0.64939379 0.6390729  0.52632368 0.45281422\n",
            " 0.42468905]\n",
            "4 day input [[0.4420716]]\n",
            "5 day input [0.73708686 0.64939379 0.6390729  0.52632368 0.45281422 0.42468905\n",
            " 0.44207159]\n",
            "5 day input [[0.49926937]]\n",
            "6 day input [0.64939379 0.6390729  0.52632368 0.45281422 0.42468905 0.44207159\n",
            " 0.49926937]\n",
            "6 day input [[0.5686847]]\n",
            "[[0.6390728950500488], [0.526323676109314], [0.4528142213821411], [0.42468905448913574], [0.4420715868473053], [0.49926936626434326], [0.5686846971511841]]\n"
          ]
        }
      ]
    },
    {
      "cell_type": "code",
      "metadata": {
        "id": "jG1kZ3pd7r9C"
      },
      "source": [
        "day_new = np.arange(1,8)\n",
        "day_pred = np.arange(8,15)"
      ],
      "execution_count": null,
      "outputs": []
    },
    {
      "cell_type": "code",
      "metadata": {
        "colab": {
          "base_uri": "https://localhost:8080/"
        },
        "id": "kJsAptJO-sxd",
        "outputId": "5c240829-8cec-4527-c63b-267570162eec"
      },
      "source": [
        "len(scaled_data)"
      ],
      "execution_count": null,
      "outputs": [
        {
          "output_type": "execute_result",
          "data": {
            "text/plain": [
              "9147"
            ]
          },
          "metadata": {},
          "execution_count": 52
        }
      ]
    },
    {
      "cell_type": "code",
      "metadata": {
        "id": "5mnnIMar-y_O"
      },
      "source": [
        "df3 = scaled_data.tolist()\n",
        "df3.extend(lst_output)"
      ],
      "execution_count": null,
      "outputs": []
    },
    {
      "cell_type": "code",
      "metadata": {
        "colab": {
          "base_uri": "https://localhost:8080/",
          "height": 282
        },
        "id": "zJJdHjPn-7wp",
        "outputId": "16afca03-cacf-445c-ae94-8292e00a3735"
      },
      "source": [
        "plt.plot(day_new,scaler.inverse_transform(scaled_data[9140:]))\n",
        "plt.plot(day_pred,scaler.inverse_transform(lst_output))"
      ],
      "execution_count": null,
      "outputs": [
        {
          "output_type": "execute_result",
          "data": {
            "text/plain": [
              "[<matplotlib.lines.Line2D at 0x7f6ed3448050>]"
            ]
          },
          "metadata": {},
          "execution_count": 55
        },
        {
          "output_type": "display_data",
          "data": {
            "image/png": "[encoded data removed]",
            "text/plain": [
              "<Figure size 432x288 with 1 Axes>"
            ]
          },
          "metadata": {
            "needs_background": "light"
          }
        }
      ]
    },
    {
      "cell_type": "code",
      "metadata": {
        "id": "AQ1S0Uk7_TQ5"
      },
      "source": [
        ""
      ],
      "execution_count": null,
      "outputs": []
    },
    {
      "cell_type": "code",
      "metadata": {
        "id": "bbwBLIP3_bRo"
      },
      "source": [
        ""
      ],
      "execution_count": null,
      "outputs": []
    }
  ]
}