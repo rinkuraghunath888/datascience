{
  "nbformat": 4,
  "nbformat_minor": 0,
  "metadata": {
    "colab": {
      "name": "weather_data.ipynb",
      "provenance": [],
      "collapsed_sections": []
    },
    "kernelspec": {
      "name": "python3",
      "display_name": "Python 3"
    },
    "language_info": {
      "name": "python"
    },
    "accelerator": "GPU"
  },
  "cells": [
    {
      "cell_type": "code",
      "metadata": {
        "id": "xod2o3VlKyOc"
      },
      "source": [
        "import numpy as np\n",
        "import matplotlib.pyplot as plt\n",
        "import pandas as pd\n",
        "from sklearn.preprocessing import MinMaxScaler"
      ],
      "execution_count": null,
      "outputs": []
    },
    {
      "cell_type": "code",
      "metadata": {
        "colab": {
          "base_uri": "https://localhost:8080/",
          "height": 423
        },
        "id": "vJNPG5MNLOaR",
        "outputId": "4b2e8b56-0f16-4772-80c9-462835527fcb"
      },
      "source": [
        "data=pd.read_csv(\"/content/drive/MyDrive/global/GlobalLandTemperatures_GlobalLandTemperaturesByMajorCity.csv\")\n",
        "data"
      ],
      "execution_count": null,
      "outputs": [
        {
          "output_type": "execute_result",
          "data": {
            "text/html": [
              "<div>\n",
              "<style scoped>\n",
              "    .dataframe tbody tr th:only-of-type {\n",
              "        vertical-align: middle;\n",
              "    }\n",
              "\n",
              "    .dataframe tbody tr th {\n",
              "        vertical-align: top;\n",
              "    }\n",
              "\n",
              "    .dataframe thead th {\n",
              "        text-align: right;\n",
              "    }\n",
              "</style>\n",
              "<table border=\"1\" class=\"dataframe\">\n",
              "  <thead>\n",
              "    <tr style=\"text-align: right;\">\n",
              "      <th></th>\n",
              "      <th>dt</th>\n",
              "      <th>AverageTemperature</th>\n",
              "      <th>AverageTemperatureUncertainty</th>\n",
              "      <th>City</th>\n",
              "      <th>Country</th>\n",
              "      <th>Latitude</th>\n",
              "      <th>Longitude</th>\n",
              "    </tr>\n",
              "  </thead>\n",
              "  <tbody>\n",
              "    <tr>\n",
              "      <th>0</th>\n",
              "      <td>1849-01-01</td>\n",
              "      <td>26.704</td>\n",
              "      <td>1.435</td>\n",
              "      <td>Abidjan</td>\n",
              "      <td>Côte D'Ivoire</td>\n",
              "      <td>5.63N</td>\n",
              "      <td>3.23W</td>\n",
              "    </tr>\n",
              "    <tr>\n",
              "      <th>1</th>\n",
              "      <td>1849-02-01</td>\n",
              "      <td>27.434</td>\n",
              "      <td>1.362</td>\n",
              "      <td>Abidjan</td>\n",
              "      <td>Côte D'Ivoire</td>\n",
              "      <td>5.63N</td>\n",
              "      <td>3.23W</td>\n",
              "    </tr>\n",
              "    <tr>\n",
              "      <th>2</th>\n",
              "      <td>1849-03-01</td>\n",
              "      <td>28.101</td>\n",
              "      <td>1.612</td>\n",
              "      <td>Abidjan</td>\n",
              "      <td>Côte D'Ivoire</td>\n",
              "      <td>5.63N</td>\n",
              "      <td>3.23W</td>\n",
              "    </tr>\n",
              "    <tr>\n",
              "      <th>3</th>\n",
              "      <td>1849-04-01</td>\n",
              "      <td>26.140</td>\n",
              "      <td>1.387</td>\n",
              "      <td>Abidjan</td>\n",
              "      <td>Côte D'Ivoire</td>\n",
              "      <td>5.63N</td>\n",
              "      <td>3.23W</td>\n",
              "    </tr>\n",
              "    <tr>\n",
              "      <th>4</th>\n",
              "      <td>1849-05-01</td>\n",
              "      <td>25.427</td>\n",
              "      <td>1.200</td>\n",
              "      <td>Abidjan</td>\n",
              "      <td>Côte D'Ivoire</td>\n",
              "      <td>5.63N</td>\n",
              "      <td>3.23W</td>\n",
              "    </tr>\n",
              "    <tr>\n",
              "      <th>...</th>\n",
              "      <td>...</td>\n",
              "      <td>...</td>\n",
              "      <td>...</td>\n",
              "      <td>...</td>\n",
              "      <td>...</td>\n",
              "      <td>...</td>\n",
              "      <td>...</td>\n",
              "    </tr>\n",
              "    <tr>\n",
              "      <th>239172</th>\n",
              "      <td>2013-05-01</td>\n",
              "      <td>18.979</td>\n",
              "      <td>0.807</td>\n",
              "      <td>Xian</td>\n",
              "      <td>China</td>\n",
              "      <td>34.56N</td>\n",
              "      <td>108.97E</td>\n",
              "    </tr>\n",
              "    <tr>\n",
              "      <th>239173</th>\n",
              "      <td>2013-06-01</td>\n",
              "      <td>23.522</td>\n",
              "      <td>0.647</td>\n",
              "      <td>Xian</td>\n",
              "      <td>China</td>\n",
              "      <td>34.56N</td>\n",
              "      <td>108.97E</td>\n",
              "    </tr>\n",
              "    <tr>\n",
              "      <th>239174</th>\n",
              "      <td>2013-07-01</td>\n",
              "      <td>25.251</td>\n",
              "      <td>1.042</td>\n",
              "      <td>Xian</td>\n",
              "      <td>China</td>\n",
              "      <td>34.56N</td>\n",
              "      <td>108.97E</td>\n",
              "    </tr>\n",
              "    <tr>\n",
              "      <th>239175</th>\n",
              "      <td>2013-08-01</td>\n",
              "      <td>24.528</td>\n",
              "      <td>0.840</td>\n",
              "      <td>Xian</td>\n",
              "      <td>China</td>\n",
              "      <td>34.56N</td>\n",
              "      <td>108.97E</td>\n",
              "    </tr>\n",
              "    <tr>\n",
              "      <th>239176</th>\n",
              "      <td>2013-09-01</td>\n",
              "      <td>NaN</td>\n",
              "      <td>NaN</td>\n",
              "      <td>Xian</td>\n",
              "      <td>China</td>\n",
              "      <td>34.56N</td>\n",
              "      <td>108.97E</td>\n",
              "    </tr>\n",
              "  </tbody>\n",
              "</table>\n",
              "<p>239177 rows × 7 columns</p>\n",
              "</div>"
            ],
            "text/plain": [
              "                dt  AverageTemperature  ...  Latitude Longitude\n",
              "0       1849-01-01              26.704  ...     5.63N     3.23W\n",
              "1       1849-02-01              27.434  ...     5.63N     3.23W\n",
              "2       1849-03-01              28.101  ...     5.63N     3.23W\n",
              "3       1849-04-01              26.140  ...     5.63N     3.23W\n",
              "4       1849-05-01              25.427  ...     5.63N     3.23W\n",
              "...            ...                 ...  ...       ...       ...\n",
              "239172  2013-05-01              18.979  ...    34.56N   108.97E\n",
              "239173  2013-06-01              23.522  ...    34.56N   108.97E\n",
              "239174  2013-07-01              25.251  ...    34.56N   108.97E\n",
              "239175  2013-08-01              24.528  ...    34.56N   108.97E\n",
              "239176  2013-09-01                 NaN  ...    34.56N   108.97E\n",
              "\n",
              "[239177 rows x 7 columns]"
            ]
          },
          "metadata": {},
          "execution_count": 5
        }
      ]
    },
    {
      "cell_type": "code",
      "metadata": {
        "colab": {
          "base_uri": "https://localhost:8080/"
        },
        "id": "tcmR4P6xkiFg",
        "outputId": "aac6fc91-2f75-418b-caeb-93eb02ef742a"
      },
      "source": [
        "from google.colab import drive\n",
        "drive.mount('/content/drive')"
      ],
      "execution_count": null,
      "outputs": [
        {
          "output_type": "stream",
          "name": "stdout",
          "text": [
            "Drive already mounted at /content/drive; to attempt to forcibly remount, call drive.mount(\"/content/drive\", force_remount=True).\n"
          ]
        }
      ]
    },
    {
      "cell_type": "code",
      "metadata": {
        "colab": {
          "base_uri": "https://localhost:8080/"
        },
        "id": "qAEpeWzdTK_f",
        "outputId": "8aa25389-678e-4b6b-b761-7c7b255d1450"
      },
      "source": [
        "data.isnull().sum()"
      ],
      "execution_count": null,
      "outputs": [
        {
          "output_type": "execute_result",
          "data": {
            "text/plain": [
              "dt                                   0\n",
              "AverageTemperature               11002\n",
              "AverageTemperatureUncertainty    11002\n",
              "City                                 0\n",
              "Country                              0\n",
              "Latitude                             0\n",
              "Longitude                            0\n",
              "dtype: int64"
            ]
          },
          "metadata": {},
          "execution_count": 7
        }
      ]
    },
    {
      "cell_type": "code",
      "metadata": {
        "id": "9QlQU3HHY3VM"
      },
      "source": [
        "a=data[\"AverageTemperature\"].mean()"
      ],
      "execution_count": null,
      "outputs": []
    },
    {
      "cell_type": "code",
      "metadata": {
        "colab": {
          "base_uri": "https://localhost:8080/"
        },
        "id": "6mzw84Q7ZQ3e",
        "outputId": "eb67d7c5-1068-4bc7-c9b7-09cda5f13e7a"
      },
      "source": [
        "a"
      ],
      "execution_count": null,
      "outputs": [
        {
          "output_type": "execute_result",
          "data": {
            "text/plain": [
              "18.1259688528542"
            ]
          },
          "metadata": {},
          "execution_count": 9
        }
      ]
    },
    {
      "cell_type": "code",
      "metadata": {
        "id": "nVnbEqdMTY_L"
      },
      "source": [
        "data['AverageTemperature'] = data['AverageTemperature'].fillna(a)"
      ],
      "execution_count": null,
      "outputs": []
    },
    {
      "cell_type": "code",
      "metadata": {
        "colab": {
          "base_uri": "https://localhost:8080/"
        },
        "id": "QqXgrI4_ZWuO",
        "outputId": "62db22b2-0ee4-4b1f-e7b0-f8024f6a78fe"
      },
      "source": [
        "b=data[\"AverageTemperatureUncertainty\"].mean()\n",
        "b"
      ],
      "execution_count": null,
      "outputs": [
        {
          "output_type": "execute_result",
          "data": {
            "text/plain": [
              "0.9693434381505606"
            ]
          },
          "metadata": {},
          "execution_count": 11
        }
      ]
    },
    {
      "cell_type": "code",
      "metadata": {
        "id": "HHC8fvDQVOgL"
      },
      "source": [
        "data['AverageTemperatureUncertainty'] = data['AverageTemperatureUncertainty'].fillna(b)"
      ],
      "execution_count": null,
      "outputs": []
    },
    {
      "cell_type": "code",
      "metadata": {
        "colab": {
          "base_uri": "https://localhost:8080/"
        },
        "id": "LvkGodCMVqJT",
        "outputId": "ce39af1a-eee3-4b47-9c5d-55cbb2f0fca8"
      },
      "source": [
        "data.isnull().any()"
      ],
      "execution_count": null,
      "outputs": [
        {
          "output_type": "execute_result",
          "data": {
            "text/plain": [
              "dt                               False\n",
              "AverageTemperature               False\n",
              "AverageTemperatureUncertainty    False\n",
              "City                             False\n",
              "Country                          False\n",
              "Latitude                         False\n",
              "Longitude                        False\n",
              "dtype: bool"
            ]
          },
          "metadata": {},
          "execution_count": 13
        }
      ]
    },
    {
      "cell_type": "code",
      "metadata": {
        "id": "TAmwLkcmVxbM"
      },
      "source": [
        "from sklearn.preprocessing import LabelEncoder"
      ],
      "execution_count": null,
      "outputs": []
    },
    {
      "cell_type": "code",
      "metadata": {
        "id": "i9-xHhuYbTJu"
      },
      "source": [
        "lb=LabelEncoder()"
      ],
      "execution_count": null,
      "outputs": []
    },
    {
      "cell_type": "code",
      "metadata": {
        "id": "t8mlG2WQbp9v"
      },
      "source": [
        "data[\"City\"]=lb.fit_transform(data[\"City\"])\n",
        "data[\"Country\"]=lb.fit_transform(data[\"Country\"])"
      ],
      "execution_count": null,
      "outputs": []
    },
    {
      "cell_type": "code",
      "metadata": {
        "colab": {
          "base_uri": "https://localhost:8080/",
          "height": 206
        },
        "id": "-mH07r0TcKdX",
        "outputId": "989a24e4-e1c1-4751-b5b4-e6c0da6c567e"
      },
      "source": [
        "data.head()"
      ],
      "execution_count": null,
      "outputs": [
        {
          "output_type": "execute_result",
          "data": {
            "text/html": [
              "<div>\n",
              "<style scoped>\n",
              "    .dataframe tbody tr th:only-of-type {\n",
              "        vertical-align: middle;\n",
              "    }\n",
              "\n",
              "    .dataframe tbody tr th {\n",
              "        vertical-align: top;\n",
              "    }\n",
              "\n",
              "    .dataframe thead th {\n",
              "        text-align: right;\n",
              "    }\n",
              "</style>\n",
              "<table border=\"1\" class=\"dataframe\">\n",
              "  <thead>\n",
              "    <tr style=\"text-align: right;\">\n",
              "      <th></th>\n",
              "      <th>dt</th>\n",
              "      <th>AverageTemperature</th>\n",
              "      <th>AverageTemperatureUncertainty</th>\n",
              "      <th>City</th>\n",
              "      <th>Country</th>\n",
              "      <th>Latitude</th>\n",
              "      <th>Longitude</th>\n",
              "    </tr>\n",
              "  </thead>\n",
              "  <tbody>\n",
              "    <tr>\n",
              "      <th>0</th>\n",
              "      <td>1849-01-01</td>\n",
              "      <td>26.704</td>\n",
              "      <td>1.435</td>\n",
              "      <td>0</td>\n",
              "      <td>11</td>\n",
              "      <td>5.63N</td>\n",
              "      <td>3.23W</td>\n",
              "    </tr>\n",
              "    <tr>\n",
              "      <th>1</th>\n",
              "      <td>1849-02-01</td>\n",
              "      <td>27.434</td>\n",
              "      <td>1.362</td>\n",
              "      <td>0</td>\n",
              "      <td>11</td>\n",
              "      <td>5.63N</td>\n",
              "      <td>3.23W</td>\n",
              "    </tr>\n",
              "    <tr>\n",
              "      <th>2</th>\n",
              "      <td>1849-03-01</td>\n",
              "      <td>28.101</td>\n",
              "      <td>1.612</td>\n",
              "      <td>0</td>\n",
              "      <td>11</td>\n",
              "      <td>5.63N</td>\n",
              "      <td>3.23W</td>\n",
              "    </tr>\n",
              "    <tr>\n",
              "      <th>3</th>\n",
              "      <td>1849-04-01</td>\n",
              "      <td>26.140</td>\n",
              "      <td>1.387</td>\n",
              "      <td>0</td>\n",
              "      <td>11</td>\n",
              "      <td>5.63N</td>\n",
              "      <td>3.23W</td>\n",
              "    </tr>\n",
              "    <tr>\n",
              "      <th>4</th>\n",
              "      <td>1849-05-01</td>\n",
              "      <td>25.427</td>\n",
              "      <td>1.200</td>\n",
              "      <td>0</td>\n",
              "      <td>11</td>\n",
              "      <td>5.63N</td>\n",
              "      <td>3.23W</td>\n",
              "    </tr>\n",
              "  </tbody>\n",
              "</table>\n",
              "</div>"
            ],
            "text/plain": [
              "           dt  AverageTemperature  ...  Latitude  Longitude\n",
              "0  1849-01-01              26.704  ...     5.63N      3.23W\n",
              "1  1849-02-01              27.434  ...     5.63N      3.23W\n",
              "2  1849-03-01              28.101  ...     5.63N      3.23W\n",
              "3  1849-04-01              26.140  ...     5.63N      3.23W\n",
              "4  1849-05-01              25.427  ...     5.63N      3.23W\n",
              "\n",
              "[5 rows x 7 columns]"
            ]
          },
          "metadata": {},
          "execution_count": 17
        }
      ]
    },
    {
      "cell_type": "code",
      "metadata": {
        "id": "A4Yd9XRncNVV"
      },
      "source": [
        "data[\"dt\"]=pd.to_datetime(data[\"dt\"])"
      ],
      "execution_count": null,
      "outputs": []
    },
    {
      "cell_type": "code",
      "metadata": {
        "id": "8osXffkMebdY"
      },
      "source": [
        "data.set_index([\"dt\"],inplace=True)"
      ],
      "execution_count": null,
      "outputs": []
    },
    {
      "cell_type": "code",
      "metadata": {
        "colab": {
          "base_uri": "https://localhost:8080/",
          "height": 238
        },
        "id": "b_HvATfOe-w-",
        "outputId": "e43cc603-87c8-4548-cdcb-b86ad7c134c3"
      },
      "source": [
        "data.head()"
      ],
      "execution_count": null,
      "outputs": [
        {
          "output_type": "execute_result",
          "data": {
            "text/html": [
              "<div>\n",
              "<style scoped>\n",
              "    .dataframe tbody tr th:only-of-type {\n",
              "        vertical-align: middle;\n",
              "    }\n",
              "\n",
              "    .dataframe tbody tr th {\n",
              "        vertical-align: top;\n",
              "    }\n",
              "\n",
              "    .dataframe thead th {\n",
              "        text-align: right;\n",
              "    }\n",
              "</style>\n",
              "<table border=\"1\" class=\"dataframe\">\n",
              "  <thead>\n",
              "    <tr style=\"text-align: right;\">\n",
              "      <th></th>\n",
              "      <th>AverageTemperature</th>\n",
              "      <th>AverageTemperatureUncertainty</th>\n",
              "      <th>City</th>\n",
              "      <th>Country</th>\n",
              "      <th>Latitude</th>\n",
              "      <th>Longitude</th>\n",
              "    </tr>\n",
              "    <tr>\n",
              "      <th>dt</th>\n",
              "      <th></th>\n",
              "      <th></th>\n",
              "      <th></th>\n",
              "      <th></th>\n",
              "      <th></th>\n",
              "      <th></th>\n",
              "    </tr>\n",
              "  </thead>\n",
              "  <tbody>\n",
              "    <tr>\n",
              "      <th>1849-01-01</th>\n",
              "      <td>26.704</td>\n",
              "      <td>1.435</td>\n",
              "      <td>0</td>\n",
              "      <td>11</td>\n",
              "      <td>5.63N</td>\n",
              "      <td>3.23W</td>\n",
              "    </tr>\n",
              "    <tr>\n",
              "      <th>1849-02-01</th>\n",
              "      <td>27.434</td>\n",
              "      <td>1.362</td>\n",
              "      <td>0</td>\n",
              "      <td>11</td>\n",
              "      <td>5.63N</td>\n",
              "      <td>3.23W</td>\n",
              "    </tr>\n",
              "    <tr>\n",
              "      <th>1849-03-01</th>\n",
              "      <td>28.101</td>\n",
              "      <td>1.612</td>\n",
              "      <td>0</td>\n",
              "      <td>11</td>\n",
              "      <td>5.63N</td>\n",
              "      <td>3.23W</td>\n",
              "    </tr>\n",
              "    <tr>\n",
              "      <th>1849-04-01</th>\n",
              "      <td>26.140</td>\n",
              "      <td>1.387</td>\n",
              "      <td>0</td>\n",
              "      <td>11</td>\n",
              "      <td>5.63N</td>\n",
              "      <td>3.23W</td>\n",
              "    </tr>\n",
              "    <tr>\n",
              "      <th>1849-05-01</th>\n",
              "      <td>25.427</td>\n",
              "      <td>1.200</td>\n",
              "      <td>0</td>\n",
              "      <td>11</td>\n",
              "      <td>5.63N</td>\n",
              "      <td>3.23W</td>\n",
              "    </tr>\n",
              "  </tbody>\n",
              "</table>\n",
              "</div>"
            ],
            "text/plain": [
              "            AverageTemperature  ...  Longitude\n",
              "dt                              ...           \n",
              "1849-01-01              26.704  ...      3.23W\n",
              "1849-02-01              27.434  ...      3.23W\n",
              "1849-03-01              28.101  ...      3.23W\n",
              "1849-04-01              26.140  ...      3.23W\n",
              "1849-05-01              25.427  ...      3.23W\n",
              "\n",
              "[5 rows x 6 columns]"
            ]
          },
          "metadata": {},
          "execution_count": 20
        }
      ]
    },
    {
      "cell_type": "code",
      "metadata": {
        "id": "iFHfj-5xfBKV"
      },
      "source": [
        "from sklearn.cluster import KMeans"
      ],
      "execution_count": null,
      "outputs": []
    },
    {
      "cell_type": "code",
      "metadata": {
        "id": "aMvz0qksgJvo"
      },
      "source": [
        "x=data[[\"AverageTemperature\",\"AverageTemperatureUncertainty\",\"City\",\"Country\"]]"
      ],
      "execution_count": null,
      "outputs": []
    },
    {
      "cell_type": "code",
      "metadata": {
        "id": "Fio0mzOZgv02"
      },
      "source": [
        "k_range=range(1,16)"
      ],
      "execution_count": null,
      "outputs": []
    },
    {
      "cell_type": "code",
      "metadata": {
        "id": "0b6Evrnug5pK"
      },
      "source": [
        "sse=[]"
      ],
      "execution_count": null,
      "outputs": []
    },
    {
      "cell_type": "code",
      "metadata": {
        "id": "_uTLPlHyg-XG"
      },
      "source": [
        "for i in k_range:\n",
        "    model=KMeans(n_clusters=i)\n",
        "    model.fit_predict(x)\n",
        "    sse.append(model.inertia_)"
      ],
      "execution_count": null,
      "outputs": []
    },
    {
      "cell_type": "code",
      "metadata": {
        "colab": {
          "base_uri": "https://localhost:8080/",
          "height": 276
        },
        "id": "K0hd9HVlhFaj",
        "outputId": "af049ee8-9bb2-4aff-f710-8a13fa6c014a"
      },
      "source": [
        "plt.plot(k_range,sse,marker='o',color='black')\n",
        "plt.grid()"
      ],
      "execution_count": null,
      "outputs": [
        {
          "output_type": "display_data",
          "data": {
            "image/png": "[encoded data removed]",
            "text/plain": [
              "<Figure size 432x288 with 1 Axes>"
            ]
          },
          "metadata": {
            "needs_background": "light"
          }
        }
      ]
    },
    {
      "cell_type": "code",
      "metadata": {
        "id": "udxo-9nzhbnh"
      },
      "source": [
        "model=KMeans(n_clusters=3)"
      ],
      "execution_count": null,
      "outputs": []
    },
    {
      "cell_type": "code",
      "metadata": {
        "colab": {
          "base_uri": "https://localhost:8080/"
        },
        "id": "fRJJUITwhl9s",
        "outputId": "df5a2394-48bf-4af5-b76e-3d4137cfd6d9"
      },
      "source": [
        "y_predict=model.fit_predict(x)\n",
        "y_predict"
      ],
      "execution_count": null,
      "outputs": [
        {
          "output_type": "execute_result",
          "data": {
            "text/plain": [
              "array([1, 1, 1, ..., 2, 2, 2], dtype=int32)"
            ]
          },
          "metadata": {},
          "execution_count": 43
        }
      ]
    },
    {
      "cell_type": "code",
      "metadata": {
        "colab": {
          "base_uri": "https://localhost:8080/",
          "height": 455
        },
        "id": "u_2otkEyhqz4",
        "outputId": "54f96c8f-9f8d-4189-c507-0a7d93066685"
      },
      "source": [
        "data['label']=y_predict\n",
        "data"
      ],
      "execution_count": null,
      "outputs": [
        {
          "output_type": "execute_result",
          "data": {
            "text/html": [
              "<div>\n",
              "<style scoped>\n",
              "    .dataframe tbody tr th:only-of-type {\n",
              "        vertical-align: middle;\n",
              "    }\n",
              "\n",
              "    .dataframe tbody tr th {\n",
              "        vertical-align: top;\n",
              "    }\n",
              "\n",
              "    .dataframe thead th {\n",
              "        text-align: right;\n",
              "    }\n",
              "</style>\n",
              "<table border=\"1\" class=\"dataframe\">\n",
              "  <thead>\n",
              "    <tr style=\"text-align: right;\">\n",
              "      <th></th>\n",
              "      <th>AverageTemperature</th>\n",
              "      <th>AverageTemperatureUncertainty</th>\n",
              "      <th>City</th>\n",
              "      <th>Country</th>\n",
              "      <th>Latitude</th>\n",
              "      <th>Longitude</th>\n",
              "      <th>label</th>\n",
              "    </tr>\n",
              "    <tr>\n",
              "      <th>dt</th>\n",
              "      <th></th>\n",
              "      <th></th>\n",
              "      <th></th>\n",
              "      <th></th>\n",
              "      <th></th>\n",
              "      <th></th>\n",
              "      <th></th>\n",
              "    </tr>\n",
              "  </thead>\n",
              "  <tbody>\n",
              "    <tr>\n",
              "      <th>1849-01-01</th>\n",
              "      <td>26.704000</td>\n",
              "      <td>1.435000</td>\n",
              "      <td>0</td>\n",
              "      <td>11</td>\n",
              "      <td>5.63N</td>\n",
              "      <td>3.23W</td>\n",
              "      <td>1</td>\n",
              "    </tr>\n",
              "    <tr>\n",
              "      <th>1849-02-01</th>\n",
              "      <td>27.434000</td>\n",
              "      <td>1.362000</td>\n",
              "      <td>0</td>\n",
              "      <td>11</td>\n",
              "      <td>5.63N</td>\n",
              "      <td>3.23W</td>\n",
              "      <td>1</td>\n",
              "    </tr>\n",
              "    <tr>\n",
              "      <th>1849-03-01</th>\n",
              "      <td>28.101000</td>\n",
              "      <td>1.612000</td>\n",
              "      <td>0</td>\n",
              "      <td>11</td>\n",
              "      <td>5.63N</td>\n",
              "      <td>3.23W</td>\n",
              "      <td>1</td>\n",
              "    </tr>\n",
              "    <tr>\n",
              "      <th>1849-04-01</th>\n",
              "      <td>26.140000</td>\n",
              "      <td>1.387000</td>\n",
              "      <td>0</td>\n",
              "      <td>11</td>\n",
              "      <td>5.63N</td>\n",
              "      <td>3.23W</td>\n",
              "      <td>1</td>\n",
              "    </tr>\n",
              "    <tr>\n",
              "      <th>1849-05-01</th>\n",
              "      <td>25.427000</td>\n",
              "      <td>1.200000</td>\n",
              "      <td>0</td>\n",
              "      <td>11</td>\n",
              "      <td>5.63N</td>\n",
              "      <td>3.23W</td>\n",
              "      <td>1</td>\n",
              "    </tr>\n",
              "    <tr>\n",
              "      <th>...</th>\n",
              "      <td>...</td>\n",
              "      <td>...</td>\n",
              "      <td>...</td>\n",
              "      <td>...</td>\n",
              "      <td>...</td>\n",
              "      <td>...</td>\n",
              "      <td>...</td>\n",
              "    </tr>\n",
              "    <tr>\n",
              "      <th>2013-05-01</th>\n",
              "      <td>18.979000</td>\n",
              "      <td>0.807000</td>\n",
              "      <td>99</td>\n",
              "      <td>8</td>\n",
              "      <td>34.56N</td>\n",
              "      <td>108.97E</td>\n",
              "      <td>2</td>\n",
              "    </tr>\n",
              "    <tr>\n",
              "      <th>2013-06-01</th>\n",
              "      <td>23.522000</td>\n",
              "      <td>0.647000</td>\n",
              "      <td>99</td>\n",
              "      <td>8</td>\n",
              "      <td>34.56N</td>\n",
              "      <td>108.97E</td>\n",
              "      <td>2</td>\n",
              "    </tr>\n",
              "    <tr>\n",
              "      <th>2013-07-01</th>\n",
              "      <td>25.251000</td>\n",
              "      <td>1.042000</td>\n",
              "      <td>99</td>\n",
              "      <td>8</td>\n",
              "      <td>34.56N</td>\n",
              "      <td>108.97E</td>\n",
              "      <td>2</td>\n",
              "    </tr>\n",
              "    <tr>\n",
              "      <th>2013-08-01</th>\n",
              "      <td>24.528000</td>\n",
              "      <td>0.840000</td>\n",
              "      <td>99</td>\n",
              "      <td>8</td>\n",
              "      <td>34.56N</td>\n",
              "      <td>108.97E</td>\n",
              "      <td>2</td>\n",
              "    </tr>\n",
              "    <tr>\n",
              "      <th>2013-09-01</th>\n",
              "      <td>18.125969</td>\n",
              "      <td>0.969343</td>\n",
              "      <td>99</td>\n",
              "      <td>8</td>\n",
              "      <td>34.56N</td>\n",
              "      <td>108.97E</td>\n",
              "      <td>2</td>\n",
              "    </tr>\n",
              "  </tbody>\n",
              "</table>\n",
              "<p>239177 rows × 7 columns</p>\n",
              "</div>"
            ],
            "text/plain": [
              "            AverageTemperature  AverageTemperatureUncertainty  ...  Longitude  label\n",
              "dt                                                             ...                  \n",
              "1849-01-01           26.704000                       1.435000  ...      3.23W      1\n",
              "1849-02-01           27.434000                       1.362000  ...      3.23W      1\n",
              "1849-03-01           28.101000                       1.612000  ...      3.23W      1\n",
              "1849-04-01           26.140000                       1.387000  ...      3.23W      1\n",
              "1849-05-01           25.427000                       1.200000  ...      3.23W      1\n",
              "...                        ...                            ...  ...        ...    ...\n",
              "2013-05-01           18.979000                       0.807000  ...    108.97E      2\n",
              "2013-06-01           23.522000                       0.647000  ...    108.97E      2\n",
              "2013-07-01           25.251000                       1.042000  ...    108.97E      2\n",
              "2013-08-01           24.528000                       0.840000  ...    108.97E      2\n",
              "2013-09-01           18.125969                       0.969343  ...    108.97E      2\n",
              "\n",
              "[239177 rows x 7 columns]"
            ]
          },
          "metadata": {},
          "execution_count": 44
        }
      ]
    },
    {
      "cell_type": "code",
      "metadata": {
        "colab": {
          "base_uri": "https://localhost:8080/",
          "height": 500
        },
        "id": "AC5KyrjXhz6p",
        "outputId": "69ab4973-80a5-4b69-acf9-aed389989f4b"
      },
      "source": [
        "group1=data[data['label']==0]\n",
        "group2=data[data['label']==1]\n",
        "group3=data[data['label']==2]\n",
        "plt.figure(figsize=(8,8))\n",
        "plt.scatter(group1['AverageTemperatureUncertainty'],group1['City'],color='red',marker=\"o\")\n",
        "plt.scatter(group2['AverageTemperatureUncertainty'],group2['City'],color='green',marker=\"o\")\n",
        "plt.scatter(group3['AverageTemperatureUncertainty'],group3['City'],color='yellow',marker=\"o\")"
      ],
      "execution_count": null,
      "outputs": [
        {
          "output_type": "execute_result",
          "data": {
            "text/plain": [
              "<matplotlib.collections.PathCollection at 0x7f661b8be9d0>"
            ]
          },
          "metadata": {},
          "execution_count": 51
        },
        {
          "output_type": "display_data",
          "data": {
            "image/png": "[encoded data removed]",
            "text/plain": [
              "<Figure size 576x576 with 1 Axes>"
            ]
          },
          "metadata": {
            "needs_background": "light"
          }
        }
      ]
    },
    {
      "cell_type": "code",
      "metadata": {
        "id": "jsGkw0YPi8K8"
      },
      "source": [
        ""
      ],
      "execution_count": null,
      "outputs": []
    }
  ]
}